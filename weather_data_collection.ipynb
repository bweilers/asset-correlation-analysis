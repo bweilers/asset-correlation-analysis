{
 "cells": [
  {
   "cell_type": "code",
   "execution_count": 35,
   "metadata": {},
   "outputs": [],
   "source": [
    "# Initial imports\n",
    "import pandas as pd\n",
    "import numpy as np\n",
    "import datetime as dt\n",
    "# import seaborn as sns\n",
    "# from pathlib import Path\n",
    "import pandas_datareader as web\n",
    "import requests\n",
    "from dotenv import load_dotenv\n",
    "import os\n",
    "import pprint"
   ]
  },
  {
   "cell_type": "code",
   "execution_count": 2,
   "metadata": {},
   "outputs": [
    {
     "data": {
      "text/html": [
       "<div>\n",
       "<style scoped>\n",
       "    .dataframe tbody tr th:only-of-type {\n",
       "        vertical-align: middle;\n",
       "    }\n",
       "\n",
       "    .dataframe tbody tr th {\n",
       "        vertical-align: top;\n",
       "    }\n",
       "\n",
       "    .dataframe thead th {\n",
       "        text-align: right;\n",
       "    }\n",
       "</style>\n",
       "<table border=\"1\" class=\"dataframe\">\n",
       "  <thead>\n",
       "    <tr style=\"text-align: right;\">\n",
       "      <th></th>\n",
       "      <th>High</th>\n",
       "      <th>Low</th>\n",
       "      <th>Open</th>\n",
       "      <th>Close</th>\n",
       "      <th>Volume</th>\n",
       "      <th>Adj Close</th>\n",
       "    </tr>\n",
       "    <tr>\n",
       "      <th>Date</th>\n",
       "      <th></th>\n",
       "      <th></th>\n",
       "      <th></th>\n",
       "      <th></th>\n",
       "      <th></th>\n",
       "      <th></th>\n",
       "    </tr>\n",
       "  </thead>\n",
       "  <tbody>\n",
       "    <tr>\n",
       "      <th>2017-10-31</th>\n",
       "      <td>2578.290039</td>\n",
       "      <td>2572.149902</td>\n",
       "      <td>2575.989990</td>\n",
       "      <td>2575.260010</td>\n",
       "      <td>3827230000</td>\n",
       "      <td>2575.260010</td>\n",
       "    </tr>\n",
       "    <tr>\n",
       "      <th>2017-11-01</th>\n",
       "      <td>2588.399902</td>\n",
       "      <td>2574.919922</td>\n",
       "      <td>2583.209961</td>\n",
       "      <td>2579.360107</td>\n",
       "      <td>3813180000</td>\n",
       "      <td>2579.360107</td>\n",
       "    </tr>\n",
       "    <tr>\n",
       "      <th>2017-11-02</th>\n",
       "      <td>2581.110107</td>\n",
       "      <td>2566.169922</td>\n",
       "      <td>2579.459961</td>\n",
       "      <td>2579.850098</td>\n",
       "      <td>4048270000</td>\n",
       "      <td>2579.850098</td>\n",
       "    </tr>\n",
       "    <tr>\n",
       "      <th>2017-11-03</th>\n",
       "      <td>2588.419922</td>\n",
       "      <td>2576.770020</td>\n",
       "      <td>2581.929932</td>\n",
       "      <td>2587.840088</td>\n",
       "      <td>3567710000</td>\n",
       "      <td>2587.840088</td>\n",
       "    </tr>\n",
       "    <tr>\n",
       "      <th>2017-11-06</th>\n",
       "      <td>2593.379883</td>\n",
       "      <td>2585.659912</td>\n",
       "      <td>2587.469971</td>\n",
       "      <td>2591.129883</td>\n",
       "      <td>3539080000</td>\n",
       "      <td>2591.129883</td>\n",
       "    </tr>\n",
       "    <tr>\n",
       "      <th>...</th>\n",
       "      <td>...</td>\n",
       "      <td>...</td>\n",
       "      <td>...</td>\n",
       "      <td>...</td>\n",
       "      <td>...</td>\n",
       "      <td>...</td>\n",
       "    </tr>\n",
       "    <tr>\n",
       "      <th>2022-10-25</th>\n",
       "      <td>3862.850098</td>\n",
       "      <td>3799.439941</td>\n",
       "      <td>3799.439941</td>\n",
       "      <td>3859.110107</td>\n",
       "      <td>4843120000</td>\n",
       "      <td>3859.110107</td>\n",
       "    </tr>\n",
       "    <tr>\n",
       "      <th>2022-10-26</th>\n",
       "      <td>3886.149902</td>\n",
       "      <td>3824.070068</td>\n",
       "      <td>3825.969971</td>\n",
       "      <td>3830.600098</td>\n",
       "      <td>4817310000</td>\n",
       "      <td>3830.600098</td>\n",
       "    </tr>\n",
       "    <tr>\n",
       "      <th>2022-10-27</th>\n",
       "      <td>3859.949951</td>\n",
       "      <td>3803.790039</td>\n",
       "      <td>3834.689941</td>\n",
       "      <td>3807.300049</td>\n",
       "      <td>4687320000</td>\n",
       "      <td>3807.300049</td>\n",
       "    </tr>\n",
       "    <tr>\n",
       "      <th>2022-10-28</th>\n",
       "      <td>3905.419922</td>\n",
       "      <td>3808.260010</td>\n",
       "      <td>3808.260010</td>\n",
       "      <td>3901.060059</td>\n",
       "      <td>4459410000</td>\n",
       "      <td>3901.060059</td>\n",
       "    </tr>\n",
       "    <tr>\n",
       "      <th>2022-10-31</th>\n",
       "      <td>3893.729980</td>\n",
       "      <td>3863.179932</td>\n",
       "      <td>3881.850098</td>\n",
       "      <td>3871.979980</td>\n",
       "      <td>4820620000</td>\n",
       "      <td>3871.979980</td>\n",
       "    </tr>\n",
       "  </tbody>\n",
       "</table>\n",
       "<p>1259 rows × 6 columns</p>\n",
       "</div>"
      ],
      "text/plain": [
       "                   High          Low         Open        Close      Volume  \\\n",
       "Date                                                                         \n",
       "2017-10-31  2578.290039  2572.149902  2575.989990  2575.260010  3827230000   \n",
       "2017-11-01  2588.399902  2574.919922  2583.209961  2579.360107  3813180000   \n",
       "2017-11-02  2581.110107  2566.169922  2579.459961  2579.850098  4048270000   \n",
       "2017-11-03  2588.419922  2576.770020  2581.929932  2587.840088  3567710000   \n",
       "2017-11-06  2593.379883  2585.659912  2587.469971  2591.129883  3539080000   \n",
       "...                 ...          ...          ...          ...         ...   \n",
       "2022-10-25  3862.850098  3799.439941  3799.439941  3859.110107  4843120000   \n",
       "2022-10-26  3886.149902  3824.070068  3825.969971  3830.600098  4817310000   \n",
       "2022-10-27  3859.949951  3803.790039  3834.689941  3807.300049  4687320000   \n",
       "2022-10-28  3905.419922  3808.260010  3808.260010  3901.060059  4459410000   \n",
       "2022-10-31  3893.729980  3863.179932  3881.850098  3871.979980  4820620000   \n",
       "\n",
       "              Adj Close  \n",
       "Date                     \n",
       "2017-10-31  2575.260010  \n",
       "2017-11-01  2579.360107  \n",
       "2017-11-02  2579.850098  \n",
       "2017-11-03  2587.840088  \n",
       "2017-11-06  2591.129883  \n",
       "...                 ...  \n",
       "2022-10-25  3859.110107  \n",
       "2022-10-26  3830.600098  \n",
       "2022-10-27  3807.300049  \n",
       "2022-10-28  3901.060059  \n",
       "2022-10-31  3871.979980  \n",
       "\n",
       "[1259 rows x 6 columns]"
      ]
     },
     "execution_count": 2,
     "metadata": {},
     "output_type": "execute_result"
    }
   ],
   "source": [
    "# S&P 500\n",
    "sp_500 = web.get_data_yahoo(\"^GSPC\", start=\"2017-10-31\", end=\"2022-10-31\")\n",
    "sp_500"
   ]
  },
  {
   "cell_type": "code",
   "execution_count": 3,
   "metadata": {},
   "outputs": [
    {
     "data": {
      "text/html": [
       "<div>\n",
       "<style scoped>\n",
       "    .dataframe tbody tr th:only-of-type {\n",
       "        vertical-align: middle;\n",
       "    }\n",
       "\n",
       "    .dataframe tbody tr th {\n",
       "        vertical-align: top;\n",
       "    }\n",
       "\n",
       "    .dataframe thead th {\n",
       "        text-align: right;\n",
       "    }\n",
       "</style>\n",
       "<table border=\"1\" class=\"dataframe\">\n",
       "  <thead>\n",
       "    <tr style=\"text-align: right;\">\n",
       "      <th></th>\n",
       "      <th>High</th>\n",
       "      <th>Low</th>\n",
       "      <th>Open</th>\n",
       "      <th>Close</th>\n",
       "      <th>Volume</th>\n",
       "      <th>Adj Close</th>\n",
       "    </tr>\n",
       "    <tr>\n",
       "      <th>Date</th>\n",
       "      <th></th>\n",
       "      <th></th>\n",
       "      <th></th>\n",
       "      <th></th>\n",
       "      <th></th>\n",
       "      <th></th>\n",
       "    </tr>\n",
       "  </thead>\n",
       "  <tbody>\n",
       "    <tr>\n",
       "      <th>2017-10-31</th>\n",
       "      <td>54.849998</td>\n",
       "      <td>53.930000</td>\n",
       "      <td>54.080002</td>\n",
       "      <td>54.380001</td>\n",
       "      <td>497295.0</td>\n",
       "      <td>54.380001</td>\n",
       "    </tr>\n",
       "    <tr>\n",
       "      <th>2017-11-01</th>\n",
       "      <td>55.220001</td>\n",
       "      <td>53.889999</td>\n",
       "      <td>54.650002</td>\n",
       "      <td>54.299999</td>\n",
       "      <td>671038.0</td>\n",
       "      <td>54.299999</td>\n",
       "    </tr>\n",
       "    <tr>\n",
       "      <th>2017-11-02</th>\n",
       "      <td>54.840000</td>\n",
       "      <td>53.990002</td>\n",
       "      <td>54.279999</td>\n",
       "      <td>54.540001</td>\n",
       "      <td>482846.0</td>\n",
       "      <td>54.540001</td>\n",
       "    </tr>\n",
       "    <tr>\n",
       "      <th>2017-11-03</th>\n",
       "      <td>55.759998</td>\n",
       "      <td>54.400002</td>\n",
       "      <td>54.730000</td>\n",
       "      <td>55.639999</td>\n",
       "      <td>614159.0</td>\n",
       "      <td>55.639999</td>\n",
       "    </tr>\n",
       "    <tr>\n",
       "      <th>2017-11-06</th>\n",
       "      <td>57.610001</td>\n",
       "      <td>55.660000</td>\n",
       "      <td>55.970001</td>\n",
       "      <td>57.349998</td>\n",
       "      <td>861713.0</td>\n",
       "      <td>57.349998</td>\n",
       "    </tr>\n",
       "    <tr>\n",
       "      <th>...</th>\n",
       "      <td>...</td>\n",
       "      <td>...</td>\n",
       "      <td>...</td>\n",
       "      <td>...</td>\n",
       "      <td>...</td>\n",
       "      <td>...</td>\n",
       "    </tr>\n",
       "    <tr>\n",
       "      <th>2022-10-26</th>\n",
       "      <td>88.410004</td>\n",
       "      <td>84.139999</td>\n",
       "      <td>85.070000</td>\n",
       "      <td>87.910004</td>\n",
       "      <td>287182.0</td>\n",
       "      <td>87.910004</td>\n",
       "    </tr>\n",
       "    <tr>\n",
       "      <th>2022-10-27</th>\n",
       "      <td>89.790001</td>\n",
       "      <td>87.330002</td>\n",
       "      <td>88.260002</td>\n",
       "      <td>89.080002</td>\n",
       "      <td>292556.0</td>\n",
       "      <td>89.080002</td>\n",
       "    </tr>\n",
       "    <tr>\n",
       "      <th>2022-10-28</th>\n",
       "      <td>88.760002</td>\n",
       "      <td>87.080002</td>\n",
       "      <td>88.669998</td>\n",
       "      <td>87.900002</td>\n",
       "      <td>263404.0</td>\n",
       "      <td>87.900002</td>\n",
       "    </tr>\n",
       "    <tr>\n",
       "      <th>2022-10-31</th>\n",
       "      <td>88.650002</td>\n",
       "      <td>85.300003</td>\n",
       "      <td>88.389999</td>\n",
       "      <td>86.529999</td>\n",
       "      <td>285342.0</td>\n",
       "      <td>86.529999</td>\n",
       "    </tr>\n",
       "    <tr>\n",
       "      <th>2022-11-01</th>\n",
       "      <td>89.449997</td>\n",
       "      <td>85.919998</td>\n",
       "      <td>86.430000</td>\n",
       "      <td>88.370003</td>\n",
       "      <td>274321.0</td>\n",
       "      <td>88.370003</td>\n",
       "    </tr>\n",
       "  </tbody>\n",
       "</table>\n",
       "<p>1262 rows × 6 columns</p>\n",
       "</div>"
      ],
      "text/plain": [
       "                 High        Low       Open      Close    Volume  Adj Close\n",
       "Date                                                                       \n",
       "2017-10-31  54.849998  53.930000  54.080002  54.380001  497295.0  54.380001\n",
       "2017-11-01  55.220001  53.889999  54.650002  54.299999  671038.0  54.299999\n",
       "2017-11-02  54.840000  53.990002  54.279999  54.540001  482846.0  54.540001\n",
       "2017-11-03  55.759998  54.400002  54.730000  55.639999  614159.0  55.639999\n",
       "2017-11-06  57.610001  55.660000  55.970001  57.349998  861713.0  57.349998\n",
       "...               ...        ...        ...        ...       ...        ...\n",
       "2022-10-26  88.410004  84.139999  85.070000  87.910004  287182.0  87.910004\n",
       "2022-10-27  89.790001  87.330002  88.260002  89.080002  292556.0  89.080002\n",
       "2022-10-28  88.760002  87.080002  88.669998  87.900002  263404.0  87.900002\n",
       "2022-10-31  88.650002  85.300003  88.389999  86.529999  285342.0  86.529999\n",
       "2022-11-01  89.449997  85.919998  86.430000  88.370003  274321.0  88.370003\n",
       "\n",
       "[1262 rows x 6 columns]"
      ]
     },
     "execution_count": 3,
     "metadata": {},
     "output_type": "execute_result"
    }
   ],
   "source": [
    "# Oil\n",
    "oil_data = web.get_data_yahoo(\"CL=F\", start=\"2017-10-31\", end=\"2022-10-31\")\n",
    "\n",
    "oil_data"
   ]
  },
  {
   "cell_type": "code",
   "execution_count": 4,
   "metadata": {},
   "outputs": [
    {
     "data": {
      "text/html": [
       "<div>\n",
       "<style scoped>\n",
       "    .dataframe tbody tr th:only-of-type {\n",
       "        vertical-align: middle;\n",
       "    }\n",
       "\n",
       "    .dataframe tbody tr th {\n",
       "        vertical-align: top;\n",
       "    }\n",
       "\n",
       "    .dataframe thead th {\n",
       "        text-align: right;\n",
       "    }\n",
       "</style>\n",
       "<table border=\"1\" class=\"dataframe\">\n",
       "  <thead>\n",
       "    <tr style=\"text-align: right;\">\n",
       "      <th></th>\n",
       "      <th>High</th>\n",
       "      <th>Low</th>\n",
       "      <th>Open</th>\n",
       "      <th>Close</th>\n",
       "      <th>Volume</th>\n",
       "      <th>Adj Close</th>\n",
       "    </tr>\n",
       "    <tr>\n",
       "      <th>Date</th>\n",
       "      <th></th>\n",
       "      <th></th>\n",
       "      <th></th>\n",
       "      <th></th>\n",
       "      <th></th>\n",
       "      <th></th>\n",
       "    </tr>\n",
       "  </thead>\n",
       "  <tbody>\n",
       "    <tr>\n",
       "      <th>2017-10-31</th>\n",
       "      <td>6470.430176</td>\n",
       "      <td>6103.330078</td>\n",
       "      <td>6132.020020</td>\n",
       "      <td>6468.399902</td>\n",
       "      <td>2311379968</td>\n",
       "      <td>6468.399902</td>\n",
       "    </tr>\n",
       "    <tr>\n",
       "      <th>2017-11-01</th>\n",
       "      <td>6767.310059</td>\n",
       "      <td>6377.879883</td>\n",
       "      <td>6440.970215</td>\n",
       "      <td>6767.310059</td>\n",
       "      <td>2870320128</td>\n",
       "      <td>6767.310059</td>\n",
       "    </tr>\n",
       "    <tr>\n",
       "      <th>2017-11-02</th>\n",
       "      <td>7367.330078</td>\n",
       "      <td>6758.720215</td>\n",
       "      <td>6777.770020</td>\n",
       "      <td>7078.500000</td>\n",
       "      <td>4653770240</td>\n",
       "      <td>7078.500000</td>\n",
       "    </tr>\n",
       "    <tr>\n",
       "      <th>2017-11-03</th>\n",
       "      <td>7461.290039</td>\n",
       "      <td>7002.939941</td>\n",
       "      <td>7087.529785</td>\n",
       "      <td>7207.759766</td>\n",
       "      <td>3369860096</td>\n",
       "      <td>7207.759766</td>\n",
       "    </tr>\n",
       "    <tr>\n",
       "      <th>2017-11-04</th>\n",
       "      <td>7492.859863</td>\n",
       "      <td>7031.279785</td>\n",
       "      <td>7164.479980</td>\n",
       "      <td>7379.950195</td>\n",
       "      <td>2483800064</td>\n",
       "      <td>7379.950195</td>\n",
       "    </tr>\n",
       "    <tr>\n",
       "      <th>...</th>\n",
       "      <td>...</td>\n",
       "      <td>...</td>\n",
       "      <td>...</td>\n",
       "      <td>...</td>\n",
       "      <td>...</td>\n",
       "      <td>...</td>\n",
       "    </tr>\n",
       "    <tr>\n",
       "      <th>2022-10-28</th>\n",
       "      <td>20724.980469</td>\n",
       "      <td>20086.068359</td>\n",
       "      <td>20287.957031</td>\n",
       "      <td>20595.351562</td>\n",
       "      <td>43994715910</td>\n",
       "      <td>20595.351562</td>\n",
       "    </tr>\n",
       "    <tr>\n",
       "      <th>2022-10-29</th>\n",
       "      <td>20988.394531</td>\n",
       "      <td>20566.484375</td>\n",
       "      <td>20595.103516</td>\n",
       "      <td>20818.476562</td>\n",
       "      <td>40369840645</td>\n",
       "      <td>20818.476562</td>\n",
       "    </tr>\n",
       "    <tr>\n",
       "      <th>2022-10-30</th>\n",
       "      <td>20917.005859</td>\n",
       "      <td>20547.462891</td>\n",
       "      <td>20817.982422</td>\n",
       "      <td>20635.603516</td>\n",
       "      <td>31486345556</td>\n",
       "      <td>20635.603516</td>\n",
       "    </tr>\n",
       "    <tr>\n",
       "      <th>2022-10-31</th>\n",
       "      <td>20795.320312</td>\n",
       "      <td>20287.458984</td>\n",
       "      <td>20633.695312</td>\n",
       "      <td>20495.773438</td>\n",
       "      <td>45668466815</td>\n",
       "      <td>20495.773438</td>\n",
       "    </tr>\n",
       "    <tr>\n",
       "      <th>2022-11-01</th>\n",
       "      <td>20647.289062</td>\n",
       "      <td>20359.845703</td>\n",
       "      <td>20494.898438</td>\n",
       "      <td>20485.273438</td>\n",
       "      <td>39819303159</td>\n",
       "      <td>20485.273438</td>\n",
       "    </tr>\n",
       "  </tbody>\n",
       "</table>\n",
       "<p>1828 rows × 6 columns</p>\n",
       "</div>"
      ],
      "text/plain": [
       "                    High           Low          Open         Close  \\\n",
       "Date                                                                 \n",
       "2017-10-31   6470.430176   6103.330078   6132.020020   6468.399902   \n",
       "2017-11-01   6767.310059   6377.879883   6440.970215   6767.310059   \n",
       "2017-11-02   7367.330078   6758.720215   6777.770020   7078.500000   \n",
       "2017-11-03   7461.290039   7002.939941   7087.529785   7207.759766   \n",
       "2017-11-04   7492.859863   7031.279785   7164.479980   7379.950195   \n",
       "...                  ...           ...           ...           ...   \n",
       "2022-10-28  20724.980469  20086.068359  20287.957031  20595.351562   \n",
       "2022-10-29  20988.394531  20566.484375  20595.103516  20818.476562   \n",
       "2022-10-30  20917.005859  20547.462891  20817.982422  20635.603516   \n",
       "2022-10-31  20795.320312  20287.458984  20633.695312  20495.773438   \n",
       "2022-11-01  20647.289062  20359.845703  20494.898438  20485.273438   \n",
       "\n",
       "                 Volume     Adj Close  \n",
       "Date                                   \n",
       "2017-10-31   2311379968   6468.399902  \n",
       "2017-11-01   2870320128   6767.310059  \n",
       "2017-11-02   4653770240   7078.500000  \n",
       "2017-11-03   3369860096   7207.759766  \n",
       "2017-11-04   2483800064   7379.950195  \n",
       "...                 ...           ...  \n",
       "2022-10-28  43994715910  20595.351562  \n",
       "2022-10-29  40369840645  20818.476562  \n",
       "2022-10-30  31486345556  20635.603516  \n",
       "2022-10-31  45668466815  20495.773438  \n",
       "2022-11-01  39819303159  20485.273438  \n",
       "\n",
       "[1828 rows x 6 columns]"
      ]
     },
     "execution_count": 4,
     "metadata": {},
     "output_type": "execute_result"
    }
   ],
   "source": [
    "# BTC\n",
    "btc_data2 = web.get_data_yahoo(\"BTC-USD\", start=\"2017-10-31\", end=\"2022-10-31\")\n",
    "btc_data2"
   ]
  },
  {
   "cell_type": "code",
   "execution_count": 24,
   "metadata": {},
   "outputs": [],
   "source": [
    "# Load .env enviroment variables\n",
    "load_dotenv()\n",
    "\n",
    "# Initialize the weather_bit api key\n",
    "weather_bit_api_key = os.getenv(\"WEATHER_BIT_API\")"
   ]
  },
  {
   "cell_type": "code",
   "execution_count": 11,
   "metadata": {},
   "outputs": [
    {
     "name": "stdout",
     "output_type": "stream",
     "text": [
      "74f4d9dbf31943f6b473def978879780\n"
     ]
    }
   ],
   "source": [
    "print(weather_bit_api_key)"
   ]
  },
  {
   "cell_type": "code",
   "execution_count": 18,
   "metadata": {},
   "outputs": [],
   "source": [
    "import logging\n",
    "\n",
    "# These two lines enable debugging at httplib level (requests->urllib3->http.client)\n",
    "# You will see the REQUEST, including HEADERS and DATA, and RESPONSE with HEADERS but without DATA.\n",
    "# The only thing missing will be the response.body which is not logged.\n",
    "try:\n",
    "    import http.client as http_client\n",
    "except ImportError:\n",
    "    # Python 2\n",
    "    import httplib as http_client\n",
    "http_client.HTTPConnection.debuglevel = 1\n",
    "\n",
    "# You must initialize logging, otherwise you'll not see debug output.\n",
    "logging.basicConfig()\n",
    "logging.getLogger().setLevel(logging.DEBUG)\n",
    "requests_log = logging.getLogger(\"requests.packages.urllib3\")\n",
    "requests_log.setLevel(logging.DEBUG)\n",
    "requests_log.propagate = True"
   ]
  },
  {
   "cell_type": "code",
   "execution_count": 26,
   "metadata": {},
   "outputs": [
    {
     "name": "stderr",
     "output_type": "stream",
     "text": [
      "DEBUG:urllib3.connectionpool:Starting new HTTPS connection (1): api.weatherbit.io:443\n"
     ]
    },
    {
     "name": "stdout",
     "output_type": "stream",
     "text": [
      "send: b'GET /v2.0/history/daily?lat=40.706877&lon=-74.012349&country=US&start_date=2020-10-31&end_date=2021-10-31&key=dd12b813739b4079a5ef3dc7df8336dc HTTP/1.1\\r\\nHost: api.weatherbit.io\\r\\nUser-Agent: python-requests/2.28.1\\r\\nAccept-Encoding: gzip, deflate, br\\r\\nAccept: */*\\r\\nConnection: keep-alive\\r\\n\\r\\n'\n"
     ]
    },
    {
     "name": "stderr",
     "output_type": "stream",
     "text": [
      "DEBUG:urllib3.connectionpool:https://api.weatherbit.io:443 \"GET /v2.0/history/daily?lat=40.706877&lon=-74.012349&country=US&start_date=2020-10-31&end_date=2021-10-31&key=dd12b813739b4079a5ef3dc7df8336dc HTTP/1.1\" 200 None\n"
     ]
    },
    {
     "name": "stdout",
     "output_type": "stream",
     "text": [
      "reply: 'HTTP/1.1 200 OK\\r\\n'\n",
      "header: server: openresty/1.19.3.1\n",
      "header: date: Mon, 14 Nov 2022 01:40:19 GMT\n",
      "header: content-type: application/json; charset=utf-8\n",
      "header: transfer-encoding: chunked\n",
      "header: keep-alive: timeout=5\n",
      "header: x-ratelimit-limit: 1500\n",
      "header: x-ratelimit-remaining: 1135\n",
      "header: x-ratelimit-reset: 1668390098\n",
      "header: x-proxy-cache: MISS\n",
      "header: access-control-allow-origin: *\n",
      "header: access-control-allow-methods: GET, OPTIONS, POST\n",
      "header: access-control-allow-headers: DNT,X-CustomHeader,Keep-Alive,User-Agent,X-Requested-With,If-Modified-Since,Cache-Control,Content-Type,Content-Range,Range\n",
      "header: access-control-expose-headers: DNT,X-CustomHeader,Keep-Alive,User-Agent,X-Requested-With,If-Modified-Since,Cache-Control,Content-Type,Content-Range,Range\n",
      "header: x-proxy-cache: MISS\n",
      "header: content-encoding: gzip\n",
      "<Response [200]>\n"
     ]
    }
   ],
   "source": [
    "# Weather Data\n",
    "\n",
    "LAT_NYC = 40.706877\n",
    "LON_NYC = -74.012349\n",
    "\n",
    "weather_bit_url = \"https://api.weatherbit.io/v2.0/history/daily\"\n",
    "\n",
    "parameters_2021 = {\n",
    "    \"lat\": LAT_NYC,\n",
    "    \"lon\": LON_NYC,\n",
    "    \"country\": \"US\",\n",
    "    \"start_date\": \"2020-10-31\",\n",
    "    \"end_date\": \"2021-10-31\",\n",
    "    \"key\": weather_bit_api_key,\n",
    "}\n",
    "\n",
    "#weather_data_2021\n",
    "weather_data = requests.get(weather_bit_url, params=parameters_2021)\n",
    "\n",
    "print(weather_data)\n",
    "\n"
   ]
  },
  {
   "cell_type": "code",
   "execution_count": 64,
   "metadata": {},
   "outputs": [
    {
     "name": "stderr",
     "output_type": "stream",
     "text": [
      "DEBUG:urllib3.connectionpool:Starting new HTTPS connection (1): api.weatherbit.io:443\n"
     ]
    },
    {
     "name": "stdout",
     "output_type": "stream",
     "text": [
      "send: b'GET /v2.0/history/daily?lat=40.706877&lon=-74.012349&country=US&start_date=2021-10-31&end_date=2022-10-31&key=dd12b813739b4079a5ef3dc7df8336dc HTTP/1.1\\r\\nHost: api.weatherbit.io\\r\\nUser-Agent: python-requests/2.28.1\\r\\nAccept-Encoding: gzip, deflate, br\\r\\nAccept: */*\\r\\nConnection: keep-alive\\r\\n\\r\\n'\n"
     ]
    },
    {
     "name": "stderr",
     "output_type": "stream",
     "text": [
      "DEBUG:urllib3.connectionpool:https://api.weatherbit.io:443 \"GET /v2.0/history/daily?lat=40.706877&lon=-74.012349&country=US&start_date=2021-10-31&end_date=2022-10-31&key=dd12b813739b4079a5ef3dc7df8336dc HTTP/1.1\" 200 None\n"
     ]
    },
    {
     "name": "stdout",
     "output_type": "stream",
     "text": [
      "reply: 'HTTP/1.1 200 OK\\r\\n'\n",
      "header: server: openresty/1.19.3.1\n",
      "header: date: Mon, 14 Nov 2022 02:30:34 GMT\n",
      "header: content-type: application/json; charset=utf-8\n",
      "header: transfer-encoding: chunked\n",
      "header: keep-alive: timeout=5\n",
      "header: x-ratelimit-limit: 1500\n",
      "header: x-ratelimit-remaining: 770\n",
      "header: x-ratelimit-reset: 1668470399\n",
      "header: x-proxy-cache: MISS\n",
      "header: access-control-allow-origin: *\n",
      "header: access-control-allow-methods: GET, OPTIONS, POST\n",
      "header: access-control-allow-headers: DNT,X-CustomHeader,Keep-Alive,User-Agent,X-Requested-With,If-Modified-Since,Cache-Control,Content-Type,Content-Range,Range\n",
      "header: access-control-expose-headers: DNT,X-CustomHeader,Keep-Alive,User-Agent,X-Requested-With,If-Modified-Since,Cache-Control,Content-Type,Content-Range,Range\n",
      "header: x-proxy-cache: MISS\n",
      "header: content-encoding: gzip\n"
     ]
    }
   ],
   "source": [
    "#2022\n",
    "\n",
    "parameters_2022 = {\n",
    "    \"lat\": LAT_NYC,\n",
    "    \"lon\": LON_NYC,\n",
    "    \"country\": \"US\",\n",
    "    \"start_date\": \"2021-10-31\",\n",
    "    \"end_date\": \"2022-10-31\",\n",
    "    \"key\": weather_bit_api_key,\n",
    "}\n",
    "\n",
    "#weather_data_2021\n",
    "weather_data_2022 = requests.get(weather_bit_url, params=parameters_2022)"
   ]
  },
  {
   "cell_type": "code",
   "execution_count": 65,
   "metadata": {},
   "outputs": [
    {
     "name": "stderr",
     "output_type": "stream",
     "text": [
      "DEBUG:urllib3.connectionpool:Starting new HTTPS connection (1): api.weatherbit.io:443\n"
     ]
    },
    {
     "name": "stdout",
     "output_type": "stream",
     "text": [
      "send: b'GET /v2.0/history/daily?lat=40.706877&lon=-74.012349&country=US&start_date=2019-10-31&end_date=2020-10-31&key=dd12b813739b4079a5ef3dc7df8336dc HTTP/1.1\\r\\nHost: api.weatherbit.io\\r\\nUser-Agent: python-requests/2.28.1\\r\\nAccept-Encoding: gzip, deflate, br\\r\\nAccept: */*\\r\\nConnection: keep-alive\\r\\n\\r\\n'\n"
     ]
    },
    {
     "name": "stderr",
     "output_type": "stream",
     "text": [
      "DEBUG:urllib3.connectionpool:https://api.weatherbit.io:443 \"GET /v2.0/history/daily?lat=40.706877&lon=-74.012349&country=US&start_date=2019-10-31&end_date=2020-10-31&key=dd12b813739b4079a5ef3dc7df8336dc HTTP/1.1\" 200 None\n"
     ]
    },
    {
     "name": "stdout",
     "output_type": "stream",
     "text": [
      "reply: 'HTTP/1.1 200 OK\\r\\n'\n",
      "header: server: openresty/1.19.3.1\n",
      "header: date: Mon, 14 Nov 2022 02:31:42 GMT\n",
      "header: content-type: application/json; charset=utf-8\n",
      "header: transfer-encoding: chunked\n",
      "header: keep-alive: timeout=5\n",
      "header: x-ratelimit-limit: 1500\n",
      "header: x-ratelimit-remaining: 404\n",
      "header: x-ratelimit-reset: 1668470399\n",
      "header: x-proxy-cache: MISS\n",
      "header: access-control-allow-origin: *\n",
      "header: access-control-allow-methods: GET, OPTIONS, POST\n",
      "header: access-control-allow-headers: DNT,X-CustomHeader,Keep-Alive,User-Agent,X-Requested-With,If-Modified-Since,Cache-Control,Content-Type,Content-Range,Range\n",
      "header: access-control-expose-headers: DNT,X-CustomHeader,Keep-Alive,User-Agent,X-Requested-With,If-Modified-Since,Cache-Control,Content-Type,Content-Range,Range\n",
      "header: x-proxy-cache: MISS\n",
      "header: content-encoding: gzip\n"
     ]
    }
   ],
   "source": [
    "# 2020\n",
    "\n",
    "parameters_2020 = {\n",
    "    \"lat\": LAT_NYC,\n",
    "    \"lon\": LON_NYC,\n",
    "    \"country\": \"US\",\n",
    "    \"start_date\": \"2019-10-31\",\n",
    "    \"end_date\": \"2020-10-31\",\n",
    "    \"key\": weather_bit_api_key,\n",
    "}\n",
    "\n",
    "#weather_data_2021\n",
    "weather_data_2020 = requests.get(weather_bit_url, params=parameters_2020)"
   ]
  },
  {
   "cell_type": "code",
   "execution_count": 66,
   "metadata": {},
   "outputs": [
    {
     "name": "stderr",
     "output_type": "stream",
     "text": [
      "DEBUG:urllib3.connectionpool:Starting new HTTPS connection (1): api.weatherbit.io:443\n"
     ]
    },
    {
     "name": "stdout",
     "output_type": "stream",
     "text": [
      "send: b'GET /v2.0/history/daily?lat=40.706877&lon=-74.012349&country=US&start_date=2018-10-31&end_date=2019-10-31&key=dd12b813739b4079a5ef3dc7df8336dc HTTP/1.1\\r\\nHost: api.weatherbit.io\\r\\nUser-Agent: python-requests/2.28.1\\r\\nAccept-Encoding: gzip, deflate, br\\r\\nAccept: */*\\r\\nConnection: keep-alive\\r\\n\\r\\n'\n"
     ]
    },
    {
     "name": "stderr",
     "output_type": "stream",
     "text": [
      "DEBUG:urllib3.connectionpool:https://api.weatherbit.io:443 \"GET /v2.0/history/daily?lat=40.706877&lon=-74.012349&country=US&start_date=2018-10-31&end_date=2019-10-31&key=dd12b813739b4079a5ef3dc7df8336dc HTTP/1.1\" 200 None\n"
     ]
    },
    {
     "name": "stdout",
     "output_type": "stream",
     "text": [
      "reply: 'HTTP/1.1 200 OK\\r\\n'\n",
      "header: server: openresty/1.19.3.1\n",
      "header: date: Mon, 14 Nov 2022 02:32:24 GMT\n",
      "header: content-type: application/json; charset=utf-8\n",
      "header: transfer-encoding: chunked\n",
      "header: keep-alive: timeout=5\n",
      "header: x-ratelimit-limit: 1500\n",
      "header: x-ratelimit-remaining: 39\n",
      "header: x-ratelimit-reset: 1668470399\n",
      "header: x-proxy-cache: MISS\n",
      "header: access-control-allow-origin: *\n",
      "header: access-control-allow-methods: GET, OPTIONS, POST\n",
      "header: access-control-allow-headers: DNT,X-CustomHeader,Keep-Alive,User-Agent,X-Requested-With,If-Modified-Since,Cache-Control,Content-Type,Content-Range,Range\n",
      "header: access-control-expose-headers: DNT,X-CustomHeader,Keep-Alive,User-Agent,X-Requested-With,If-Modified-Since,Cache-Control,Content-Type,Content-Range,Range\n",
      "header: x-proxy-cache: MISS\n",
      "header: content-encoding: gzip\n"
     ]
    }
   ],
   "source": [
    "# 2019\n",
    "\n",
    "parameters_2019 = {\n",
    "    \"lat\": LAT_NYC,\n",
    "    \"lon\": LON_NYC,\n",
    "    \"country\": \"US\",\n",
    "    \"start_date\": \"2018-10-31\",\n",
    "    \"end_date\": \"2019-10-31\",\n",
    "    \"key\": weather_bit_api_key,\n",
    "}\n",
    "\n",
    "#weather_data_2021\n",
    "weather_data_2019 = requests.get(weather_bit_url, params=parameters_2019)"
   ]
  },
  {
   "cell_type": "code",
   "execution_count": 67,
   "metadata": {},
   "outputs": [
    {
     "name": "stderr",
     "output_type": "stream",
     "text": [
      "DEBUG:urllib3.connectionpool:Starting new HTTPS connection (1): api.weatherbit.io:443\n",
      "DEBUG:urllib3.connectionpool:https://api.weatherbit.io:443 \"GET /v2.0/history/daily?lat=40.706877&lon=-74.012349&country=US&start_date=2017-10-31&end_date=2018-10-31&key=dd12b813739b4079a5ef3dc7df8336dc HTTP/1.1\" 429 166\n"
     ]
    },
    {
     "name": "stdout",
     "output_type": "stream",
     "text": [
      "send: b'GET /v2.0/history/daily?lat=40.706877&lon=-74.012349&country=US&start_date=2017-10-31&end_date=2018-10-31&key=dd12b813739b4079a5ef3dc7df8336dc HTTP/1.1\\r\\nHost: api.weatherbit.io\\r\\nUser-Agent: python-requests/2.28.1\\r\\nAccept-Encoding: gzip, deflate, br\\r\\nAccept: */*\\r\\nConnection: keep-alive\\r\\n\\r\\n'\n",
      "reply: 'HTTP/1.1 429 Too Many Requests\\r\\n'\n",
      "header: server: openresty/1.19.3.1\n",
      "header: date: Mon, 14 Nov 2022 02:33:02 GMT\n",
      "header: content-type: application/json; charset=utf-8\n",
      "header: content-length: 166\n",
      "header: keep-alive: timeout=5\n",
      "header: x-ratelimit-limit: 1750\n",
      "header: x-ratelimit-remaining: 289\n",
      "header: x-ratelimit-reset: 1668470399\n",
      "header: access-control-allow-origin: *\n",
      "header: retry-after: 77216\n",
      "header: access-control-allow-origin: *\n",
      "header: access-control-allow-methods: GET, OPTIONS, POST\n",
      "header: access-control-allow-headers: DNT,X-CustomHeader,Keep-Alive,User-Agent,X-Requested-With,If-Modified-Since,Cache-Control,Content-Type,Content-Range,Range\n",
      "header: access-control-expose-headers: DNT,X-CustomHeader,Keep-Alive,User-Agent,X-Requested-With,If-Modified-Since,Cache-Control,Content-Type,Content-Range,Range\n"
     ]
    }
   ],
   "source": [
    "# 2018\n",
    "\n",
    "parameters_2018 = {\n",
    "    \"lat\": LAT_NYC,\n",
    "    \"lon\": LON_NYC,\n",
    "    \"country\": \"US\",\n",
    "    \"start_date\": \"2017-10-31\",\n",
    "    \"end_date\": \"2018-10-31\",\n",
    "    \"key\": weather_bit_api_key,\n",
    "}\n",
    "\n",
    "#weather_data_2021\n",
    "weather_data_2018 = requests.get(weather_bit_url, params=parameters_2018)"
   ]
  },
  {
   "cell_type": "markdown",
   "metadata": {},
   "source": []
  },
  {
   "cell_type": "code",
   "execution_count": 72,
   "metadata": {},
   "outputs": [],
   "source": [
    "# weather_data.json()"
   ]
  },
  {
   "cell_type": "code",
   "execution_count": 69,
   "metadata": {},
   "outputs": [],
   "source": [
    "weather_json_2021 = weather_data.json()"
   ]
  },
  {
   "cell_type": "code",
   "execution_count": 70,
   "metadata": {},
   "outputs": [
    {
     "name": "stdout",
     "output_type": "stream",
     "text": [
      "{'clouds': 23, 'datetime': '2020-10-31', 'dewpt': 0, 'dhi': 33.3, 'dni': 280.8, 'ghi': 148.4, 'max_dhi': 101.8, 'max_dni': 829.9, 'max_ghi': 567.6, 'max_temp': 8.6, 'max_temp_ts': 1604196000, 'max_uv': 3.5, 'max_wind_dir': 209, 'max_wind_spd': 3.6, 'max_wind_spd_ts': 1604196000, 'min_temp': 1.7, 'min_temp_ts': 1604134800, 'precip': 0, 'precip_gpm': 0, 'pres': 1031.5, 'revision_status': 'final', 'rh': 71.7, 'slp': 1031.5, 'snow': 0, 'snow_depth': None, 'solar_rad': 146.6, 't_dhi': 798.7, 't_dni': 6740.2, 't_ghi': 3562.5, 't_solar_rad': 3519.2, 'temp': 4.9, 'ts': 1604116800, 'wind_dir': 209, 'wind_gust_spd': 3.9, 'wind_spd': 2.3}\n"
     ]
    },
    {
     "data": {
      "text/plain": [
       "'2020-10-31'"
      ]
     },
     "execution_count": 70,
     "metadata": {},
     "output_type": "execute_result"
    }
   ],
   "source": [
    "print(weather_json_2021['data'][0])\n",
    "\n",
    "date = weather_json_2021['data'][0]['datetime']\n",
    "high_temp = weather_json_2021['data'][0]['max_temp']\n",
    "low_temp = weather_json_2021['data'][0]['min_temp']\n",
    "date"
   ]
  },
  {
   "cell_type": "code",
   "execution_count": 71,
   "metadata": {},
   "outputs": [
    {
     "name": "stdout",
     "output_type": "stream",
     "text": [
      "           Date  High_Temp  Low_Temp\n",
      "0    2020-10-31        8.6       1.7\n",
      "1    2020-11-01       12.8       7.4\n",
      "2    2020-11-02        7.8       4.6\n",
      "3    2020-11-03       11.8       5.3\n",
      "4    2020-11-04       17.6       6.3\n",
      "..          ...        ...       ...\n",
      "360  2021-10-26       19.2      14.0\n",
      "361  2021-10-27       16.1      13.0\n",
      "362  2021-10-28       14.5      10.5\n",
      "363  2021-10-29       14.0       9.8\n",
      "364  2021-10-30       18.0      12.3\n",
      "\n",
      "[365 rows x 3 columns]\n"
     ]
    }
   ],
   "source": [
    "weather_df_2021 = pd.DataFrame(columns=['Date', 'High_Temp', 'Low_Temp'])\n",
    "# print(day)\n",
    "# print(high_temp)\n",
    "# print(low_temp)\n",
    "# weather_df.loc[len(weather_df2)] = [day,high_temp,low_temp]\n",
    "\n",
    "\n",
    "for day in range(365):\n",
    "\n",
    "    # Sets the data from the json\n",
    "    date = weather_json_2021['data'][day]['datetime']\n",
    "    high_temp = weather_json_2021['data'][day]['max_temp']\n",
    "    low_temp = weather_json_2021['data'][day]['min_temp']\n",
    "\n",
    "    # Adds the data to the last index\n",
    "    weather_df_2021.loc[len(weather_df_2021)] = [date,high_temp,low_temp]\n",
    "\n",
    "print(weather_df_2021)\n",
    "\n",
    "# weather_df2.set_index('Date', inplace=True)\n",
    "# weather_df2"
   ]
  },
  {
   "cell_type": "code",
   "execution_count": 73,
   "metadata": {},
   "outputs": [],
   "source": [
    "weather_json_2022 = weather_data_2022.json()\n",
    "weather_json_2020 = weather_data_2020.json()\n",
    "weather_json_2019 = weather_data_2019.json()\n",
    "weather_json_2018 = weather_data_2018.json()"
   ]
  },
  {
   "cell_type": "code",
   "execution_count": 80,
   "metadata": {},
   "outputs": [
    {
     "name": "stdout",
     "output_type": "stream",
     "text": [
      "           Date  High_Temp  Low_Temp\n",
      "0    2021-10-31       17.9      13.3\n",
      "1    2021-11-01       15.1      12.0\n",
      "2    2021-11-02       12.0       8.0\n",
      "3    2021-11-03       11.5       6.3\n",
      "4    2021-11-04       10.3       5.5\n",
      "..          ...        ...       ...\n",
      "360  2022-10-26       21.9      16.9\n",
      "361  2022-10-27       19.2      13.1\n",
      "362  2022-10-28       14.5       8.6\n",
      "363  2022-10-29       16.7       8.4\n",
      "364  2022-10-30       16.2       7.9\n",
      "\n",
      "[365 rows x 3 columns]\n"
     ]
    }
   ],
   "source": [
    "weather_df_2022 = pd.DataFrame(columns=['Date', 'High_Temp', 'Low_Temp'])\n",
    "# print(day)\n",
    "# print(high_temp)\n",
    "# print(low_temp)\n",
    "# weather_df.loc[len(weather_df2)] = [day,high_temp,low_temp]\n",
    "\n",
    "\n",
    "for day in range(365):\n",
    "\n",
    "    # Sets the data from the json\n",
    "    date = weather_json_2022['data'][day]['datetime']\n",
    "    high_temp = weather_json_2022['data'][day]['max_temp']\n",
    "    low_temp = weather_json_2022['data'][day]['min_temp']\n",
    "\n",
    "    # Adds the data to the last index\n",
    "    weather_df_2022.loc[len(weather_df_2022)] = [date,high_temp,low_temp]\n",
    "\n",
    "print(weather_df_2022)"
   ]
  },
  {
   "cell_type": "code",
   "execution_count": 81,
   "metadata": {},
   "outputs": [],
   "source": [
    "# weather_json_2022"
   ]
  },
  {
   "cell_type": "code",
   "execution_count": 82,
   "metadata": {},
   "outputs": [
    {
     "name": "stdout",
     "output_type": "stream",
     "text": [
      "           Date  High_Temp  Low_Temp\n",
      "0    2019-10-31       21.3      16.3\n",
      "1    2019-11-01       20.8       7.9\n",
      "2    2019-11-02       11.2       5.9\n",
      "3    2019-11-03       11.6       6.3\n",
      "4    2019-11-04       13.0       6.7\n",
      "..          ...        ...       ...\n",
      "360  2020-10-25       11.2       8.0\n",
      "361  2020-10-26       15.1      10.7\n",
      "362  2020-10-27       15.2      12.0\n",
      "363  2020-10-28       14.3      11.5\n",
      "364  2020-10-29       13.7       8.8\n",
      "\n",
      "[365 rows x 3 columns]\n"
     ]
    }
   ],
   "source": [
    "weather_df_2020 = pd.DataFrame(columns=['Date', 'High_Temp', 'Low_Temp'])\n",
    "# print(day)\n",
    "# print(high_temp)\n",
    "# print(low_temp)\n",
    "# weather_df.loc[len(weather_df2)] = [day,high_temp,low_temp]\n",
    "\n",
    "\n",
    "for day in range(365):\n",
    "\n",
    "    # Sets the data from the json\n",
    "    date = weather_json_2020['data'][day]['datetime']\n",
    "    high_temp = weather_json_2020['data'][day]['max_temp']\n",
    "    low_temp = weather_json_2020['data'][day]['min_temp']\n",
    "\n",
    "    # Adds the data to the last index\n",
    "    weather_df_2020.loc[len(weather_df_2020)] = [date,high_temp,low_temp]\n",
    "\n",
    "print(weather_df_2020)"
   ]
  },
  {
   "cell_type": "code",
   "execution_count": 84,
   "metadata": {},
   "outputs": [
    {
     "name": "stdout",
     "output_type": "stream",
     "text": [
      "           Date  High_Temp  Low_Temp\n",
      "0    2018-10-31       17.5       7.3\n",
      "1    2018-11-01       19.9      13.3\n",
      "2    2018-11-02       20.4      17.6\n",
      "3    2018-11-03       18.9      10.6\n",
      "4    2018-11-04       13.5       7.6\n",
      "..          ...        ...       ...\n",
      "360  2019-10-26       16.4      12.8\n",
      "361  2019-10-27       19.1      14.0\n",
      "362  2019-10-28       16.6      14.2\n",
      "363  2019-10-29       15.3      12.4\n",
      "364  2019-10-30       17.6      15.1\n",
      "\n",
      "[365 rows x 3 columns]\n"
     ]
    }
   ],
   "source": [
    "weather_df_2019 = pd.DataFrame(columns=['Date', 'High_Temp', 'Low_Temp'])\n",
    "# print(day)\n",
    "# print(high_temp)\n",
    "# print(low_temp)\n",
    "# weather_df.loc[len(weather_df2)] = [day,high_temp,low_temp]\n",
    "\n",
    "\n",
    "for day in range(365):\n",
    "\n",
    "    # Sets the data from the json\n",
    "    date = weather_json_2019['data'][day]['datetime']\n",
    "    high_temp = weather_json_2019['data'][day]['max_temp']\n",
    "    low_temp = weather_json_2019['data'][day]['min_temp']\n",
    "\n",
    "    # Adds the data to the last index\n",
    "    weather_df_2019.loc[len(weather_df_2019)] = [date,high_temp,low_temp]\n",
    "\n",
    "print(weather_df_2019)"
   ]
  },
  {
   "cell_type": "code",
   "execution_count": 85,
   "metadata": {},
   "outputs": [
    {
     "ename": "KeyError",
     "evalue": "'data'",
     "output_type": "error",
     "traceback": [
      "\u001b[1;31m---------------------------------------------------------------------------\u001b[0m",
      "\u001b[1;31mKeyError\u001b[0m                                  Traceback (most recent call last)",
      "\u001b[1;32m~\\AppData\\Local\\Temp\\ipykernel_6000\\1984820239.py\u001b[0m in \u001b[0;36m<module>\u001b[1;34m\u001b[0m\n\u001b[0;32m      9\u001b[0m \u001b[1;33m\u001b[0m\u001b[0m\n\u001b[0;32m     10\u001b[0m     \u001b[1;31m# Sets the data from the json\u001b[0m\u001b[1;33m\u001b[0m\u001b[1;33m\u001b[0m\u001b[1;33m\u001b[0m\u001b[0m\n\u001b[1;32m---> 11\u001b[1;33m     \u001b[0mdate\u001b[0m \u001b[1;33m=\u001b[0m \u001b[0mweather_json_2018\u001b[0m\u001b[1;33m[\u001b[0m\u001b[1;34m'data'\u001b[0m\u001b[1;33m]\u001b[0m\u001b[1;33m[\u001b[0m\u001b[0mday\u001b[0m\u001b[1;33m]\u001b[0m\u001b[1;33m[\u001b[0m\u001b[1;34m'datetime'\u001b[0m\u001b[1;33m]\u001b[0m\u001b[1;33m\u001b[0m\u001b[1;33m\u001b[0m\u001b[0m\n\u001b[0m\u001b[0;32m     12\u001b[0m     \u001b[0mhigh_temp\u001b[0m \u001b[1;33m=\u001b[0m \u001b[0mweather_json_2018\u001b[0m\u001b[1;33m[\u001b[0m\u001b[1;34m'data'\u001b[0m\u001b[1;33m]\u001b[0m\u001b[1;33m[\u001b[0m\u001b[0mday\u001b[0m\u001b[1;33m]\u001b[0m\u001b[1;33m[\u001b[0m\u001b[1;34m'max_temp'\u001b[0m\u001b[1;33m]\u001b[0m\u001b[1;33m\u001b[0m\u001b[1;33m\u001b[0m\u001b[0m\n\u001b[0;32m     13\u001b[0m     \u001b[0mlow_temp\u001b[0m \u001b[1;33m=\u001b[0m \u001b[0mweather_json_2018\u001b[0m\u001b[1;33m[\u001b[0m\u001b[1;34m'data'\u001b[0m\u001b[1;33m]\u001b[0m\u001b[1;33m[\u001b[0m\u001b[0mday\u001b[0m\u001b[1;33m]\u001b[0m\u001b[1;33m[\u001b[0m\u001b[1;34m'min_temp'\u001b[0m\u001b[1;33m]\u001b[0m\u001b[1;33m\u001b[0m\u001b[1;33m\u001b[0m\u001b[0m\n",
      "\u001b[1;31mKeyError\u001b[0m: 'data'"
     ]
    }
   ],
   "source": [
    "weather_df_2018 = pd.DataFrame(columns=['Date', 'High_Temp', 'Low_Temp'])\n",
    "# print(day)\n",
    "# print(high_temp)\n",
    "# print(low_temp)\n",
    "# weather_df.loc[len(weather_df2)] = [day,high_temp,low_temp]\n",
    "\n",
    "\n",
    "for day in range(365):\n",
    "\n",
    "    # Sets the data from the json\n",
    "    date = weather_json_2018['data'][day]['datetime']\n",
    "    high_temp = weather_json_2018['data'][day]['max_temp']\n",
    "    low_temp = weather_json_2018['data'][day]['min_temp']\n",
    "\n",
    "    # Adds the data to the last index\n",
    "    weather_df_2018.loc[len(weather_df_2018)] = [date,high_temp,low_temp]\n",
    "\n",
    "print(weather_df_2018)"
   ]
  },
  {
   "cell_type": "code",
   "execution_count": 86,
   "metadata": {},
   "outputs": [
    {
     "data": {
      "text/plain": [
       "{'status_code': 429, 'status_message': 'Your request count (1826) is over the allowed limit of 1500 per day - Upgrade your key, or retry after 1286.9333333333 minutes'}"
      ]
     },
     "execution_count": 86,
     "metadata": {},
     "output_type": "execute_result"
    }
   ],
   "source": [
    "weather_json_2018"
   ]
  },
  {
   "cell_type": "code",
   "execution_count": 93,
   "metadata": {},
   "outputs": [
    {
     "data": {
      "text/html": [
       "<div>\n",
       "<style scoped>\n",
       "    .dataframe tbody tr th:only-of-type {\n",
       "        vertical-align: middle;\n",
       "    }\n",
       "\n",
       "    .dataframe tbody tr th {\n",
       "        vertical-align: top;\n",
       "    }\n",
       "\n",
       "    .dataframe thead th {\n",
       "        text-align: right;\n",
       "    }\n",
       "</style>\n",
       "<table border=\"1\" class=\"dataframe\">\n",
       "  <thead>\n",
       "    <tr style=\"text-align: right;\">\n",
       "      <th></th>\n",
       "      <th>Date</th>\n",
       "      <th>High_Temp</th>\n",
       "      <th>Low_Temp</th>\n",
       "    </tr>\n",
       "  </thead>\n",
       "  <tbody>\n",
       "    <tr>\n",
       "      <th>0</th>\n",
       "      <td>2018-10-31</td>\n",
       "      <td>17.5</td>\n",
       "      <td>7.3</td>\n",
       "    </tr>\n",
       "    <tr>\n",
       "      <th>1</th>\n",
       "      <td>2018-11-01</td>\n",
       "      <td>19.9</td>\n",
       "      <td>13.3</td>\n",
       "    </tr>\n",
       "    <tr>\n",
       "      <th>2</th>\n",
       "      <td>2018-11-02</td>\n",
       "      <td>20.4</td>\n",
       "      <td>17.6</td>\n",
       "    </tr>\n",
       "    <tr>\n",
       "      <th>3</th>\n",
       "      <td>2018-11-03</td>\n",
       "      <td>18.9</td>\n",
       "      <td>10.6</td>\n",
       "    </tr>\n",
       "    <tr>\n",
       "      <th>4</th>\n",
       "      <td>2018-11-04</td>\n",
       "      <td>13.5</td>\n",
       "      <td>7.6</td>\n",
       "    </tr>\n",
       "    <tr>\n",
       "      <th>...</th>\n",
       "      <td>...</td>\n",
       "      <td>...</td>\n",
       "      <td>...</td>\n",
       "    </tr>\n",
       "    <tr>\n",
       "      <th>360</th>\n",
       "      <td>2022-10-26</td>\n",
       "      <td>21.9</td>\n",
       "      <td>16.9</td>\n",
       "    </tr>\n",
       "    <tr>\n",
       "      <th>361</th>\n",
       "      <td>2022-10-27</td>\n",
       "      <td>19.2</td>\n",
       "      <td>13.1</td>\n",
       "    </tr>\n",
       "    <tr>\n",
       "      <th>362</th>\n",
       "      <td>2022-10-28</td>\n",
       "      <td>14.5</td>\n",
       "      <td>8.6</td>\n",
       "    </tr>\n",
       "    <tr>\n",
       "      <th>363</th>\n",
       "      <td>2022-10-29</td>\n",
       "      <td>16.7</td>\n",
       "      <td>8.4</td>\n",
       "    </tr>\n",
       "    <tr>\n",
       "      <th>364</th>\n",
       "      <td>2022-10-30</td>\n",
       "      <td>16.2</td>\n",
       "      <td>7.9</td>\n",
       "    </tr>\n",
       "  </tbody>\n",
       "</table>\n",
       "<p>1460 rows × 3 columns</p>\n",
       "</div>"
      ],
      "text/plain": [
       "           Date  High_Temp  Low_Temp\n",
       "0    2018-10-31       17.5       7.3\n",
       "1    2018-11-01       19.9      13.3\n",
       "2    2018-11-02       20.4      17.6\n",
       "3    2018-11-03       18.9      10.6\n",
       "4    2018-11-04       13.5       7.6\n",
       "..          ...        ...       ...\n",
       "360  2022-10-26       21.9      16.9\n",
       "361  2022-10-27       19.2      13.1\n",
       "362  2022-10-28       14.5       8.6\n",
       "363  2022-10-29       16.7       8.4\n",
       "364  2022-10-30       16.2       7.9\n",
       "\n",
       "[1460 rows x 3 columns]"
      ]
     },
     "metadata": {},
     "output_type": "display_data"
    }
   ],
   "source": [
    "all_weather_df = pd.concat([weather_df_2019, weather_df_2020, weather_df_2021, weather_df_2022], axis=0)\n",
    "\n",
    "display(all_weather_df)"
   ]
  },
  {
   "cell_type": "code",
   "execution_count": null,
   "metadata": {},
   "outputs": [],
   "source": []
  }
 ],
 "metadata": {
  "kernelspec": {
   "display_name": "Python 3.10.1 64-bit",
   "language": "python",
   "name": "python3"
  },
  "language_info": {
   "codemirror_mode": {
    "name": "ipython",
    "version": 3
   },
   "file_extension": ".py",
   "mimetype": "text/x-python",
   "name": "python",
   "nbconvert_exporter": "python",
   "pygments_lexer": "ipython3",
   "version": "3.10.1"
  },
  "orig_nbformat": 4,
  "vscode": {
   "interpreter": {
    "hash": "369f2c481f4da34e4445cda3fffd2e751bd1c4d706f27375911949ba6bb62e1c"
   }
  }
 },
 "nbformat": 4,
 "nbformat_minor": 2
}
