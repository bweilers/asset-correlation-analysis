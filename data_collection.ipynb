{
 "cells": [
  {
   "cell_type": "code",
   "execution_count": 13,
   "metadata": {},
   "outputs": [],
   "source": [
    "# Initial imports\n",
    "import pandas as pd\n",
    "import numpy as np\n",
    "import datetime as dt\n",
    "# import seaborn as sns\n",
    "from pathlib import Path\n",
    "import pandas_datareader as web\n",
    "import requests\n",
    "from dotenv import load_dotenv\n",
    "import os\n",
    "import pprint"
   ]
  },
  {
   "cell_type": "code",
   "execution_count": 14,
   "metadata": {},
   "outputs": [
    {
     "data": {
      "text/html": [
       "<div>\n",
       "<style scoped>\n",
       "    .dataframe tbody tr th:only-of-type {\n",
       "        vertical-align: middle;\n",
       "    }\n",
       "\n",
       "    .dataframe tbody tr th {\n",
       "        vertical-align: top;\n",
       "    }\n",
       "\n",
       "    .dataframe thead tr th {\n",
       "        text-align: left;\n",
       "    }\n",
       "\n",
       "    .dataframe thead tr:last-of-type th {\n",
       "        text-align: right;\n",
       "    }\n",
       "</style>\n",
       "<table border=\"1\" class=\"dataframe\">\n",
       "  <thead>\n",
       "    <tr>\n",
       "      <th>Attributes</th>\n",
       "      <th colspan=\"3\" halign=\"left\">Adj Close</th>\n",
       "    </tr>\n",
       "    <tr>\n",
       "      <th>Symbols</th>\n",
       "      <th>^GSPC</th>\n",
       "      <th>CL=F</th>\n",
       "      <th>BTC-USD</th>\n",
       "    </tr>\n",
       "    <tr>\n",
       "      <th>Date</th>\n",
       "      <th></th>\n",
       "      <th></th>\n",
       "      <th></th>\n",
       "    </tr>\n",
       "  </thead>\n",
       "  <tbody>\n",
       "    <tr>\n",
       "      <th>2017-10-31</th>\n",
       "      <td>2575.260010</td>\n",
       "      <td>54.380001</td>\n",
       "      <td>6468.399902</td>\n",
       "    </tr>\n",
       "    <tr>\n",
       "      <th>2017-11-01</th>\n",
       "      <td>2579.360107</td>\n",
       "      <td>54.299999</td>\n",
       "      <td>6767.310059</td>\n",
       "    </tr>\n",
       "    <tr>\n",
       "      <th>2017-11-02</th>\n",
       "      <td>2579.850098</td>\n",
       "      <td>54.540001</td>\n",
       "      <td>7078.500000</td>\n",
       "    </tr>\n",
       "    <tr>\n",
       "      <th>2017-11-03</th>\n",
       "      <td>2587.840088</td>\n",
       "      <td>55.639999</td>\n",
       "      <td>7207.759766</td>\n",
       "    </tr>\n",
       "    <tr>\n",
       "      <th>2017-11-04</th>\n",
       "      <td>NaN</td>\n",
       "      <td>NaN</td>\n",
       "      <td>7379.950195</td>\n",
       "    </tr>\n",
       "    <tr>\n",
       "      <th>...</th>\n",
       "      <td>...</td>\n",
       "      <td>...</td>\n",
       "      <td>...</td>\n",
       "    </tr>\n",
       "    <tr>\n",
       "      <th>2022-11-11</th>\n",
       "      <td>3992.929932</td>\n",
       "      <td>88.959999</td>\n",
       "      <td>17034.292969</td>\n",
       "    </tr>\n",
       "    <tr>\n",
       "      <th>2022-11-12</th>\n",
       "      <td>NaN</td>\n",
       "      <td>NaN</td>\n",
       "      <td>16799.185547</td>\n",
       "    </tr>\n",
       "    <tr>\n",
       "      <th>2022-11-13</th>\n",
       "      <td>NaN</td>\n",
       "      <td>NaN</td>\n",
       "      <td>16353.365234</td>\n",
       "    </tr>\n",
       "    <tr>\n",
       "      <th>2022-11-14</th>\n",
       "      <td>3957.250000</td>\n",
       "      <td>85.870003</td>\n",
       "      <td>NaN</td>\n",
       "    </tr>\n",
       "    <tr>\n",
       "      <th>2022-11-15</th>\n",
       "      <td>NaN</td>\n",
       "      <td>85.260002</td>\n",
       "      <td>16674.207031</td>\n",
       "    </tr>\n",
       "  </tbody>\n",
       "</table>\n",
       "<p>1842 rows × 3 columns</p>\n",
       "</div>"
      ],
      "text/plain": [
       "Attributes    Adj Close                         \n",
       "Symbols           ^GSPC       CL=F       BTC-USD\n",
       "Date                                            \n",
       "2017-10-31  2575.260010  54.380001   6468.399902\n",
       "2017-11-01  2579.360107  54.299999   6767.310059\n",
       "2017-11-02  2579.850098  54.540001   7078.500000\n",
       "2017-11-03  2587.840088  55.639999   7207.759766\n",
       "2017-11-04          NaN        NaN   7379.950195\n",
       "...                 ...        ...           ...\n",
       "2022-11-11  3992.929932  88.959999  17034.292969\n",
       "2022-11-12          NaN        NaN  16799.185547\n",
       "2022-11-13          NaN        NaN  16353.365234\n",
       "2022-11-14  3957.250000  85.870003           NaN\n",
       "2022-11-15          NaN  85.260002  16674.207031\n",
       "\n",
       "[1842 rows x 3 columns]"
      ]
     },
     "execution_count": 14,
     "metadata": {},
     "output_type": "execute_result"
    }
   ],
   "source": [
    "# Read the Historical financial Data\n",
    "p = web.get_data_yahoo(['^GSPC','CL=F','BTC-USD'], '10/31/2017', interval='d')\n",
    "p = p.iloc[:, [0,1,2]]\n",
    "p"
   ]
  },
  {
   "cell_type": "code",
   "execution_count": 10,
   "metadata": {},
   "outputs": [
    {
     "data": {
      "text/plain": [
       "Attributes  Symbols\n",
       "Adj Close   ^GSPC      573\n",
       "            CL=F       570\n",
       "            BTC-USD      1\n",
       "dtype: int64"
      ]
     },
     "execution_count": 10,
     "metadata": {},
     "output_type": "execute_result"
    }
   ],
   "source": [
    "#Count nulls\n",
    "p.isnull().sum()"
   ]
  },
  {
   "cell_type": "code",
   "execution_count": 15,
   "metadata": {},
   "outputs": [
    {
     "data": {
      "text/plain": [
       "Attributes  Symbols\n",
       "Adj Close   ^GSPC      0\n",
       "            CL=F       0\n",
       "            BTC-USD    0\n",
       "dtype: int64"
      ]
     },
     "execution_count": 15,
     "metadata": {},
     "output_type": "execute_result"
    }
   ],
   "source": [
    "# Drop nulls\n",
    "p.dropna(inplace=True)\n",
    "p.isnull().sum()"
   ]
  },
  {
   "cell_type": "code",
   "execution_count": 21,
   "metadata": {},
   "outputs": [
    {
     "data": {
      "text/html": [
       "<div>\n",
       "<style scoped>\n",
       "    .dataframe tbody tr th:only-of-type {\n",
       "        vertical-align: middle;\n",
       "    }\n",
       "\n",
       "    .dataframe tbody tr th {\n",
       "        vertical-align: top;\n",
       "    }\n",
       "\n",
       "    .dataframe thead th {\n",
       "        text-align: right;\n",
       "    }\n",
       "</style>\n",
       "<table border=\"1\" class=\"dataframe\">\n",
       "  <thead>\n",
       "    <tr style=\"text-align: right;\">\n",
       "      <th></th>\n",
       "      <th>High_Temp</th>\n",
       "      <th>Low_Temp</th>\n",
       "    </tr>\n",
       "    <tr>\n",
       "      <th>Date</th>\n",
       "      <th></th>\n",
       "      <th></th>\n",
       "    </tr>\n",
       "  </thead>\n",
       "  <tbody>\n",
       "    <tr>\n",
       "      <th>2018-10-31</th>\n",
       "      <td>17.5</td>\n",
       "      <td>7.3</td>\n",
       "    </tr>\n",
       "    <tr>\n",
       "      <th>2018-11-01</th>\n",
       "      <td>19.9</td>\n",
       "      <td>13.3</td>\n",
       "    </tr>\n",
       "    <tr>\n",
       "      <th>2018-11-02</th>\n",
       "      <td>20.4</td>\n",
       "      <td>17.6</td>\n",
       "    </tr>\n",
       "    <tr>\n",
       "      <th>2018-11-03</th>\n",
       "      <td>18.9</td>\n",
       "      <td>10.6</td>\n",
       "    </tr>\n",
       "    <tr>\n",
       "      <th>2018-11-04</th>\n",
       "      <td>13.5</td>\n",
       "      <td>7.6</td>\n",
       "    </tr>\n",
       "  </tbody>\n",
       "</table>\n",
       "</div>"
      ],
      "text/plain": [
       "            High_Temp  Low_Temp\n",
       "Date                           \n",
       "2018-10-31       17.5       7.3\n",
       "2018-11-01       19.9      13.3\n",
       "2018-11-02       20.4      17.6\n",
       "2018-11-03       18.9      10.6\n",
       "2018-11-04       13.5       7.6"
      ]
     },
     "execution_count": 21,
     "metadata": {},
     "output_type": "execute_result"
    }
   ],
   "source": [
    "# Reading Weather Data\n",
    "weather_data_path = Path('./weather_data_4years.csv')\n",
    "weather_df = pd.read_csv(weather_data_path, index_col=\"Date\", infer_datetime_format=True, parse_dates=True)\n",
    "weather_df.head()"
   ]
  },
  {
   "cell_type": "code",
   "execution_count": 29,
   "metadata": {},
   "outputs": [
    {
     "data": {
      "text/html": [
       "<div>\n",
       "<style scoped>\n",
       "    .dataframe tbody tr th:only-of-type {\n",
       "        vertical-align: middle;\n",
       "    }\n",
       "\n",
       "    .dataframe tbody tr th {\n",
       "        vertical-align: top;\n",
       "    }\n",
       "\n",
       "    .dataframe thead th {\n",
       "        text-align: right;\n",
       "    }\n",
       "</style>\n",
       "<table border=\"1\" class=\"dataframe\">\n",
       "  <thead>\n",
       "    <tr style=\"text-align: right;\">\n",
       "      <th></th>\n",
       "      <th>High_Temp</th>\n",
       "      <th>Low_Temp</th>\n",
       "      <th>Average_Temp</th>\n",
       "    </tr>\n",
       "    <tr>\n",
       "      <th>Date</th>\n",
       "      <th></th>\n",
       "      <th></th>\n",
       "      <th></th>\n",
       "    </tr>\n",
       "  </thead>\n",
       "  <tbody>\n",
       "    <tr>\n",
       "      <th>2018-10-31</th>\n",
       "      <td>17.5</td>\n",
       "      <td>7.3</td>\n",
       "      <td>12.40</td>\n",
       "    </tr>\n",
       "    <tr>\n",
       "      <th>2018-11-01</th>\n",
       "      <td>19.9</td>\n",
       "      <td>13.3</td>\n",
       "      <td>16.60</td>\n",
       "    </tr>\n",
       "    <tr>\n",
       "      <th>2018-11-02</th>\n",
       "      <td>20.4</td>\n",
       "      <td>17.6</td>\n",
       "      <td>19.00</td>\n",
       "    </tr>\n",
       "    <tr>\n",
       "      <th>2018-11-03</th>\n",
       "      <td>18.9</td>\n",
       "      <td>10.6</td>\n",
       "      <td>14.75</td>\n",
       "    </tr>\n",
       "    <tr>\n",
       "      <th>2018-11-04</th>\n",
       "      <td>13.5</td>\n",
       "      <td>7.6</td>\n",
       "      <td>10.55</td>\n",
       "    </tr>\n",
       "  </tbody>\n",
       "</table>\n",
       "</div>"
      ],
      "text/plain": [
       "            High_Temp  Low_Temp  Average_Temp\n",
       "Date                                         \n",
       "2018-10-31       17.5       7.3         12.40\n",
       "2018-11-01       19.9      13.3         16.60\n",
       "2018-11-02       20.4      17.6         19.00\n",
       "2018-11-03       18.9      10.6         14.75\n",
       "2018-11-04       13.5       7.6         10.55"
      ]
     },
     "execution_count": 29,
     "metadata": {},
     "output_type": "execute_result"
    }
   ],
   "source": [
    "# Add  Average Temp \n",
    "col = weather_df.loc[:,\"High_Temp\":\"Low_Temp\" ]\n",
    "weather_df['Average_Temp'] = col.mean(axis=1)\n",
    "# new_weather_df = weather_df[[\"High_Temp\",\"Low_Temp\"]].mean()\n",
    "weather_df.head()\n"
   ]
  },
  {
   "cell_type": "code",
   "execution_count": 30,
   "metadata": {},
   "outputs": [
    {
     "data": {
      "text/plain": [
       "High_Temp       float64\n",
       "Low_Temp        float64\n",
       "Average_Temp    float64\n",
       "dtype: object"
      ]
     },
     "execution_count": 30,
     "metadata": {},
     "output_type": "execute_result"
    }
   ],
   "source": [
    "weather_df.dtypes"
   ]
  },
  {
   "cell_type": "code",
   "execution_count": 31,
   "metadata": {},
   "outputs": [
    {
     "data": {
      "text/html": [
       "<div>\n",
       "<style scoped>\n",
       "    .dataframe tbody tr th:only-of-type {\n",
       "        vertical-align: middle;\n",
       "    }\n",
       "\n",
       "    .dataframe tbody tr th {\n",
       "        vertical-align: top;\n",
       "    }\n",
       "\n",
       "    .dataframe thead tr th {\n",
       "        text-align: left;\n",
       "    }\n",
       "\n",
       "    .dataframe thead tr:last-of-type th {\n",
       "        text-align: right;\n",
       "    }\n",
       "</style>\n",
       "<table border=\"1\" class=\"dataframe\">\n",
       "  <thead>\n",
       "    <tr>\n",
       "      <th>Attributes</th>\n",
       "      <th colspan=\"3\" halign=\"left\">Adj Close</th>\n",
       "    </tr>\n",
       "    <tr>\n",
       "      <th>Symbols</th>\n",
       "      <th>^GSPC</th>\n",
       "      <th>CL=F</th>\n",
       "      <th>BTC-USD</th>\n",
       "    </tr>\n",
       "    <tr>\n",
       "      <th>Date</th>\n",
       "      <th></th>\n",
       "      <th></th>\n",
       "      <th></th>\n",
       "    </tr>\n",
       "  </thead>\n",
       "  <tbody>\n",
       "    <tr>\n",
       "      <th>2017-10-31</th>\n",
       "      <td>NaN</td>\n",
       "      <td>NaN</td>\n",
       "      <td>NaN</td>\n",
       "    </tr>\n",
       "    <tr>\n",
       "      <th>2017-11-01</th>\n",
       "      <td>0.001592</td>\n",
       "      <td>-0.001471</td>\n",
       "      <td>0.046211</td>\n",
       "    </tr>\n",
       "    <tr>\n",
       "      <th>2017-11-02</th>\n",
       "      <td>0.000190</td>\n",
       "      <td>0.004420</td>\n",
       "      <td>0.045984</td>\n",
       "    </tr>\n",
       "    <tr>\n",
       "      <th>2017-11-03</th>\n",
       "      <td>0.003097</td>\n",
       "      <td>0.020169</td>\n",
       "      <td>0.018261</td>\n",
       "    </tr>\n",
       "    <tr>\n",
       "      <th>2017-11-06</th>\n",
       "      <td>0.001271</td>\n",
       "      <td>0.030733</td>\n",
       "      <td>-0.025667</td>\n",
       "    </tr>\n",
       "  </tbody>\n",
       "</table>\n",
       "</div>"
      ],
      "text/plain": [
       "Attributes Adj Close                    \n",
       "Symbols        ^GSPC      CL=F   BTC-USD\n",
       "Date                                    \n",
       "2017-10-31       NaN       NaN       NaN\n",
       "2017-11-01  0.001592 -0.001471  0.046211\n",
       "2017-11-02  0.000190  0.004420  0.045984\n",
       "2017-11-03  0.003097  0.020169  0.018261\n",
       "2017-11-06  0.001271  0.030733 -0.025667"
      ]
     },
     "execution_count": 31,
     "metadata": {},
     "output_type": "execute_result"
    }
   ],
   "source": [
    "p_returns = p.pct_change(fill_method=\"ffill\")\n",
    "p_returns.head()"
   ]
  },
  {
   "cell_type": "code",
   "execution_count": 19,
   "metadata": {},
   "outputs": [
    {
     "data": {
      "text/plain": [
       "Attributes  Symbols\n",
       "Adj Close   ^GSPC      0\n",
       "            CL=F       0\n",
       "            BTC-USD    0\n",
       "dtype: int64"
      ]
     },
     "execution_count": 19,
     "metadata": {},
     "output_type": "execute_result"
    }
   ],
   "source": [
    "p_returns.dropna(inplace=True)\n",
    "p_returns.isnull().sum()"
   ]
  },
  {
   "cell_type": "code",
   "execution_count": 33,
   "metadata": {},
   "outputs": [
    {
     "data": {
      "text/html": [
       "<div>\n",
       "<style scoped>\n",
       "    .dataframe tbody tr th:only-of-type {\n",
       "        vertical-align: middle;\n",
       "    }\n",
       "\n",
       "    .dataframe tbody tr th {\n",
       "        vertical-align: top;\n",
       "    }\n",
       "\n",
       "    .dataframe thead th {\n",
       "        text-align: right;\n",
       "    }\n",
       "</style>\n",
       "<table border=\"1\" class=\"dataframe\">\n",
       "  <thead>\n",
       "    <tr style=\"text-align: right;\">\n",
       "      <th></th>\n",
       "      <th>(Adj Close, ^GSPC)</th>\n",
       "      <th>(Adj Close, CL=F)</th>\n",
       "      <th>(Adj Close, BTC-USD)</th>\n",
       "      <th>Average_Temp</th>\n",
       "    </tr>\n",
       "    <tr>\n",
       "      <th>Date</th>\n",
       "      <th></th>\n",
       "      <th></th>\n",
       "      <th></th>\n",
       "      <th></th>\n",
       "    </tr>\n",
       "  </thead>\n",
       "  <tbody>\n",
       "    <tr>\n",
       "      <th>2018-10-31</th>\n",
       "      <td>2711.739990</td>\n",
       "      <td>65.309998</td>\n",
       "      <td>6317.609863</td>\n",
       "      <td>12.40</td>\n",
       "    </tr>\n",
       "    <tr>\n",
       "      <th>2018-11-01</th>\n",
       "      <td>2740.370117</td>\n",
       "      <td>63.689999</td>\n",
       "      <td>6377.779785</td>\n",
       "      <td>16.60</td>\n",
       "    </tr>\n",
       "    <tr>\n",
       "      <th>2018-11-02</th>\n",
       "      <td>2723.060059</td>\n",
       "      <td>63.139999</td>\n",
       "      <td>6388.439941</td>\n",
       "      <td>19.00</td>\n",
       "    </tr>\n",
       "    <tr>\n",
       "      <th>2018-11-05</th>\n",
       "      <td>2738.310059</td>\n",
       "      <td>63.099998</td>\n",
       "      <td>6419.660156</td>\n",
       "      <td>11.00</td>\n",
       "    </tr>\n",
       "    <tr>\n",
       "      <th>2018-11-06</th>\n",
       "      <td>2755.449951</td>\n",
       "      <td>62.209999</td>\n",
       "      <td>6461.009766</td>\n",
       "      <td>12.95</td>\n",
       "    </tr>\n",
       "  </tbody>\n",
       "</table>\n",
       "</div>"
      ],
      "text/plain": [
       "            (Adj Close, ^GSPC)  (Adj Close, CL=F)  (Adj Close, BTC-USD)  \\\n",
       "Date                                                                      \n",
       "2018-10-31         2711.739990          65.309998           6317.609863   \n",
       "2018-11-01         2740.370117          63.689999           6377.779785   \n",
       "2018-11-02         2723.060059          63.139999           6388.439941   \n",
       "2018-11-05         2738.310059          63.099998           6419.660156   \n",
       "2018-11-06         2755.449951          62.209999           6461.009766   \n",
       "\n",
       "            Average_Temp  \n",
       "Date                      \n",
       "2018-10-31         12.40  \n",
       "2018-11-01         16.60  \n",
       "2018-11-02         19.00  \n",
       "2018-11-05         11.00  \n",
       "2018-11-06         12.95  "
      ]
     },
     "execution_count": 33,
     "metadata": {},
     "output_type": "execute_result"
    }
   ],
   "source": [
    "# concate with weather data\n",
    "commined_weather_df = pd.concat([p, weather_df['Average_Temp'],], axis=\"columns\", join=\"inner\")\n",
    "commined_weather_df.head()"
   ]
  }
 ],
 "metadata": {
  "kernelspec": {
   "display_name": "Python 3.7.13 ('dev')",
   "language": "python",
   "name": "python3"
  },
  "language_info": {
   "codemirror_mode": {
    "name": "ipython",
    "version": 3
   },
   "file_extension": ".py",
   "mimetype": "text/x-python",
   "name": "python",
   "nbconvert_exporter": "python",
   "pygments_lexer": "ipython3",
   "version": "3.7.13"
  },
  "vscode": {
   "interpreter": {
    "hash": "6da2841371bf59b32999a785e64b06216d7cfd42a773cb5b902ec8175807909c"
   }
  }
 },
 "nbformat": 4,
 "nbformat_minor": 4
}
