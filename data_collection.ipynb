{
 "cells": [
  {
   "cell_type": "code",
   "execution_count": 44,
   "metadata": {},
   "outputs": [],
   "source": [
    "# Initial imports\n",
    "import pandas as pd\n",
    "import numpy as np\n",
    "import datetime as dt\n",
    "import seaborn as sns\n",
    "from pathlib import Path\n",
    "import pandas_datareader as web\n",
    "import requests\n",
    "from dotenv import load_dotenv\n",
    "import os\n",
    "import pprint\n",
    "from pytrends.request import TrendReq\n",
    "import matplotlib.pyplot as plt\n"
   ]
  },
  {
   "cell_type": "code",
   "execution_count": 45,
   "metadata": {},
   "outputs": [
    {
     "data": {
      "text/html": [
       "<div>\n",
       "<style scoped>\n",
       "    .dataframe tbody tr th:only-of-type {\n",
       "        vertical-align: middle;\n",
       "    }\n",
       "\n",
       "    .dataframe tbody tr th {\n",
       "        vertical-align: top;\n",
       "    }\n",
       "\n",
       "    .dataframe thead tr th {\n",
       "        text-align: left;\n",
       "    }\n",
       "\n",
       "    .dataframe thead tr:last-of-type th {\n",
       "        text-align: right;\n",
       "    }\n",
       "</style>\n",
       "<table border=\"1\" class=\"dataframe\">\n",
       "  <thead>\n",
       "    <tr>\n",
       "      <th>Attributes</th>\n",
       "      <th colspan=\"3\" halign=\"left\">Adj Close</th>\n",
       "    </tr>\n",
       "    <tr>\n",
       "      <th>Symbols</th>\n",
       "      <th>^GSPC</th>\n",
       "      <th>CL=F</th>\n",
       "      <th>BTC-USD</th>\n",
       "    </tr>\n",
       "    <tr>\n",
       "      <th>Date</th>\n",
       "      <th></th>\n",
       "      <th></th>\n",
       "      <th></th>\n",
       "    </tr>\n",
       "  </thead>\n",
       "  <tbody>\n",
       "    <tr>\n",
       "      <th>2017-10-31</th>\n",
       "      <td>2575.260010</td>\n",
       "      <td>54.380001</td>\n",
       "      <td>6468.399902</td>\n",
       "    </tr>\n",
       "    <tr>\n",
       "      <th>2017-11-01</th>\n",
       "      <td>2579.360107</td>\n",
       "      <td>54.299999</td>\n",
       "      <td>6767.310059</td>\n",
       "    </tr>\n",
       "    <tr>\n",
       "      <th>2017-11-02</th>\n",
       "      <td>2579.850098</td>\n",
       "      <td>54.540001</td>\n",
       "      <td>7078.500000</td>\n",
       "    </tr>\n",
       "    <tr>\n",
       "      <th>2017-11-03</th>\n",
       "      <td>2587.840088</td>\n",
       "      <td>55.639999</td>\n",
       "      <td>7207.759766</td>\n",
       "    </tr>\n",
       "    <tr>\n",
       "      <th>2017-11-04</th>\n",
       "      <td>NaN</td>\n",
       "      <td>NaN</td>\n",
       "      <td>7379.950195</td>\n",
       "    </tr>\n",
       "    <tr>\n",
       "      <th>...</th>\n",
       "      <td>...</td>\n",
       "      <td>...</td>\n",
       "      <td>...</td>\n",
       "    </tr>\n",
       "    <tr>\n",
       "      <th>2022-11-12</th>\n",
       "      <td>NaN</td>\n",
       "      <td>NaN</td>\n",
       "      <td>16799.185547</td>\n",
       "    </tr>\n",
       "    <tr>\n",
       "      <th>2022-11-13</th>\n",
       "      <td>NaN</td>\n",
       "      <td>NaN</td>\n",
       "      <td>16353.365234</td>\n",
       "    </tr>\n",
       "    <tr>\n",
       "      <th>2022-11-14</th>\n",
       "      <td>3957.250000</td>\n",
       "      <td>85.870003</td>\n",
       "      <td>16618.199219</td>\n",
       "    </tr>\n",
       "    <tr>\n",
       "      <th>2022-11-15</th>\n",
       "      <td>3991.729980</td>\n",
       "      <td>86.919998</td>\n",
       "      <td>NaN</td>\n",
       "    </tr>\n",
       "    <tr>\n",
       "      <th>2022-11-16</th>\n",
       "      <td>NaN</td>\n",
       "      <td>86.750000</td>\n",
       "      <td>16845.669922</td>\n",
       "    </tr>\n",
       "  </tbody>\n",
       "</table>\n",
       "<p>1843 rows × 3 columns</p>\n",
       "</div>"
      ],
      "text/plain": [
       "Attributes    Adj Close                         \n",
       "Symbols           ^GSPC       CL=F       BTC-USD\n",
       "Date                                            \n",
       "2017-10-31  2575.260010  54.380001   6468.399902\n",
       "2017-11-01  2579.360107  54.299999   6767.310059\n",
       "2017-11-02  2579.850098  54.540001   7078.500000\n",
       "2017-11-03  2587.840088  55.639999   7207.759766\n",
       "2017-11-04          NaN        NaN   7379.950195\n",
       "...                 ...        ...           ...\n",
       "2022-11-12          NaN        NaN  16799.185547\n",
       "2022-11-13          NaN        NaN  16353.365234\n",
       "2022-11-14  3957.250000  85.870003  16618.199219\n",
       "2022-11-15  3991.729980  86.919998           NaN\n",
       "2022-11-16          NaN  86.750000  16845.669922\n",
       "\n",
       "[1843 rows x 3 columns]"
      ]
     },
     "execution_count": 45,
     "metadata": {},
     "output_type": "execute_result"
    }
   ],
   "source": [
    "# Read the Historical financial Data\n",
    "p = web.get_data_yahoo(['^GSPC','CL=F','BTC-USD'], '10/31/2017', interval='d')\n",
    "p = p.iloc[:, [0,1,2]]\n",
    "p"
   ]
  },
  {
   "cell_type": "code",
   "execution_count": 46,
   "metadata": {},
   "outputs": [
    {
     "data": {
      "text/plain": [
       "Attributes  Symbols\n",
       "Adj Close   ^GSPC      573\n",
       "            CL=F       570\n",
       "            BTC-USD      1\n",
       "dtype: int64"
      ]
     },
     "execution_count": 46,
     "metadata": {},
     "output_type": "execute_result"
    }
   ],
   "source": [
    "#Count nulls\n",
    "p.isnull().sum()"
   ]
  },
  {
   "cell_type": "code",
   "execution_count": 47,
   "metadata": {},
   "outputs": [
    {
     "data": {
      "text/plain": [
       "Attributes  Symbols\n",
       "Adj Close   ^GSPC      0\n",
       "            CL=F       0\n",
       "            BTC-USD    0\n",
       "dtype: int64"
      ]
     },
     "execution_count": 47,
     "metadata": {},
     "output_type": "execute_result"
    }
   ],
   "source": [
    "# Drop nulls\n",
    "p.dropna(inplace=True)\n",
    "p.isnull().sum()"
   ]
  },
  {
   "cell_type": "code",
   "execution_count": 48,
   "metadata": {},
   "outputs": [
    {
     "data": {
      "text/html": [
       "<div>\n",
       "<style scoped>\n",
       "    .dataframe tbody tr th:only-of-type {\n",
       "        vertical-align: middle;\n",
       "    }\n",
       "\n",
       "    .dataframe tbody tr th {\n",
       "        vertical-align: top;\n",
       "    }\n",
       "\n",
       "    .dataframe thead th {\n",
       "        text-align: right;\n",
       "    }\n",
       "</style>\n",
       "<table border=\"1\" class=\"dataframe\">\n",
       "  <thead>\n",
       "    <tr style=\"text-align: right;\">\n",
       "      <th></th>\n",
       "      <th>High_Temp</th>\n",
       "      <th>Low_Temp</th>\n",
       "    </tr>\n",
       "    <tr>\n",
       "      <th>Date</th>\n",
       "      <th></th>\n",
       "      <th></th>\n",
       "    </tr>\n",
       "  </thead>\n",
       "  <tbody>\n",
       "    <tr>\n",
       "      <th>2018-10-31</th>\n",
       "      <td>17.5</td>\n",
       "      <td>7.3</td>\n",
       "    </tr>\n",
       "    <tr>\n",
       "      <th>2018-11-01</th>\n",
       "      <td>19.9</td>\n",
       "      <td>13.3</td>\n",
       "    </tr>\n",
       "    <tr>\n",
       "      <th>2018-11-02</th>\n",
       "      <td>20.4</td>\n",
       "      <td>17.6</td>\n",
       "    </tr>\n",
       "    <tr>\n",
       "      <th>2018-11-03</th>\n",
       "      <td>18.9</td>\n",
       "      <td>10.6</td>\n",
       "    </tr>\n",
       "    <tr>\n",
       "      <th>2018-11-04</th>\n",
       "      <td>13.5</td>\n",
       "      <td>7.6</td>\n",
       "    </tr>\n",
       "  </tbody>\n",
       "</table>\n",
       "</div>"
      ],
      "text/plain": [
       "            High_Temp  Low_Temp\n",
       "Date                           \n",
       "2018-10-31       17.5       7.3\n",
       "2018-11-01       19.9      13.3\n",
       "2018-11-02       20.4      17.6\n",
       "2018-11-03       18.9      10.6\n",
       "2018-11-04       13.5       7.6"
      ]
     },
     "execution_count": 48,
     "metadata": {},
     "output_type": "execute_result"
    }
   ],
   "source": [
    "# Reading Weather Data\n",
    "weather_data_path = Path('./weather_data_4years.csv')\n",
    "weather_df = pd.read_csv(weather_data_path, index_col=\"Date\", infer_datetime_format=True, parse_dates=True)\n",
    "weather_df.head()"
   ]
  },
  {
   "cell_type": "code",
   "execution_count": 49,
   "metadata": {},
   "outputs": [
    {
     "data": {
      "text/html": [
       "<div>\n",
       "<style scoped>\n",
       "    .dataframe tbody tr th:only-of-type {\n",
       "        vertical-align: middle;\n",
       "    }\n",
       "\n",
       "    .dataframe tbody tr th {\n",
       "        vertical-align: top;\n",
       "    }\n",
       "\n",
       "    .dataframe thead th {\n",
       "        text-align: right;\n",
       "    }\n",
       "</style>\n",
       "<table border=\"1\" class=\"dataframe\">\n",
       "  <thead>\n",
       "    <tr style=\"text-align: right;\">\n",
       "      <th></th>\n",
       "      <th>High_Temp</th>\n",
       "      <th>Low_Temp</th>\n",
       "      <th>Average_Temp</th>\n",
       "    </tr>\n",
       "    <tr>\n",
       "      <th>Date</th>\n",
       "      <th></th>\n",
       "      <th></th>\n",
       "      <th></th>\n",
       "    </tr>\n",
       "  </thead>\n",
       "  <tbody>\n",
       "    <tr>\n",
       "      <th>2018-10-31</th>\n",
       "      <td>17.5</td>\n",
       "      <td>7.3</td>\n",
       "      <td>12.40</td>\n",
       "    </tr>\n",
       "    <tr>\n",
       "      <th>2018-11-01</th>\n",
       "      <td>19.9</td>\n",
       "      <td>13.3</td>\n",
       "      <td>16.60</td>\n",
       "    </tr>\n",
       "    <tr>\n",
       "      <th>2018-11-02</th>\n",
       "      <td>20.4</td>\n",
       "      <td>17.6</td>\n",
       "      <td>19.00</td>\n",
       "    </tr>\n",
       "    <tr>\n",
       "      <th>2018-11-03</th>\n",
       "      <td>18.9</td>\n",
       "      <td>10.6</td>\n",
       "      <td>14.75</td>\n",
       "    </tr>\n",
       "    <tr>\n",
       "      <th>2018-11-04</th>\n",
       "      <td>13.5</td>\n",
       "      <td>7.6</td>\n",
       "      <td>10.55</td>\n",
       "    </tr>\n",
       "  </tbody>\n",
       "</table>\n",
       "</div>"
      ],
      "text/plain": [
       "            High_Temp  Low_Temp  Average_Temp\n",
       "Date                                         \n",
       "2018-10-31       17.5       7.3         12.40\n",
       "2018-11-01       19.9      13.3         16.60\n",
       "2018-11-02       20.4      17.6         19.00\n",
       "2018-11-03       18.9      10.6         14.75\n",
       "2018-11-04       13.5       7.6         10.55"
      ]
     },
     "execution_count": 49,
     "metadata": {},
     "output_type": "execute_result"
    }
   ],
   "source": [
    "# Add  Average Temp \n",
    "col = weather_df.loc[:,\"High_Temp\":\"Low_Temp\" ]\n",
    "weather_df['Average_Temp'] = col.mean(axis=1)\n",
    "# new_weather_df = weather_df[[\"High_Temp\",\"Low_Temp\"]].mean()\n",
    "weather_df.head()\n"
   ]
  },
  {
   "cell_type": "code",
   "execution_count": 50,
   "metadata": {},
   "outputs": [
    {
     "data": {
      "text/plain": [
       "High_Temp       float64\n",
       "Low_Temp        float64\n",
       "Average_Temp    float64\n",
       "dtype: object"
      ]
     },
     "execution_count": 50,
     "metadata": {},
     "output_type": "execute_result"
    }
   ],
   "source": [
    "weather_df.dtypes"
   ]
  },
  {
   "cell_type": "code",
   "execution_count": 51,
   "metadata": {},
   "outputs": [
    {
     "data": {
      "text/html": [
       "<div>\n",
       "<style scoped>\n",
       "    .dataframe tbody tr th:only-of-type {\n",
       "        vertical-align: middle;\n",
       "    }\n",
       "\n",
       "    .dataframe tbody tr th {\n",
       "        vertical-align: top;\n",
       "    }\n",
       "\n",
       "    .dataframe thead tr th {\n",
       "        text-align: left;\n",
       "    }\n",
       "\n",
       "    .dataframe thead tr:last-of-type th {\n",
       "        text-align: right;\n",
       "    }\n",
       "</style>\n",
       "<table border=\"1\" class=\"dataframe\">\n",
       "  <thead>\n",
       "    <tr>\n",
       "      <th>Attributes</th>\n",
       "      <th colspan=\"3\" halign=\"left\">Adj Close</th>\n",
       "    </tr>\n",
       "    <tr>\n",
       "      <th>Symbols</th>\n",
       "      <th>^GSPC</th>\n",
       "      <th>CL=F</th>\n",
       "      <th>BTC-USD</th>\n",
       "    </tr>\n",
       "    <tr>\n",
       "      <th>Date</th>\n",
       "      <th></th>\n",
       "      <th></th>\n",
       "      <th></th>\n",
       "    </tr>\n",
       "  </thead>\n",
       "  <tbody>\n",
       "    <tr>\n",
       "      <th>2017-10-31</th>\n",
       "      <td>NaN</td>\n",
       "      <td>NaN</td>\n",
       "      <td>NaN</td>\n",
       "    </tr>\n",
       "    <tr>\n",
       "      <th>2017-11-01</th>\n",
       "      <td>0.001592</td>\n",
       "      <td>-0.001471</td>\n",
       "      <td>0.046211</td>\n",
       "    </tr>\n",
       "    <tr>\n",
       "      <th>2017-11-02</th>\n",
       "      <td>0.000190</td>\n",
       "      <td>0.004420</td>\n",
       "      <td>0.045984</td>\n",
       "    </tr>\n",
       "    <tr>\n",
       "      <th>2017-11-03</th>\n",
       "      <td>0.003097</td>\n",
       "      <td>0.020169</td>\n",
       "      <td>0.018261</td>\n",
       "    </tr>\n",
       "    <tr>\n",
       "      <th>2017-11-06</th>\n",
       "      <td>0.001271</td>\n",
       "      <td>0.030733</td>\n",
       "      <td>-0.025667</td>\n",
       "    </tr>\n",
       "  </tbody>\n",
       "</table>\n",
       "</div>"
      ],
      "text/plain": [
       "Attributes Adj Close                    \n",
       "Symbols        ^GSPC      CL=F   BTC-USD\n",
       "Date                                    \n",
       "2017-10-31       NaN       NaN       NaN\n",
       "2017-11-01  0.001592 -0.001471  0.046211\n",
       "2017-11-02  0.000190  0.004420  0.045984\n",
       "2017-11-03  0.003097  0.020169  0.018261\n",
       "2017-11-06  0.001271  0.030733 -0.025667"
      ]
     },
     "execution_count": 51,
     "metadata": {},
     "output_type": "execute_result"
    }
   ],
   "source": [
    "p_returns = p.pct_change(fill_method=\"ffill\")\n",
    "p_returns.head()"
   ]
  },
  {
   "cell_type": "code",
   "execution_count": 52,
   "metadata": {},
   "outputs": [
    {
     "data": {
      "text/plain": [
       "Attributes  Symbols\n",
       "Adj Close   ^GSPC      0\n",
       "            CL=F       0\n",
       "            BTC-USD    0\n",
       "dtype: int64"
      ]
     },
     "execution_count": 52,
     "metadata": {},
     "output_type": "execute_result"
    }
   ],
   "source": [
    "p_returns.dropna(inplace=True)\n",
    "p_returns.isnull().sum()"
   ]
  },
  {
   "cell_type": "code",
   "execution_count": 53,
   "metadata": {},
   "outputs": [
    {
     "data": {
      "text/html": [
       "<div>\n",
       "<style scoped>\n",
       "    .dataframe tbody tr th:only-of-type {\n",
       "        vertical-align: middle;\n",
       "    }\n",
       "\n",
       "    .dataframe tbody tr th {\n",
       "        vertical-align: top;\n",
       "    }\n",
       "\n",
       "    .dataframe thead th {\n",
       "        text-align: right;\n",
       "    }\n",
       "</style>\n",
       "<table border=\"1\" class=\"dataframe\">\n",
       "  <thead>\n",
       "    <tr style=\"text-align: right;\">\n",
       "      <th></th>\n",
       "      <th>sp_500</th>\n",
       "      <th>WTI</th>\n",
       "      <th>BTC</th>\n",
       "    </tr>\n",
       "    <tr>\n",
       "      <th>Date</th>\n",
       "      <th></th>\n",
       "      <th></th>\n",
       "      <th></th>\n",
       "    </tr>\n",
       "  </thead>\n",
       "  <tbody>\n",
       "    <tr>\n",
       "      <th>2017-11-01</th>\n",
       "      <td>0.001592</td>\n",
       "      <td>-0.001471</td>\n",
       "      <td>0.046211</td>\n",
       "    </tr>\n",
       "    <tr>\n",
       "      <th>2017-11-02</th>\n",
       "      <td>0.000190</td>\n",
       "      <td>0.004420</td>\n",
       "      <td>0.045984</td>\n",
       "    </tr>\n",
       "    <tr>\n",
       "      <th>2017-11-03</th>\n",
       "      <td>0.003097</td>\n",
       "      <td>0.020169</td>\n",
       "      <td>0.018261</td>\n",
       "    </tr>\n",
       "    <tr>\n",
       "      <th>2017-11-06</th>\n",
       "      <td>0.001271</td>\n",
       "      <td>0.030733</td>\n",
       "      <td>-0.025667</td>\n",
       "    </tr>\n",
       "    <tr>\n",
       "      <th>2017-11-07</th>\n",
       "      <td>-0.000189</td>\n",
       "      <td>-0.002615</td>\n",
       "      <td>0.017318</td>\n",
       "    </tr>\n",
       "    <tr>\n",
       "      <th>...</th>\n",
       "      <td>...</td>\n",
       "      <td>...</td>\n",
       "      <td>...</td>\n",
       "    </tr>\n",
       "    <tr>\n",
       "      <th>2022-11-08</th>\n",
       "      <td>0.005598</td>\n",
       "      <td>-0.031376</td>\n",
       "      <td>-0.100061</td>\n",
       "    </tr>\n",
       "    <tr>\n",
       "      <th>2022-11-09</th>\n",
       "      <td>-0.020778</td>\n",
       "      <td>-0.034642</td>\n",
       "      <td>-0.143490</td>\n",
       "    </tr>\n",
       "    <tr>\n",
       "      <th>2022-11-10</th>\n",
       "      <td>0.055434</td>\n",
       "      <td>0.007457</td>\n",
       "      <td>0.107425</td>\n",
       "    </tr>\n",
       "    <tr>\n",
       "      <th>2022-11-11</th>\n",
       "      <td>0.009241</td>\n",
       "      <td>0.028796</td>\n",
       "      <td>-0.031414</td>\n",
       "    </tr>\n",
       "    <tr>\n",
       "      <th>2022-11-14</th>\n",
       "      <td>-0.008936</td>\n",
       "      <td>-0.034735</td>\n",
       "      <td>-0.024427</td>\n",
       "    </tr>\n",
       "  </tbody>\n",
       "</table>\n",
       "<p>1268 rows × 3 columns</p>\n",
       "</div>"
      ],
      "text/plain": [
       "              sp_500       WTI       BTC\n",
       "Date                                    \n",
       "2017-11-01  0.001592 -0.001471  0.046211\n",
       "2017-11-02  0.000190  0.004420  0.045984\n",
       "2017-11-03  0.003097  0.020169  0.018261\n",
       "2017-11-06  0.001271  0.030733 -0.025667\n",
       "2017-11-07 -0.000189 -0.002615  0.017318\n",
       "...              ...       ...       ...\n",
       "2022-11-08  0.005598 -0.031376 -0.100061\n",
       "2022-11-09 -0.020778 -0.034642 -0.143490\n",
       "2022-11-10  0.055434  0.007457  0.107425\n",
       "2022-11-11  0.009241  0.028796 -0.031414\n",
       "2022-11-14 -0.008936 -0.034735 -0.024427\n",
       "\n",
       "[1268 rows x 3 columns]"
      ]
     },
     "execution_count": 53,
     "metadata": {},
     "output_type": "execute_result"
    }
   ],
   "source": [
    "p_returns.columns = [' '.join(col).strip() for col in p.columns.values]\n",
    "columns = [\"sp_500\", \"WTI\", \"BTC\"]\n",
    "p_returns.columns = columns\n",
    "p_returns"
   ]
  },
  {
   "cell_type": "code",
   "execution_count": 54,
   "metadata": {},
   "outputs": [
    {
     "data": {
      "text/html": [
       "<div>\n",
       "<style scoped>\n",
       "    .dataframe tbody tr th:only-of-type {\n",
       "        vertical-align: middle;\n",
       "    }\n",
       "\n",
       "    .dataframe tbody tr th {\n",
       "        vertical-align: top;\n",
       "    }\n",
       "\n",
       "    .dataframe thead th {\n",
       "        text-align: right;\n",
       "    }\n",
       "</style>\n",
       "<table border=\"1\" class=\"dataframe\">\n",
       "  <thead>\n",
       "    <tr style=\"text-align: right;\">\n",
       "      <th></th>\n",
       "      <th>sp_500</th>\n",
       "      <th>WTI</th>\n",
       "      <th>BTC</th>\n",
       "      <th>Average_Temp</th>\n",
       "    </tr>\n",
       "    <tr>\n",
       "      <th>Date</th>\n",
       "      <th></th>\n",
       "      <th></th>\n",
       "      <th></th>\n",
       "      <th></th>\n",
       "    </tr>\n",
       "  </thead>\n",
       "  <tbody>\n",
       "    <tr>\n",
       "      <th>2018-10-31</th>\n",
       "      <td>0.010851</td>\n",
       "      <td>-0.013146</td>\n",
       "      <td>-0.002630</td>\n",
       "      <td>12.40</td>\n",
       "    </tr>\n",
       "    <tr>\n",
       "      <th>2018-11-01</th>\n",
       "      <td>0.010558</td>\n",
       "      <td>-0.024805</td>\n",
       "      <td>0.009524</td>\n",
       "      <td>16.60</td>\n",
       "    </tr>\n",
       "    <tr>\n",
       "      <th>2018-11-02</th>\n",
       "      <td>-0.006317</td>\n",
       "      <td>-0.008636</td>\n",
       "      <td>0.001671</td>\n",
       "      <td>19.00</td>\n",
       "    </tr>\n",
       "    <tr>\n",
       "      <th>2018-11-05</th>\n",
       "      <td>0.005600</td>\n",
       "      <td>-0.000634</td>\n",
       "      <td>0.004887</td>\n",
       "      <td>11.00</td>\n",
       "    </tr>\n",
       "    <tr>\n",
       "      <th>2018-11-06</th>\n",
       "      <td>0.006259</td>\n",
       "      <td>-0.014105</td>\n",
       "      <td>0.006441</td>\n",
       "      <td>12.95</td>\n",
       "    </tr>\n",
       "  </tbody>\n",
       "</table>\n",
       "</div>"
      ],
      "text/plain": [
       "              sp_500       WTI       BTC  Average_Temp\n",
       "Date                                                  \n",
       "2018-10-31  0.010851 -0.013146 -0.002630         12.40\n",
       "2018-11-01  0.010558 -0.024805  0.009524         16.60\n",
       "2018-11-02 -0.006317 -0.008636  0.001671         19.00\n",
       "2018-11-05  0.005600 -0.000634  0.004887         11.00\n",
       "2018-11-06  0.006259 -0.014105  0.006441         12.95"
      ]
     },
     "execution_count": 54,
     "metadata": {},
     "output_type": "execute_result"
    }
   ],
   "source": [
    "# concate with weather data\n",
    "commined_weather_df = pd.concat([p_returns, weather_df['Average_Temp'],], axis=\"columns\", join=\"inner\")\n",
    "commined_weather_df.head()"
   ]
  },
  {
   "cell_type": "code",
   "execution_count": 55,
   "metadata": {},
   "outputs": [
    {
     "data": {
      "text/plain": [
       "<AxesSubplot:xlabel='Date'>"
      ]
     },
     "execution_count": 55,
     "metadata": {},
     "output_type": "execute_result"
    },
    {
     "data": {
      "image/png": "[encoded data removed]",
      "text/plain": [
       "<Figure size 432x288 with 1 Axes>"
      ]
     },
     "metadata": {
      "needs_background": "light"
     },
     "output_type": "display_data"
    }
   ],
   "source": [
    "commined_weather_df.plot()"
   ]
  },
  {
   "cell_type": "code",
   "execution_count": 56,
   "metadata": {},
   "outputs": [
    {
     "data": {
      "text/plain": [
       "Text(0, 0.5, 'Average_Temp')"
      ]
     },
     "execution_count": 56,
     "metadata": {},
     "output_type": "execute_result"
    },
    {
     "data": {
      "image/png": "[encoded data removed]",
      "text/plain": [
       "<Figure size 432x288 with 1 Axes>"
      ]
     },
     "metadata": {
      "needs_background": "light"
     },
     "output_type": "display_data"
    }
   ],
   "source": [
    "import matplotlib.pyplot as plt\n",
    "commined_weather_df.plot(x='sp_500', y= 'Average_Temp', style= 'o')\n",
    "plt.xlabel ('^SP_500')\n",
    "plt.ylabel ('Average_Temp')\n",
    "# plt.show\n"
   ]
  },
  {
   "cell_type": "code",
   "execution_count": 57,
   "metadata": {},
   "outputs": [],
   "source": [
    "# Use pytrends to collect sentiment data\n",
    "\n",
    "pytrends = TrendReq(hl='en-US', tz=360)\n",
    "\n",
    "\n",
    "# sets sp500 to keyword\n",
    "kw_list = [\"s&p 500\"]\n",
    "pytrends.build_payload(kw_list, cat=0, timeframe='2021-10-31 2022-10-28', geo='', gprop='')"
   ]
  },
  {
   "cell_type": "code",
   "execution_count": 58,
   "metadata": {},
   "outputs": [
    {
     "name": "stdout",
     "output_type": "stream",
     "text": [
      "s&p 500:2022-09-01 2022-09-30\n",
      "s&p 500:2022-10-01 2022-10-31\n",
      "s&p 500:2022-11-01 2022-11-30\n"
     ]
    }
   ],
   "source": [
    "from pytrends import dailydata\n",
    "\n",
    "sp500_trends1 = dailydata.get_daily_data('s&p 500', 2022, 9, 2022, 11, geo='US')"
   ]
  },
  {
   "cell_type": "code",
   "execution_count": 59,
   "metadata": {},
   "outputs": [
    {
     "data": {
      "text/html": [
       "<div>\n",
       "<style scoped>\n",
       "    .dataframe tbody tr th:only-of-type {\n",
       "        vertical-align: middle;\n",
       "    }\n",
       "\n",
       "    .dataframe tbody tr th {\n",
       "        vertical-align: top;\n",
       "    }\n",
       "\n",
       "    .dataframe thead th {\n",
       "        text-align: right;\n",
       "    }\n",
       "</style>\n",
       "<table border=\"1\" class=\"dataframe\">\n",
       "  <thead>\n",
       "    <tr style=\"text-align: right;\">\n",
       "      <th></th>\n",
       "      <th>s&amp;p 500_unscaled</th>\n",
       "      <th>s&amp;p 500_monthly</th>\n",
       "      <th>isPartial</th>\n",
       "      <th>scale</th>\n",
       "      <th>s&amp;p 500</th>\n",
       "    </tr>\n",
       "    <tr>\n",
       "      <th>date</th>\n",
       "      <th></th>\n",
       "      <th></th>\n",
       "      <th></th>\n",
       "      <th></th>\n",
       "      <th></th>\n",
       "    </tr>\n",
       "  </thead>\n",
       "  <tbody>\n",
       "    <tr>\n",
       "      <th>2022-09-01</th>\n",
       "      <td>66</td>\n",
       "      <td>66</td>\n",
       "      <td>False</td>\n",
       "      <td>0.66</td>\n",
       "      <td>43.56</td>\n",
       "    </tr>\n",
       "    <tr>\n",
       "      <th>2022-09-02</th>\n",
       "      <td>61</td>\n",
       "      <td>61</td>\n",
       "      <td>False</td>\n",
       "      <td>0.61</td>\n",
       "      <td>37.21</td>\n",
       "    </tr>\n",
       "    <tr>\n",
       "      <th>2022-09-03</th>\n",
       "      <td>24</td>\n",
       "      <td>24</td>\n",
       "      <td>False</td>\n",
       "      <td>0.24</td>\n",
       "      <td>5.76</td>\n",
       "    </tr>\n",
       "    <tr>\n",
       "      <th>2022-09-04</th>\n",
       "      <td>14</td>\n",
       "      <td>14</td>\n",
       "      <td>False</td>\n",
       "      <td>0.14</td>\n",
       "      <td>1.96</td>\n",
       "    </tr>\n",
       "    <tr>\n",
       "      <th>2022-09-05</th>\n",
       "      <td>18</td>\n",
       "      <td>18</td>\n",
       "      <td>False</td>\n",
       "      <td>0.18</td>\n",
       "      <td>3.24</td>\n",
       "    </tr>\n",
       "    <tr>\n",
       "      <th>...</th>\n",
       "      <td>...</td>\n",
       "      <td>...</td>\n",
       "      <td>...</td>\n",
       "      <td>...</td>\n",
       "      <td>...</td>\n",
       "    </tr>\n",
       "    <tr>\n",
       "      <th>2022-11-08</th>\n",
       "      <td>70</td>\n",
       "      <td>61</td>\n",
       "      <td>False</td>\n",
       "      <td>0.61</td>\n",
       "      <td>42.70</td>\n",
       "    </tr>\n",
       "    <tr>\n",
       "      <th>2022-11-09</th>\n",
       "      <td>70</td>\n",
       "      <td>61</td>\n",
       "      <td>False</td>\n",
       "      <td>0.61</td>\n",
       "      <td>42.70</td>\n",
       "    </tr>\n",
       "    <tr>\n",
       "      <th>2022-11-10</th>\n",
       "      <td>100</td>\n",
       "      <td>87</td>\n",
       "      <td>False</td>\n",
       "      <td>0.87</td>\n",
       "      <td>87.00</td>\n",
       "    </tr>\n",
       "    <tr>\n",
       "      <th>2022-11-11</th>\n",
       "      <td>88</td>\n",
       "      <td>77</td>\n",
       "      <td>False</td>\n",
       "      <td>0.77</td>\n",
       "      <td>67.76</td>\n",
       "    </tr>\n",
       "    <tr>\n",
       "      <th>2022-11-12</th>\n",
       "      <td>27</td>\n",
       "      <td>24</td>\n",
       "      <td>False</td>\n",
       "      <td>0.24</td>\n",
       "      <td>6.48</td>\n",
       "    </tr>\n",
       "  </tbody>\n",
       "</table>\n",
       "<p>73 rows × 5 columns</p>\n",
       "</div>"
      ],
      "text/plain": [
       "            s&p 500_unscaled  s&p 500_monthly  isPartial  scale  s&p 500\n",
       "date                                                                    \n",
       "2022-09-01                66               66      False   0.66    43.56\n",
       "2022-09-02                61               61      False   0.61    37.21\n",
       "2022-09-03                24               24      False   0.24     5.76\n",
       "2022-09-04                14               14      False   0.14     1.96\n",
       "2022-09-05                18               18      False   0.18     3.24\n",
       "...                      ...              ...        ...    ...      ...\n",
       "2022-11-08                70               61      False   0.61    42.70\n",
       "2022-11-09                70               61      False   0.61    42.70\n",
       "2022-11-10               100               87      False   0.87    87.00\n",
       "2022-11-11                88               77      False   0.77    67.76\n",
       "2022-11-12                27               24      False   0.24     6.48\n",
       "\n",
       "[73 rows x 5 columns]"
      ]
     },
     "execution_count": 59,
     "metadata": {},
     "output_type": "execute_result"
    }
   ],
   "source": [
    "sp500_trends1"
   ]
  },
  {
   "cell_type": "code",
   "execution_count": 60,
   "metadata": {},
   "outputs": [
    {
     "name": "stdout",
     "output_type": "stream",
     "text": [
      "s&p 500:2022-06-01 2022-06-30\n",
      "s&p 500:2022-07-01 2022-07-31\n",
      "s&p 500:2022-08-01 2022-08-31\n"
     ]
    },
    {
     "data": {
      "text/html": [
       "<div>\n",
       "<style scoped>\n",
       "    .dataframe tbody tr th:only-of-type {\n",
       "        vertical-align: middle;\n",
       "    }\n",
       "\n",
       "    .dataframe tbody tr th {\n",
       "        vertical-align: top;\n",
       "    }\n",
       "\n",
       "    .dataframe thead th {\n",
       "        text-align: right;\n",
       "    }\n",
       "</style>\n",
       "<table border=\"1\" class=\"dataframe\">\n",
       "  <thead>\n",
       "    <tr style=\"text-align: right;\">\n",
       "      <th></th>\n",
       "      <th>s&amp;p 500_unscaled</th>\n",
       "      <th>s&amp;p 500_monthly</th>\n",
       "      <th>isPartial</th>\n",
       "      <th>scale</th>\n",
       "      <th>s&amp;p 500</th>\n",
       "    </tr>\n",
       "    <tr>\n",
       "      <th>date</th>\n",
       "      <th></th>\n",
       "      <th></th>\n",
       "      <th></th>\n",
       "      <th></th>\n",
       "      <th></th>\n",
       "    </tr>\n",
       "  </thead>\n",
       "  <tbody>\n",
       "    <tr>\n",
       "      <th>2022-06-01</th>\n",
       "      <td>51</td>\n",
       "      <td>51</td>\n",
       "      <td>False</td>\n",
       "      <td>0.51</td>\n",
       "      <td>26.01</td>\n",
       "    </tr>\n",
       "    <tr>\n",
       "      <th>2022-06-02</th>\n",
       "      <td>45</td>\n",
       "      <td>45</td>\n",
       "      <td>False</td>\n",
       "      <td>0.45</td>\n",
       "      <td>20.25</td>\n",
       "    </tr>\n",
       "    <tr>\n",
       "      <th>2022-06-03</th>\n",
       "      <td>46</td>\n",
       "      <td>46</td>\n",
       "      <td>False</td>\n",
       "      <td>0.46</td>\n",
       "      <td>21.16</td>\n",
       "    </tr>\n",
       "    <tr>\n",
       "      <th>2022-06-04</th>\n",
       "      <td>16</td>\n",
       "      <td>16</td>\n",
       "      <td>False</td>\n",
       "      <td>0.16</td>\n",
       "      <td>2.56</td>\n",
       "    </tr>\n",
       "    <tr>\n",
       "      <th>2022-06-05</th>\n",
       "      <td>12</td>\n",
       "      <td>12</td>\n",
       "      <td>False</td>\n",
       "      <td>0.12</td>\n",
       "      <td>1.44</td>\n",
       "    </tr>\n",
       "    <tr>\n",
       "      <th>...</th>\n",
       "      <td>...</td>\n",
       "      <td>...</td>\n",
       "      <td>...</td>\n",
       "      <td>...</td>\n",
       "      <td>...</td>\n",
       "    </tr>\n",
       "    <tr>\n",
       "      <th>2022-08-27</th>\n",
       "      <td>30</td>\n",
       "      <td>17</td>\n",
       "      <td>False</td>\n",
       "      <td>0.17</td>\n",
       "      <td>5.10</td>\n",
       "    </tr>\n",
       "    <tr>\n",
       "      <th>2022-08-28</th>\n",
       "      <td>25</td>\n",
       "      <td>14</td>\n",
       "      <td>False</td>\n",
       "      <td>0.14</td>\n",
       "      <td>3.50</td>\n",
       "    </tr>\n",
       "    <tr>\n",
       "      <th>2022-08-29</th>\n",
       "      <td>89</td>\n",
       "      <td>50</td>\n",
       "      <td>False</td>\n",
       "      <td>0.50</td>\n",
       "      <td>44.50</td>\n",
       "    </tr>\n",
       "    <tr>\n",
       "      <th>2022-08-30</th>\n",
       "      <td>84</td>\n",
       "      <td>47</td>\n",
       "      <td>False</td>\n",
       "      <td>0.47</td>\n",
       "      <td>39.48</td>\n",
       "    </tr>\n",
       "    <tr>\n",
       "      <th>2022-08-31</th>\n",
       "      <td>77</td>\n",
       "      <td>44</td>\n",
       "      <td>False</td>\n",
       "      <td>0.44</td>\n",
       "      <td>33.88</td>\n",
       "    </tr>\n",
       "  </tbody>\n",
       "</table>\n",
       "<p>92 rows × 5 columns</p>\n",
       "</div>"
      ],
      "text/plain": [
       "            s&p 500_unscaled  s&p 500_monthly  isPartial  scale  s&p 500\n",
       "date                                                                    \n",
       "2022-06-01                51               51      False   0.51    26.01\n",
       "2022-06-02                45               45      False   0.45    20.25\n",
       "2022-06-03                46               46      False   0.46    21.16\n",
       "2022-06-04                16               16      False   0.16     2.56\n",
       "2022-06-05                12               12      False   0.12     1.44\n",
       "...                      ...              ...        ...    ...      ...\n",
       "2022-08-27                30               17      False   0.17     5.10\n",
       "2022-08-28                25               14      False   0.14     3.50\n",
       "2022-08-29                89               50      False   0.50    44.50\n",
       "2022-08-30                84               47      False   0.47    39.48\n",
       "2022-08-31                77               44      False   0.44    33.88\n",
       "\n",
       "[92 rows x 5 columns]"
      ]
     },
     "execution_count": 60,
     "metadata": {},
     "output_type": "execute_result"
    }
   ],
   "source": [
    "sp500_trends2 = dailydata.get_daily_data('s&p 500', 2022, 6, 2022, 8, geo='US')\n",
    "sp500_trends2"
   ]
  },
  {
   "cell_type": "code",
   "execution_count": 61,
   "metadata": {},
   "outputs": [
    {
     "name": "stdout",
     "output_type": "stream",
     "text": [
      "s&p 500:2022-03-01 2022-03-31\n",
      "s&p 500:2022-04-01 2022-04-30\n",
      "s&p 500:2022-05-01 2022-05-31\n"
     ]
    },
    {
     "data": {
      "text/html": [
       "<div>\n",
       "<style scoped>\n",
       "    .dataframe tbody tr th:only-of-type {\n",
       "        vertical-align: middle;\n",
       "    }\n",
       "\n",
       "    .dataframe tbody tr th {\n",
       "        vertical-align: top;\n",
       "    }\n",
       "\n",
       "    .dataframe thead th {\n",
       "        text-align: right;\n",
       "    }\n",
       "</style>\n",
       "<table border=\"1\" class=\"dataframe\">\n",
       "  <thead>\n",
       "    <tr style=\"text-align: right;\">\n",
       "      <th></th>\n",
       "      <th>s&amp;p 500_unscaled</th>\n",
       "      <th>s&amp;p 500_monthly</th>\n",
       "      <th>isPartial</th>\n",
       "      <th>scale</th>\n",
       "      <th>s&amp;p 500</th>\n",
       "    </tr>\n",
       "    <tr>\n",
       "      <th>date</th>\n",
       "      <th></th>\n",
       "      <th></th>\n",
       "      <th></th>\n",
       "      <th></th>\n",
       "      <th></th>\n",
       "    </tr>\n",
       "  </thead>\n",
       "  <tbody>\n",
       "    <tr>\n",
       "      <th>2022-03-01</th>\n",
       "      <td>84</td>\n",
       "      <td>57</td>\n",
       "      <td>False</td>\n",
       "      <td>0.57</td>\n",
       "      <td>47.88</td>\n",
       "    </tr>\n",
       "    <tr>\n",
       "      <th>2022-03-02</th>\n",
       "      <td>84</td>\n",
       "      <td>57</td>\n",
       "      <td>False</td>\n",
       "      <td>0.57</td>\n",
       "      <td>47.88</td>\n",
       "    </tr>\n",
       "    <tr>\n",
       "      <th>2022-03-03</th>\n",
       "      <td>75</td>\n",
       "      <td>51</td>\n",
       "      <td>False</td>\n",
       "      <td>0.51</td>\n",
       "      <td>38.25</td>\n",
       "    </tr>\n",
       "    <tr>\n",
       "      <th>2022-03-04</th>\n",
       "      <td>74</td>\n",
       "      <td>51</td>\n",
       "      <td>False</td>\n",
       "      <td>0.51</td>\n",
       "      <td>37.74</td>\n",
       "    </tr>\n",
       "    <tr>\n",
       "      <th>2022-03-05</th>\n",
       "      <td>26</td>\n",
       "      <td>18</td>\n",
       "      <td>False</td>\n",
       "      <td>0.18</td>\n",
       "      <td>4.68</td>\n",
       "    </tr>\n",
       "    <tr>\n",
       "      <th>...</th>\n",
       "      <td>...</td>\n",
       "      <td>...</td>\n",
       "      <td>...</td>\n",
       "      <td>...</td>\n",
       "      <td>...</td>\n",
       "    </tr>\n",
       "    <tr>\n",
       "      <th>2022-05-27</th>\n",
       "      <td>56</td>\n",
       "      <td>56</td>\n",
       "      <td>False</td>\n",
       "      <td>0.56</td>\n",
       "      <td>31.36</td>\n",
       "    </tr>\n",
       "    <tr>\n",
       "      <th>2022-05-28</th>\n",
       "      <td>19</td>\n",
       "      <td>19</td>\n",
       "      <td>False</td>\n",
       "      <td>0.19</td>\n",
       "      <td>3.61</td>\n",
       "    </tr>\n",
       "    <tr>\n",
       "      <th>2022-05-29</th>\n",
       "      <td>11</td>\n",
       "      <td>11</td>\n",
       "      <td>False</td>\n",
       "      <td>0.11</td>\n",
       "      <td>1.21</td>\n",
       "    </tr>\n",
       "    <tr>\n",
       "      <th>2022-05-30</th>\n",
       "      <td>16</td>\n",
       "      <td>16</td>\n",
       "      <td>False</td>\n",
       "      <td>0.16</td>\n",
       "      <td>2.56</td>\n",
       "    </tr>\n",
       "    <tr>\n",
       "      <th>2022-05-31</th>\n",
       "      <td>56</td>\n",
       "      <td>56</td>\n",
       "      <td>False</td>\n",
       "      <td>0.56</td>\n",
       "      <td>31.36</td>\n",
       "    </tr>\n",
       "  </tbody>\n",
       "</table>\n",
       "<p>92 rows × 5 columns</p>\n",
       "</div>"
      ],
      "text/plain": [
       "            s&p 500_unscaled  s&p 500_monthly  isPartial  scale  s&p 500\n",
       "date                                                                    \n",
       "2022-03-01                84               57      False   0.57    47.88\n",
       "2022-03-02                84               57      False   0.57    47.88\n",
       "2022-03-03                75               51      False   0.51    38.25\n",
       "2022-03-04                74               51      False   0.51    37.74\n",
       "2022-03-05                26               18      False   0.18     4.68\n",
       "...                      ...              ...        ...    ...      ...\n",
       "2022-05-27                56               56      False   0.56    31.36\n",
       "2022-05-28                19               19      False   0.19     3.61\n",
       "2022-05-29                11               11      False   0.11     1.21\n",
       "2022-05-30                16               16      False   0.16     2.56\n",
       "2022-05-31                56               56      False   0.56    31.36\n",
       "\n",
       "[92 rows x 5 columns]"
      ]
     },
     "execution_count": 61,
     "metadata": {},
     "output_type": "execute_result"
    }
   ],
   "source": [
    "sp500_trends3 = dailydata.get_daily_data('s&p 500', 2022, 3, 2022, 5, geo='US')\n",
    "sp500_trends3"
   ]
  },
  {
   "cell_type": "code",
   "execution_count": 62,
   "metadata": {},
   "outputs": [],
   "source": [
    "# Concatinate the 3 sp500_trends dataframes\n",
    "trends_sp500_combined = pd.concat([sp500_trends1, sp500_trends2, sp500_trends3], axis='rows', join='inner')\n",
    "trends_sp500_combined.sort_index(ascending=True, inplace=True)\n",
    "trends_sp500_combined.drop(columns=['s&p 500_unscaled', 's&p 500_monthly', 'isPartial', 'scale'], inplace=True)\n",
    "trends_sp500_combined.columns = ['sentiment_score_sp_500']\n",
    "\n"
   ]
  },
  {
   "cell_type": "code",
   "execution_count": 63,
   "metadata": {},
   "outputs": [
    {
     "data": {
      "text/html": [
       "<div>\n",
       "<style scoped>\n",
       "    .dataframe tbody tr th:only-of-type {\n",
       "        vertical-align: middle;\n",
       "    }\n",
       "\n",
       "    .dataframe tbody tr th {\n",
       "        vertical-align: top;\n",
       "    }\n",
       "\n",
       "    .dataframe thead th {\n",
       "        text-align: right;\n",
       "    }\n",
       "</style>\n",
       "<table border=\"1\" class=\"dataframe\">\n",
       "  <thead>\n",
       "    <tr style=\"text-align: right;\">\n",
       "      <th></th>\n",
       "      <th>sentiment_score_sp_500</th>\n",
       "    </tr>\n",
       "    <tr>\n",
       "      <th>date</th>\n",
       "      <th></th>\n",
       "    </tr>\n",
       "  </thead>\n",
       "  <tbody>\n",
       "    <tr>\n",
       "      <th>2022-03-01</th>\n",
       "      <td>47.88</td>\n",
       "    </tr>\n",
       "    <tr>\n",
       "      <th>2022-03-02</th>\n",
       "      <td>47.88</td>\n",
       "    </tr>\n",
       "    <tr>\n",
       "      <th>2022-03-03</th>\n",
       "      <td>38.25</td>\n",
       "    </tr>\n",
       "    <tr>\n",
       "      <th>2022-03-04</th>\n",
       "      <td>37.74</td>\n",
       "    </tr>\n",
       "    <tr>\n",
       "      <th>2022-03-05</th>\n",
       "      <td>4.68</td>\n",
       "    </tr>\n",
       "    <tr>\n",
       "      <th>...</th>\n",
       "      <td>...</td>\n",
       "    </tr>\n",
       "    <tr>\n",
       "      <th>2022-11-08</th>\n",
       "      <td>42.70</td>\n",
       "    </tr>\n",
       "    <tr>\n",
       "      <th>2022-11-09</th>\n",
       "      <td>42.70</td>\n",
       "    </tr>\n",
       "    <tr>\n",
       "      <th>2022-11-10</th>\n",
       "      <td>87.00</td>\n",
       "    </tr>\n",
       "    <tr>\n",
       "      <th>2022-11-11</th>\n",
       "      <td>67.76</td>\n",
       "    </tr>\n",
       "    <tr>\n",
       "      <th>2022-11-12</th>\n",
       "      <td>6.48</td>\n",
       "    </tr>\n",
       "  </tbody>\n",
       "</table>\n",
       "<p>257 rows × 1 columns</p>\n",
       "</div>"
      ],
      "text/plain": [
       "            sentiment_score_sp_500\n",
       "date                              \n",
       "2022-03-01                   47.88\n",
       "2022-03-02                   47.88\n",
       "2022-03-03                   38.25\n",
       "2022-03-04                   37.74\n",
       "2022-03-05                    4.68\n",
       "...                            ...\n",
       "2022-11-08                   42.70\n",
       "2022-11-09                   42.70\n",
       "2022-11-10                   87.00\n",
       "2022-11-11                   67.76\n",
       "2022-11-12                    6.48\n",
       "\n",
       "[257 rows x 1 columns]"
      ]
     },
     "execution_count": 63,
     "metadata": {},
     "output_type": "execute_result"
    }
   ],
   "source": [
    "trends_sp500_combined"
   ]
  },
  {
   "cell_type": "code",
   "execution_count": 64,
   "metadata": {},
   "outputs": [
    {
     "data": {
      "text/html": [
       "<div>\n",
       "<style scoped>\n",
       "    .dataframe tbody tr th:only-of-type {\n",
       "        vertical-align: middle;\n",
       "    }\n",
       "\n",
       "    .dataframe tbody tr th {\n",
       "        vertical-align: top;\n",
       "    }\n",
       "\n",
       "    .dataframe thead th {\n",
       "        text-align: right;\n",
       "    }\n",
       "</style>\n",
       "<table border=\"1\" class=\"dataframe\">\n",
       "  <thead>\n",
       "    <tr style=\"text-align: right;\">\n",
       "      <th></th>\n",
       "      <th>sp_500</th>\n",
       "      <th>WTI</th>\n",
       "      <th>BTC</th>\n",
       "      <th>Average_Temp</th>\n",
       "      <th>sentiment_score_sp_500</th>\n",
       "    </tr>\n",
       "  </thead>\n",
       "  <tbody>\n",
       "    <tr>\n",
       "      <th>2022-03-01</th>\n",
       "      <td>-0.015474</td>\n",
       "      <td>0.080339</td>\n",
       "      <td>0.026889</td>\n",
       "      <td>3.80</td>\n",
       "      <td>47.88</td>\n",
       "    </tr>\n",
       "    <tr>\n",
       "      <th>2022-03-02</th>\n",
       "      <td>0.018643</td>\n",
       "      <td>0.069529</td>\n",
       "      <td>-0.009706</td>\n",
       "      <td>7.35</td>\n",
       "      <td>47.88</td>\n",
       "    </tr>\n",
       "    <tr>\n",
       "      <th>2022-03-03</th>\n",
       "      <td>-0.005255</td>\n",
       "      <td>-0.026492</td>\n",
       "      <td>-0.033520</td>\n",
       "      <td>1.65</td>\n",
       "      <td>38.25</td>\n",
       "    </tr>\n",
       "    <tr>\n",
       "      <th>2022-03-04</th>\n",
       "      <td>-0.007934</td>\n",
       "      <td>0.074394</td>\n",
       "      <td>-0.078069</td>\n",
       "      <td>-1.60</td>\n",
       "      <td>37.74</td>\n",
       "    </tr>\n",
       "    <tr>\n",
       "      <th>2022-03-07</th>\n",
       "      <td>-0.029518</td>\n",
       "      <td>0.032158</td>\n",
       "      <td>-0.027482</td>\n",
       "      <td>16.45</td>\n",
       "      <td>52.80</td>\n",
       "    </tr>\n",
       "    <tr>\n",
       "      <th>...</th>\n",
       "      <td>...</td>\n",
       "      <td>...</td>\n",
       "      <td>...</td>\n",
       "      <td>...</td>\n",
       "      <td>...</td>\n",
       "    </tr>\n",
       "    <tr>\n",
       "      <th>2022-10-24</th>\n",
       "      <td>0.011882</td>\n",
       "      <td>-0.005526</td>\n",
       "      <td>0.009029</td>\n",
       "      <td>14.75</td>\n",
       "      <td>43.31</td>\n",
       "    </tr>\n",
       "    <tr>\n",
       "      <th>2022-10-25</th>\n",
       "      <td>0.016267</td>\n",
       "      <td>0.008749</td>\n",
       "      <td>0.038783</td>\n",
       "      <td>18.80</td>\n",
       "      <td>59.76</td>\n",
       "    </tr>\n",
       "    <tr>\n",
       "      <th>2022-10-26</th>\n",
       "      <td>-0.007388</td>\n",
       "      <td>0.030356</td>\n",
       "      <td>0.033568</td>\n",
       "      <td>19.40</td>\n",
       "      <td>59.76</td>\n",
       "    </tr>\n",
       "    <tr>\n",
       "      <th>2022-10-27</th>\n",
       "      <td>-0.006083</td>\n",
       "      <td>0.013309</td>\n",
       "      <td>-0.023331</td>\n",
       "      <td>16.15</td>\n",
       "      <td>55.20</td>\n",
       "    </tr>\n",
       "    <tr>\n",
       "      <th>2022-10-28</th>\n",
       "      <td>0.024626</td>\n",
       "      <td>-0.013247</td>\n",
       "      <td>0.015258</td>\n",
       "      <td>11.55</td>\n",
       "      <td>59.76</td>\n",
       "    </tr>\n",
       "  </tbody>\n",
       "</table>\n",
       "<p>169 rows × 5 columns</p>\n",
       "</div>"
      ],
      "text/plain": [
       "              sp_500       WTI       BTC  Average_Temp  sentiment_score_sp_500\n",
       "2022-03-01 -0.015474  0.080339  0.026889          3.80                   47.88\n",
       "2022-03-02  0.018643  0.069529 -0.009706          7.35                   47.88\n",
       "2022-03-03 -0.005255 -0.026492 -0.033520          1.65                   38.25\n",
       "2022-03-04 -0.007934  0.074394 -0.078069         -1.60                   37.74\n",
       "2022-03-07 -0.029518  0.032158 -0.027482         16.45                   52.80\n",
       "...              ...       ...       ...           ...                     ...\n",
       "2022-10-24  0.011882 -0.005526  0.009029         14.75                   43.31\n",
       "2022-10-25  0.016267  0.008749  0.038783         18.80                   59.76\n",
       "2022-10-26 -0.007388  0.030356  0.033568         19.40                   59.76\n",
       "2022-10-27 -0.006083  0.013309 -0.023331         16.15                   55.20\n",
       "2022-10-28  0.024626 -0.013247  0.015258         11.55                   59.76\n",
       "\n",
       "[169 rows x 5 columns]"
      ]
     },
     "execution_count": 64,
     "metadata": {},
     "output_type": "execute_result"
    }
   ],
   "source": [
    "# Concatinate trends dataframe with the assets dataframe\n",
    "assets_plus_sp500sentiment_dataframe = pd.concat([commined_weather_df, trends_sp500_combined], axis='columns', join='inner')\n",
    "assets_plus_sp500sentiment_dataframe"
   ]
  },
  {
   "cell_type": "code",
   "execution_count": 65,
   "metadata": {},
   "outputs": [
    {
     "data": {
      "text/plain": [
       "<function matplotlib.pyplot.show(close=None, block=None)>"
      ]
     },
     "execution_count": 65,
     "metadata": {},
     "output_type": "execute_result"
    },
    {
     "data": {
      "image/png": "[encoded data removed]",
      "text/plain": [
       "<Figure size 432x288 with 1 Axes>"
      ]
     },
     "metadata": {
      "needs_background": "light"
     },
     "output_type": "display_data"
    }
   ],
   "source": [
    "# Sentiment graph\n",
    "assets_plus_sp500sentiment_dataframe.plot(x='sp_500', y= 'sentiment_score_sp_500', style= 'o')\n",
    "plt.xlabel ('^SP_500')\n",
    "plt.ylabel ('sentiment_score_sp_500')\n",
    "plt.show"
   ]
  },
  {
   "cell_type": "code",
   "execution_count": 66,
   "metadata": {},
   "outputs": [
    {
     "name": "stdout",
     "output_type": "stream",
     "text": [
      "WTI:2022-09-01 2022-09-30\n",
      "WTI:2022-10-01 2022-10-31\n",
      "WTI:2022-11-01 2022-11-30\n"
     ]
    },
    {
     "data": {
      "text/html": [
       "<div>\n",
       "<style scoped>\n",
       "    .dataframe tbody tr th:only-of-type {\n",
       "        vertical-align: middle;\n",
       "    }\n",
       "\n",
       "    .dataframe tbody tr th {\n",
       "        vertical-align: top;\n",
       "    }\n",
       "\n",
       "    .dataframe thead th {\n",
       "        text-align: right;\n",
       "    }\n",
       "</style>\n",
       "<table border=\"1\" class=\"dataframe\">\n",
       "  <thead>\n",
       "    <tr style=\"text-align: right;\">\n",
       "      <th></th>\n",
       "      <th>WTI_unscaled</th>\n",
       "      <th>WTI_monthly</th>\n",
       "      <th>isPartial</th>\n",
       "      <th>scale</th>\n",
       "      <th>WTI</th>\n",
       "    </tr>\n",
       "    <tr>\n",
       "      <th>date</th>\n",
       "      <th></th>\n",
       "      <th></th>\n",
       "      <th></th>\n",
       "      <th></th>\n",
       "      <th></th>\n",
       "    </tr>\n",
       "  </thead>\n",
       "  <tbody>\n",
       "    <tr>\n",
       "      <th>2022-09-01</th>\n",
       "      <td>77</td>\n",
       "      <td>60</td>\n",
       "      <td>False</td>\n",
       "      <td>0.60</td>\n",
       "      <td>46.20</td>\n",
       "    </tr>\n",
       "    <tr>\n",
       "      <th>2022-09-02</th>\n",
       "      <td>51</td>\n",
       "      <td>39</td>\n",
       "      <td>False</td>\n",
       "      <td>0.39</td>\n",
       "      <td>19.89</td>\n",
       "    </tr>\n",
       "    <tr>\n",
       "      <th>2022-09-03</th>\n",
       "      <td>15</td>\n",
       "      <td>12</td>\n",
       "      <td>False</td>\n",
       "      <td>0.12</td>\n",
       "      <td>1.80</td>\n",
       "    </tr>\n",
       "    <tr>\n",
       "      <th>2022-09-04</th>\n",
       "      <td>32</td>\n",
       "      <td>25</td>\n",
       "      <td>False</td>\n",
       "      <td>0.25</td>\n",
       "      <td>8.00</td>\n",
       "    </tr>\n",
       "    <tr>\n",
       "      <th>2022-09-05</th>\n",
       "      <td>69</td>\n",
       "      <td>53</td>\n",
       "      <td>False</td>\n",
       "      <td>0.53</td>\n",
       "      <td>36.57</td>\n",
       "    </tr>\n",
       "    <tr>\n",
       "      <th>...</th>\n",
       "      <td>...</td>\n",
       "      <td>...</td>\n",
       "      <td>...</td>\n",
       "      <td>...</td>\n",
       "      <td>...</td>\n",
       "    </tr>\n",
       "    <tr>\n",
       "      <th>2022-11-08</th>\n",
       "      <td>73</td>\n",
       "      <td>39</td>\n",
       "      <td>False</td>\n",
       "      <td>0.39</td>\n",
       "      <td>28.47</td>\n",
       "    </tr>\n",
       "    <tr>\n",
       "      <th>2022-11-09</th>\n",
       "      <td>84</td>\n",
       "      <td>45</td>\n",
       "      <td>False</td>\n",
       "      <td>0.45</td>\n",
       "      <td>37.80</td>\n",
       "    </tr>\n",
       "    <tr>\n",
       "      <th>2022-11-10</th>\n",
       "      <td>43</td>\n",
       "      <td>23</td>\n",
       "      <td>False</td>\n",
       "      <td>0.23</td>\n",
       "      <td>9.89</td>\n",
       "    </tr>\n",
       "    <tr>\n",
       "      <th>2022-11-11</th>\n",
       "      <td>73</td>\n",
       "      <td>39</td>\n",
       "      <td>False</td>\n",
       "      <td>0.39</td>\n",
       "      <td>28.47</td>\n",
       "    </tr>\n",
       "    <tr>\n",
       "      <th>2022-11-12</th>\n",
       "      <td>41</td>\n",
       "      <td>22</td>\n",
       "      <td>False</td>\n",
       "      <td>0.22</td>\n",
       "      <td>9.02</td>\n",
       "    </tr>\n",
       "  </tbody>\n",
       "</table>\n",
       "<p>73 rows × 5 columns</p>\n",
       "</div>"
      ],
      "text/plain": [
       "            WTI_unscaled  WTI_monthly  isPartial  scale    WTI\n",
       "date                                                          \n",
       "2022-09-01            77           60      False   0.60  46.20\n",
       "2022-09-02            51           39      False   0.39  19.89\n",
       "2022-09-03            15           12      False   0.12   1.80\n",
       "2022-09-04            32           25      False   0.25   8.00\n",
       "2022-09-05            69           53      False   0.53  36.57\n",
       "...                  ...          ...        ...    ...    ...\n",
       "2022-11-08            73           39      False   0.39  28.47\n",
       "2022-11-09            84           45      False   0.45  37.80\n",
       "2022-11-10            43           23      False   0.23   9.89\n",
       "2022-11-11            73           39      False   0.39  28.47\n",
       "2022-11-12            41           22      False   0.22   9.02\n",
       "\n",
       "[73 rows x 5 columns]"
      ]
     },
     "execution_count": 66,
     "metadata": {},
     "output_type": "execute_result"
    }
   ],
   "source": [
    "oil_trends1 = dailydata.get_daily_data('WTI', 2022, 9, 2022, 11, geo='US')\n",
    "oil_trends1"
   ]
  },
  {
   "cell_type": "code",
   "execution_count": 67,
   "metadata": {},
   "outputs": [
    {
     "name": "stdout",
     "output_type": "stream",
     "text": [
      "WTI:2022-06-01 2022-06-30\n",
      "WTI:2022-07-01 2022-07-31\n",
      "WTI:2022-08-01 2022-08-31\n"
     ]
    },
    {
     "data": {
      "text/html": [
       "<div>\n",
       "<style scoped>\n",
       "    .dataframe tbody tr th:only-of-type {\n",
       "        vertical-align: middle;\n",
       "    }\n",
       "\n",
       "    .dataframe tbody tr th {\n",
       "        vertical-align: top;\n",
       "    }\n",
       "\n",
       "    .dataframe thead th {\n",
       "        text-align: right;\n",
       "    }\n",
       "</style>\n",
       "<table border=\"1\" class=\"dataframe\">\n",
       "  <thead>\n",
       "    <tr style=\"text-align: right;\">\n",
       "      <th></th>\n",
       "      <th>WTI_unscaled</th>\n",
       "      <th>WTI_monthly</th>\n",
       "      <th>isPartial</th>\n",
       "      <th>scale</th>\n",
       "      <th>WTI</th>\n",
       "    </tr>\n",
       "    <tr>\n",
       "      <th>date</th>\n",
       "      <th></th>\n",
       "      <th></th>\n",
       "      <th></th>\n",
       "      <th></th>\n",
       "      <th></th>\n",
       "    </tr>\n",
       "  </thead>\n",
       "  <tbody>\n",
       "    <tr>\n",
       "      <th>2022-06-01</th>\n",
       "      <td>62</td>\n",
       "      <td>40</td>\n",
       "      <td>False</td>\n",
       "      <td>0.40</td>\n",
       "      <td>24.80</td>\n",
       "    </tr>\n",
       "    <tr>\n",
       "      <th>2022-06-02</th>\n",
       "      <td>98</td>\n",
       "      <td>63</td>\n",
       "      <td>False</td>\n",
       "      <td>0.63</td>\n",
       "      <td>61.74</td>\n",
       "    </tr>\n",
       "    <tr>\n",
       "      <th>2022-06-03</th>\n",
       "      <td>71</td>\n",
       "      <td>46</td>\n",
       "      <td>False</td>\n",
       "      <td>0.46</td>\n",
       "      <td>32.66</td>\n",
       "    </tr>\n",
       "    <tr>\n",
       "      <th>2022-06-04</th>\n",
       "      <td>34</td>\n",
       "      <td>22</td>\n",
       "      <td>False</td>\n",
       "      <td>0.22</td>\n",
       "      <td>7.48</td>\n",
       "    </tr>\n",
       "    <tr>\n",
       "      <th>2022-06-05</th>\n",
       "      <td>31</td>\n",
       "      <td>20</td>\n",
       "      <td>False</td>\n",
       "      <td>0.20</td>\n",
       "      <td>6.20</td>\n",
       "    </tr>\n",
       "    <tr>\n",
       "      <th>...</th>\n",
       "      <td>...</td>\n",
       "      <td>...</td>\n",
       "      <td>...</td>\n",
       "      <td>...</td>\n",
       "      <td>...</td>\n",
       "    </tr>\n",
       "    <tr>\n",
       "      <th>2022-08-27</th>\n",
       "      <td>14</td>\n",
       "      <td>8</td>\n",
       "      <td>False</td>\n",
       "      <td>0.08</td>\n",
       "      <td>1.12</td>\n",
       "    </tr>\n",
       "    <tr>\n",
       "      <th>2022-08-28</th>\n",
       "      <td>26</td>\n",
       "      <td>14</td>\n",
       "      <td>False</td>\n",
       "      <td>0.14</td>\n",
       "      <td>3.64</td>\n",
       "    </tr>\n",
       "    <tr>\n",
       "      <th>2022-08-29</th>\n",
       "      <td>70</td>\n",
       "      <td>37</td>\n",
       "      <td>False</td>\n",
       "      <td>0.37</td>\n",
       "      <td>25.90</td>\n",
       "    </tr>\n",
       "    <tr>\n",
       "      <th>2022-08-30</th>\n",
       "      <td>73</td>\n",
       "      <td>39</td>\n",
       "      <td>False</td>\n",
       "      <td>0.39</td>\n",
       "      <td>28.47</td>\n",
       "    </tr>\n",
       "    <tr>\n",
       "      <th>2022-08-31</th>\n",
       "      <td>92</td>\n",
       "      <td>49</td>\n",
       "      <td>False</td>\n",
       "      <td>0.49</td>\n",
       "      <td>45.08</td>\n",
       "    </tr>\n",
       "  </tbody>\n",
       "</table>\n",
       "<p>92 rows × 5 columns</p>\n",
       "</div>"
      ],
      "text/plain": [
       "            WTI_unscaled  WTI_monthly  isPartial  scale    WTI\n",
       "date                                                          \n",
       "2022-06-01            62           40      False   0.40  24.80\n",
       "2022-06-02            98           63      False   0.63  61.74\n",
       "2022-06-03            71           46      False   0.46  32.66\n",
       "2022-06-04            34           22      False   0.22   7.48\n",
       "2022-06-05            31           20      False   0.20   6.20\n",
       "...                  ...          ...        ...    ...    ...\n",
       "2022-08-27            14            8      False   0.08   1.12\n",
       "2022-08-28            26           14      False   0.14   3.64\n",
       "2022-08-29            70           37      False   0.37  25.90\n",
       "2022-08-30            73           39      False   0.39  28.47\n",
       "2022-08-31            92           49      False   0.49  45.08\n",
       "\n",
       "[92 rows x 5 columns]"
      ]
     },
     "execution_count": 67,
     "metadata": {},
     "output_type": "execute_result"
    }
   ],
   "source": [
    "oil_trends2 = dailydata.get_daily_data('WTI', 2022, 6, 2022, 8, geo='US')\n",
    "oil_trends2"
   ]
  },
  {
   "cell_type": "code",
   "execution_count": 68,
   "metadata": {},
   "outputs": [
    {
     "name": "stdout",
     "output_type": "stream",
     "text": [
      "WTI:2022-03-01 2022-03-31\n",
      "WTI:2022-04-01 2022-04-30\n",
      "WTI:2022-05-01 2022-05-31\n"
     ]
    },
    {
     "data": {
      "text/html": [
       "<div>\n",
       "<style scoped>\n",
       "    .dataframe tbody tr th:only-of-type {\n",
       "        vertical-align: middle;\n",
       "    }\n",
       "\n",
       "    .dataframe tbody tr th {\n",
       "        vertical-align: top;\n",
       "    }\n",
       "\n",
       "    .dataframe thead th {\n",
       "        text-align: right;\n",
       "    }\n",
       "</style>\n",
       "<table border=\"1\" class=\"dataframe\">\n",
       "  <thead>\n",
       "    <tr style=\"text-align: right;\">\n",
       "      <th></th>\n",
       "      <th>WTI_unscaled</th>\n",
       "      <th>WTI_monthly</th>\n",
       "      <th>isPartial</th>\n",
       "      <th>scale</th>\n",
       "      <th>WTI</th>\n",
       "    </tr>\n",
       "    <tr>\n",
       "      <th>date</th>\n",
       "      <th></th>\n",
       "      <th></th>\n",
       "      <th></th>\n",
       "      <th></th>\n",
       "      <th></th>\n",
       "    </tr>\n",
       "  </thead>\n",
       "  <tbody>\n",
       "    <tr>\n",
       "      <th>2022-03-01</th>\n",
       "      <td>44</td>\n",
       "      <td>44</td>\n",
       "      <td>False</td>\n",
       "      <td>0.44</td>\n",
       "      <td>19.36</td>\n",
       "    </tr>\n",
       "    <tr>\n",
       "      <th>2022-03-02</th>\n",
       "      <td>56</td>\n",
       "      <td>56</td>\n",
       "      <td>False</td>\n",
       "      <td>0.56</td>\n",
       "      <td>31.36</td>\n",
       "    </tr>\n",
       "    <tr>\n",
       "      <th>2022-03-03</th>\n",
       "      <td>49</td>\n",
       "      <td>49</td>\n",
       "      <td>False</td>\n",
       "      <td>0.49</td>\n",
       "      <td>24.01</td>\n",
       "    </tr>\n",
       "    <tr>\n",
       "      <th>2022-03-04</th>\n",
       "      <td>53</td>\n",
       "      <td>53</td>\n",
       "      <td>False</td>\n",
       "      <td>0.53</td>\n",
       "      <td>28.09</td>\n",
       "    </tr>\n",
       "    <tr>\n",
       "      <th>2022-03-05</th>\n",
       "      <td>27</td>\n",
       "      <td>27</td>\n",
       "      <td>False</td>\n",
       "      <td>0.27</td>\n",
       "      <td>7.29</td>\n",
       "    </tr>\n",
       "    <tr>\n",
       "      <th>...</th>\n",
       "      <td>...</td>\n",
       "      <td>...</td>\n",
       "      <td>...</td>\n",
       "      <td>...</td>\n",
       "      <td>...</td>\n",
       "    </tr>\n",
       "    <tr>\n",
       "      <th>2022-05-27</th>\n",
       "      <td>58</td>\n",
       "      <td>18</td>\n",
       "      <td>False</td>\n",
       "      <td>0.18</td>\n",
       "      <td>10.44</td>\n",
       "    </tr>\n",
       "    <tr>\n",
       "      <th>2022-05-28</th>\n",
       "      <td>19</td>\n",
       "      <td>6</td>\n",
       "      <td>False</td>\n",
       "      <td>0.06</td>\n",
       "      <td>1.14</td>\n",
       "    </tr>\n",
       "    <tr>\n",
       "      <th>2022-05-29</th>\n",
       "      <td>21</td>\n",
       "      <td>6</td>\n",
       "      <td>False</td>\n",
       "      <td>0.06</td>\n",
       "      <td>1.26</td>\n",
       "    </tr>\n",
       "    <tr>\n",
       "      <th>2022-05-30</th>\n",
       "      <td>32</td>\n",
       "      <td>10</td>\n",
       "      <td>False</td>\n",
       "      <td>0.10</td>\n",
       "      <td>3.20</td>\n",
       "    </tr>\n",
       "    <tr>\n",
       "      <th>2022-05-31</th>\n",
       "      <td>100</td>\n",
       "      <td>31</td>\n",
       "      <td>False</td>\n",
       "      <td>0.31</td>\n",
       "      <td>31.00</td>\n",
       "    </tr>\n",
       "  </tbody>\n",
       "</table>\n",
       "<p>92 rows × 5 columns</p>\n",
       "</div>"
      ],
      "text/plain": [
       "            WTI_unscaled  WTI_monthly  isPartial  scale    WTI\n",
       "date                                                          \n",
       "2022-03-01            44           44      False   0.44  19.36\n",
       "2022-03-02            56           56      False   0.56  31.36\n",
       "2022-03-03            49           49      False   0.49  24.01\n",
       "2022-03-04            53           53      False   0.53  28.09\n",
       "2022-03-05            27           27      False   0.27   7.29\n",
       "...                  ...          ...        ...    ...    ...\n",
       "2022-05-27            58           18      False   0.18  10.44\n",
       "2022-05-28            19            6      False   0.06   1.14\n",
       "2022-05-29            21            6      False   0.06   1.26\n",
       "2022-05-30            32           10      False   0.10   3.20\n",
       "2022-05-31           100           31      False   0.31  31.00\n",
       "\n",
       "[92 rows x 5 columns]"
      ]
     },
     "execution_count": 68,
     "metadata": {},
     "output_type": "execute_result"
    }
   ],
   "source": [
    "oil_trends3 = dailydata.get_daily_data('WTI', 2022, 3, 2022, 5, geo='US')\n",
    "oil_trends3"
   ]
  },
  {
   "cell_type": "code",
   "execution_count": 69,
   "metadata": {},
   "outputs": [],
   "source": [
    "trends_WTI_combined = pd.concat([oil_trends1, oil_trends2, oil_trends3], axis='rows', join='inner')\n",
    "trends_WTI_combined.sort_index(ascending=True, inplace=True)\n",
    "trends_WTI_combined.drop(columns=['WTI_unscaled', 'WTI_monthly', 'isPartial', 'scale'], inplace=True)\n",
    "trends_WTI_combined.columns = ['sentiment_score_WTI']"
   ]
  },
  {
   "cell_type": "code",
   "execution_count": 70,
   "metadata": {},
   "outputs": [
    {
     "data": {
      "text/html": [
       "<div>\n",
       "<style scoped>\n",
       "    .dataframe tbody tr th:only-of-type {\n",
       "        vertical-align: middle;\n",
       "    }\n",
       "\n",
       "    .dataframe tbody tr th {\n",
       "        vertical-align: top;\n",
       "    }\n",
       "\n",
       "    .dataframe thead th {\n",
       "        text-align: right;\n",
       "    }\n",
       "</style>\n",
       "<table border=\"1\" class=\"dataframe\">\n",
       "  <thead>\n",
       "    <tr style=\"text-align: right;\">\n",
       "      <th></th>\n",
       "      <th>sp_500</th>\n",
       "      <th>WTI</th>\n",
       "      <th>BTC</th>\n",
       "      <th>Average_Temp</th>\n",
       "      <th>sentiment_score_WTI</th>\n",
       "    </tr>\n",
       "  </thead>\n",
       "  <tbody>\n",
       "    <tr>\n",
       "      <th>2022-03-01</th>\n",
       "      <td>-0.015474</td>\n",
       "      <td>0.080339</td>\n",
       "      <td>0.026889</td>\n",
       "      <td>3.80</td>\n",
       "      <td>19.36</td>\n",
       "    </tr>\n",
       "    <tr>\n",
       "      <th>2022-03-02</th>\n",
       "      <td>0.018643</td>\n",
       "      <td>0.069529</td>\n",
       "      <td>-0.009706</td>\n",
       "      <td>7.35</td>\n",
       "      <td>31.36</td>\n",
       "    </tr>\n",
       "    <tr>\n",
       "      <th>2022-03-03</th>\n",
       "      <td>-0.005255</td>\n",
       "      <td>-0.026492</td>\n",
       "      <td>-0.033520</td>\n",
       "      <td>1.65</td>\n",
       "      <td>24.01</td>\n",
       "    </tr>\n",
       "    <tr>\n",
       "      <th>2022-03-04</th>\n",
       "      <td>-0.007934</td>\n",
       "      <td>0.074394</td>\n",
       "      <td>-0.078069</td>\n",
       "      <td>-1.60</td>\n",
       "      <td>28.09</td>\n",
       "    </tr>\n",
       "    <tr>\n",
       "      <th>2022-03-07</th>\n",
       "      <td>-0.029518</td>\n",
       "      <td>0.032158</td>\n",
       "      <td>-0.027482</td>\n",
       "      <td>16.45</td>\n",
       "      <td>100.00</td>\n",
       "    </tr>\n",
       "    <tr>\n",
       "      <th>...</th>\n",
       "      <td>...</td>\n",
       "      <td>...</td>\n",
       "      <td>...</td>\n",
       "      <td>...</td>\n",
       "      <td>...</td>\n",
       "    </tr>\n",
       "    <tr>\n",
       "      <th>2022-10-24</th>\n",
       "      <td>0.011882</td>\n",
       "      <td>-0.005526</td>\n",
       "      <td>0.009029</td>\n",
       "      <td>14.75</td>\n",
       "      <td>24.01</td>\n",
       "    </tr>\n",
       "    <tr>\n",
       "      <th>2022-10-25</th>\n",
       "      <td>0.016267</td>\n",
       "      <td>0.008749</td>\n",
       "      <td>0.038783</td>\n",
       "      <td>18.80</td>\n",
       "      <td>21.16</td>\n",
       "    </tr>\n",
       "    <tr>\n",
       "      <th>2022-10-26</th>\n",
       "      <td>-0.007388</td>\n",
       "      <td>0.030356</td>\n",
       "      <td>0.033568</td>\n",
       "      <td>19.40</td>\n",
       "      <td>27.04</td>\n",
       "    </tr>\n",
       "    <tr>\n",
       "      <th>2022-10-27</th>\n",
       "      <td>-0.006083</td>\n",
       "      <td>0.013309</td>\n",
       "      <td>-0.023331</td>\n",
       "      <td>16.15</td>\n",
       "      <td>24.01</td>\n",
       "    </tr>\n",
       "    <tr>\n",
       "      <th>2022-10-28</th>\n",
       "      <td>0.024626</td>\n",
       "      <td>-0.013247</td>\n",
       "      <td>0.015258</td>\n",
       "      <td>11.55</td>\n",
       "      <td>16.00</td>\n",
       "    </tr>\n",
       "  </tbody>\n",
       "</table>\n",
       "<p>169 rows × 5 columns</p>\n",
       "</div>"
      ],
      "text/plain": [
       "              sp_500       WTI       BTC  Average_Temp  sentiment_score_WTI\n",
       "2022-03-01 -0.015474  0.080339  0.026889          3.80                19.36\n",
       "2022-03-02  0.018643  0.069529 -0.009706          7.35                31.36\n",
       "2022-03-03 -0.005255 -0.026492 -0.033520          1.65                24.01\n",
       "2022-03-04 -0.007934  0.074394 -0.078069         -1.60                28.09\n",
       "2022-03-07 -0.029518  0.032158 -0.027482         16.45               100.00\n",
       "...              ...       ...       ...           ...                  ...\n",
       "2022-10-24  0.011882 -0.005526  0.009029         14.75                24.01\n",
       "2022-10-25  0.016267  0.008749  0.038783         18.80                21.16\n",
       "2022-10-26 -0.007388  0.030356  0.033568         19.40                27.04\n",
       "2022-10-27 -0.006083  0.013309 -0.023331         16.15                24.01\n",
       "2022-10-28  0.024626 -0.013247  0.015258         11.55                16.00\n",
       "\n",
       "[169 rows x 5 columns]"
      ]
     },
     "execution_count": 70,
     "metadata": {},
     "output_type": "execute_result"
    }
   ],
   "source": [
    "assets_plus_WTIsentiment_dataframe = pd.concat([commined_weather_df, trends_WTI_combined], axis='columns', join='inner')\n",
    "assets_plus_WTIsentiment_dataframe"
   ]
  },
  {
   "cell_type": "code",
   "execution_count": 71,
   "metadata": {},
   "outputs": [
    {
     "data": {
      "text/plain": [
       "<function matplotlib.pyplot.show(close=None, block=None)>"
      ]
     },
     "execution_count": 71,
     "metadata": {},
     "output_type": "execute_result"
    },
    {
     "data": {
      "image/png": "[encoded data removed]",
      "text/plain": [
       "<Figure size 432x288 with 1 Axes>"
      ]
     },
     "metadata": {
      "needs_background": "light"
     },
     "output_type": "display_data"
    }
   ],
   "source": [
    "# Sentiment graph\n",
    "assets_plus_WTIsentiment_dataframe.plot(x='WTI', y= 'sentiment_score_WTI', style= 'o')\n",
    "plt.xlabel ('WTI')\n",
    "plt.ylabel ('sentiment_score_WTI')\n",
    "plt.show"
   ]
  },
  {
   "cell_type": "code",
   "execution_count": 72,
   "metadata": {},
   "outputs": [
    {
     "data": {
      "text/html": [
       "<div>\n",
       "<style scoped>\n",
       "    .dataframe tbody tr th:only-of-type {\n",
       "        vertical-align: middle;\n",
       "    }\n",
       "\n",
       "    .dataframe tbody tr th {\n",
       "        vertical-align: top;\n",
       "    }\n",
       "\n",
       "    .dataframe thead th {\n",
       "        text-align: right;\n",
       "    }\n",
       "</style>\n",
       "<table border=\"1\" class=\"dataframe\">\n",
       "  <thead>\n",
       "    <tr style=\"text-align: right;\">\n",
       "      <th></th>\n",
       "      <th>sp_500</th>\n",
       "      <th>WTI</th>\n",
       "      <th>BTC</th>\n",
       "    </tr>\n",
       "    <tr>\n",
       "      <th>Date</th>\n",
       "      <th></th>\n",
       "      <th></th>\n",
       "      <th></th>\n",
       "    </tr>\n",
       "  </thead>\n",
       "  <tbody>\n",
       "    <tr>\n",
       "      <th>2017-10-31</th>\n",
       "      <td>2575.260010</td>\n",
       "      <td>54.380001</td>\n",
       "      <td>6468.399902</td>\n",
       "    </tr>\n",
       "    <tr>\n",
       "      <th>2017-11-01</th>\n",
       "      <td>2579.360107</td>\n",
       "      <td>54.299999</td>\n",
       "      <td>6767.310059</td>\n",
       "    </tr>\n",
       "    <tr>\n",
       "      <th>2017-11-02</th>\n",
       "      <td>2579.850098</td>\n",
       "      <td>54.540001</td>\n",
       "      <td>7078.500000</td>\n",
       "    </tr>\n",
       "    <tr>\n",
       "      <th>2017-11-03</th>\n",
       "      <td>2587.840088</td>\n",
       "      <td>55.639999</td>\n",
       "      <td>7207.759766</td>\n",
       "    </tr>\n",
       "    <tr>\n",
       "      <th>2017-11-06</th>\n",
       "      <td>2591.129883</td>\n",
       "      <td>57.349998</td>\n",
       "      <td>7022.759766</td>\n",
       "    </tr>\n",
       "    <tr>\n",
       "      <th>...</th>\n",
       "      <td>...</td>\n",
       "      <td>...</td>\n",
       "      <td>...</td>\n",
       "    </tr>\n",
       "    <tr>\n",
       "      <th>2022-11-08</th>\n",
       "      <td>3828.110107</td>\n",
       "      <td>88.910004</td>\n",
       "      <td>18541.271484</td>\n",
       "    </tr>\n",
       "    <tr>\n",
       "      <th>2022-11-09</th>\n",
       "      <td>3748.570068</td>\n",
       "      <td>85.830002</td>\n",
       "      <td>15880.780273</td>\n",
       "    </tr>\n",
       "    <tr>\n",
       "      <th>2022-11-10</th>\n",
       "      <td>3956.370117</td>\n",
       "      <td>86.470001</td>\n",
       "      <td>17586.771484</td>\n",
       "    </tr>\n",
       "    <tr>\n",
       "      <th>2022-11-11</th>\n",
       "      <td>3992.929932</td>\n",
       "      <td>88.959999</td>\n",
       "      <td>17034.292969</td>\n",
       "    </tr>\n",
       "    <tr>\n",
       "      <th>2022-11-14</th>\n",
       "      <td>3957.250000</td>\n",
       "      <td>85.870003</td>\n",
       "      <td>16618.199219</td>\n",
       "    </tr>\n",
       "  </tbody>\n",
       "</table>\n",
       "<p>1269 rows × 3 columns</p>\n",
       "</div>"
      ],
      "text/plain": [
       "                 sp_500        WTI           BTC\n",
       "Date                                            \n",
       "2017-10-31  2575.260010  54.380001   6468.399902\n",
       "2017-11-01  2579.360107  54.299999   6767.310059\n",
       "2017-11-02  2579.850098  54.540001   7078.500000\n",
       "2017-11-03  2587.840088  55.639999   7207.759766\n",
       "2017-11-06  2591.129883  57.349998   7022.759766\n",
       "...                 ...        ...           ...\n",
       "2022-11-08  3828.110107  88.910004  18541.271484\n",
       "2022-11-09  3748.570068  85.830002  15880.780273\n",
       "2022-11-10  3956.370117  86.470001  17586.771484\n",
       "2022-11-11  3992.929932  88.959999  17034.292969\n",
       "2022-11-14  3957.250000  85.870003  16618.199219\n",
       "\n",
       "[1269 rows x 3 columns]"
      ]
     },
     "execution_count": 72,
     "metadata": {},
     "output_type": "execute_result"
    }
   ],
   "source": [
    "abs_p = p.copy()\n",
    "abs_p.columns = [' '.join(col).strip() for col in p.columns.values]\n",
    "columns = [\"sp_500\", \"WTI\", \"BTC\"]\n",
    "abs_p.columns = columns\n",
    "abs_p"
   ]
  },
  {
   "cell_type": "code",
   "execution_count": 73,
   "metadata": {},
   "outputs": [
    {
     "data": {
      "text/html": [
       "<div>\n",
       "<style scoped>\n",
       "    .dataframe tbody tr th:only-of-type {\n",
       "        vertical-align: middle;\n",
       "    }\n",
       "\n",
       "    .dataframe tbody tr th {\n",
       "        vertical-align: top;\n",
       "    }\n",
       "\n",
       "    .dataframe thead th {\n",
       "        text-align: right;\n",
       "    }\n",
       "</style>\n",
       "<table border=\"1\" class=\"dataframe\">\n",
       "  <thead>\n",
       "    <tr style=\"text-align: right;\">\n",
       "      <th></th>\n",
       "      <th>WTI</th>\n",
       "      <th>sentiment_score_WTI</th>\n",
       "    </tr>\n",
       "  </thead>\n",
       "  <tbody>\n",
       "    <tr>\n",
       "      <th>2022-03-01</th>\n",
       "      <td>103.410004</td>\n",
       "      <td>19.36</td>\n",
       "    </tr>\n",
       "    <tr>\n",
       "      <th>2022-03-02</th>\n",
       "      <td>110.599998</td>\n",
       "      <td>31.36</td>\n",
       "    </tr>\n",
       "    <tr>\n",
       "      <th>2022-03-03</th>\n",
       "      <td>107.669998</td>\n",
       "      <td>24.01</td>\n",
       "    </tr>\n",
       "    <tr>\n",
       "      <th>2022-03-04</th>\n",
       "      <td>115.680000</td>\n",
       "      <td>28.09</td>\n",
       "    </tr>\n",
       "    <tr>\n",
       "      <th>2022-03-07</th>\n",
       "      <td>119.400002</td>\n",
       "      <td>100.00</td>\n",
       "    </tr>\n",
       "    <tr>\n",
       "      <th>...</th>\n",
       "      <td>...</td>\n",
       "      <td>...</td>\n",
       "    </tr>\n",
       "    <tr>\n",
       "      <th>2022-11-07</th>\n",
       "      <td>91.790001</td>\n",
       "      <td>36.08</td>\n",
       "    </tr>\n",
       "    <tr>\n",
       "      <th>2022-11-08</th>\n",
       "      <td>88.910004</td>\n",
       "      <td>28.47</td>\n",
       "    </tr>\n",
       "    <tr>\n",
       "      <th>2022-11-09</th>\n",
       "      <td>85.830002</td>\n",
       "      <td>37.80</td>\n",
       "    </tr>\n",
       "    <tr>\n",
       "      <th>2022-11-10</th>\n",
       "      <td>86.470001</td>\n",
       "      <td>9.89</td>\n",
       "    </tr>\n",
       "    <tr>\n",
       "      <th>2022-11-11</th>\n",
       "      <td>88.959999</td>\n",
       "      <td>28.47</td>\n",
       "    </tr>\n",
       "  </tbody>\n",
       "</table>\n",
       "<p>179 rows × 2 columns</p>\n",
       "</div>"
      ],
      "text/plain": [
       "                   WTI  sentiment_score_WTI\n",
       "2022-03-01  103.410004                19.36\n",
       "2022-03-02  110.599998                31.36\n",
       "2022-03-03  107.669998                24.01\n",
       "2022-03-04  115.680000                28.09\n",
       "2022-03-07  119.400002               100.00\n",
       "...                ...                  ...\n",
       "2022-11-07   91.790001                36.08\n",
       "2022-11-08   88.910004                28.47\n",
       "2022-11-09   85.830002                37.80\n",
       "2022-11-10   86.470001                 9.89\n",
       "2022-11-11   88.959999                28.47\n",
       "\n",
       "[179 rows x 2 columns]"
      ]
     },
     "execution_count": 73,
     "metadata": {},
     "output_type": "execute_result"
    }
   ],
   "source": [
    "# Testing WTI sentiment correlations with absolute price of the ETF vs pct_change()\n",
    "abs_price_sentiment_correlation_df = pd.concat([abs_p['WTI'], trends_WTI_combined], axis=\"columns\", join=\"inner\")\n",
    "abs_price_sentiment_correlation_df"
   ]
  },
  {
   "cell_type": "code",
   "execution_count": 74,
   "metadata": {},
   "outputs": [
    {
     "data": {
      "text/plain": [
       "<function matplotlib.pyplot.show(close=None, block=None)>"
      ]
     },
     "execution_count": 74,
     "metadata": {},
     "output_type": "execute_result"
    },
    {
     "data": {
      "image/png": "[encoded data removed]",
      "text/plain": [
       "<Figure size 432x288 with 1 Axes>"
      ]
     },
     "metadata": {
      "needs_background": "light"
     },
     "output_type": "display_data"
    }
   ],
   "source": [
    "# Sentiment graph\n",
    "abs_price_sentiment_correlation_df.plot(x='WTI', y= 'sentiment_score_WTI', style= 'o')\n",
    "plt.xlabel ('WTI')\n",
    "plt.ylabel ('sentiment_score_WTI')\n",
    "plt.show"
   ]
  },
  {
   "cell_type": "markdown",
   "metadata": {},
   "source": [
    "# Plot the daily returns"
   ]
  },
  {
   "cell_type": "code",
   "execution_count": 84,
   "metadata": {},
   "outputs": [
    {
     "data": {
      "text/plain": [
       "<AxesSubplot:xlabel='Date'>"
      ]
     },
     "execution_count": 84,
     "metadata": {},
     "output_type": "execute_result"
    },
    {
     "data": {
      "image/png": "[encoded data removed]",
      "text/plain": [
       "<Figure size 720x360 with 1 Axes>"
      ]
     },
     "metadata": {
      "needs_background": "light"
     },
     "output_type": "display_data"
    }
   ],
   "source": [
    "#plot daily returns of \n",
    "p_returns.plot(figsize=(10,5))"
   ]
  },
  {
   "cell_type": "code",
   "execution_count": 76,
   "metadata": {},
   "outputs": [
    {
     "data": {
      "text/plain": [
       "<AxesSubplot:xlabel='Date'>"
      ]
     },
     "execution_count": 76,
     "metadata": {},
     "output_type": "execute_result"
    },
    {
     "data": {
      "image/png": "[encoded data removed]",
      "text/plain": [
       "<Figure size 1440x720 with 1 Axes>"
      ]
     },
     "metadata": {
      "needs_background": "light"
     },
     "output_type": "display_data"
    }
   ],
   "source": [
    "# Calculate cumulative returns of all portfolios\n",
    "cumulative_returns = (1 + p_returns).cumprod() - 1\n",
    "# Plot cumulative returns\n",
    "cumulative_returns.plot(figsize=(20,10))"
   ]
  },
  {
   "cell_type": "markdown",
   "metadata": {},
   "source": [
    "## Risk Analysis"
   ]
  },
  {
   "cell_type": "code",
   "execution_count": 77,
   "metadata": {},
   "outputs": [
    {
     "data": {
      "text/plain": [
       "<AxesSubplot:>"
      ]
     },
     "execution_count": 77,
     "metadata": {},
     "output_type": "execute_result"
    },
    {
     "data": {
      "image/png": "[encoded data removed]",
      "text/plain": [
       "<Figure size 1440x720 with 1 Axes>"
      ]
     },
     "metadata": {
      "needs_background": "light"
     },
     "output_type": "display_data"
    }
   ],
   "source": [
    "# Box plot to visually show risk\n",
    "p_returns.boxplot(figsize=(20,10))"
   ]
  },
  {
   "cell_type": "code",
   "execution_count": 78,
   "metadata": {},
   "outputs": [
    {
     "data": {
      "text/plain": [
       "sp_500    0.013614\n",
       "BTC       0.047708\n",
       "WTI       0.099022\n",
       "dtype: float64"
      ]
     },
     "execution_count": 78,
     "metadata": {},
     "output_type": "execute_result"
    }
   ],
   "source": [
    "# callculate the daily standard deviations\n",
    "assets_std = p_returns.std().sort_values()\n",
    "assets_std"
   ]
  },
  {
   "cell_type": "markdown",
   "metadata": {},
   "source": [
    "### which asset is risker?"
   ]
  },
  {
   "cell_type": "code",
   "execution_count": 79,
   "metadata": {},
   "outputs": [
    {
     "data": {
      "text/plain": [
       "<AxesSubplot:xlabel='Date'>"
      ]
     },
     "execution_count": 79,
     "metadata": {},
     "output_type": "execute_result"
    },
    {
     "data": {
      "image/png": "[encoded data removed]",
      "text/plain": [
       "<Figure size 1440x720 with 1 Axes>"
      ]
     },
     "metadata": {
      "needs_background": "light"
     },
     "output_type": "display_data"
    }
   ],
   "source": [
    "# callculate the rolling statandard deviation for \n",
    "rolling_21day_std_df = p_returns.rolling(window=21).std()\n",
    "# Plot the rolling standard deviation\n",
    "rolling_21day_std_df.plot(figsize=(20,10))"
   ]
  },
  {
   "cell_type": "code",
   "execution_count": 80,
   "metadata": {},
   "outputs": [
    {
     "data": {
      "text/plain": [
       "<AxesSubplot:>"
      ]
     },
     "execution_count": 80,
     "metadata": {},
     "output_type": "execute_result"
    },
    {
     "data": {
      "image/png": "[encoded data removed]",
      "text/plain": [
       "<Figure size 432x288 with 2 Axes>"
      ]
     },
     "metadata": {
      "needs_background": "light"
     },
     "output_type": "display_data"
    }
   ],
   "source": [
    "# Calculate the corelation \n",
    "correlation = p_returns.corr()\n",
    "\n",
    "# Display the correlation matrix\n",
    "correlation\n",
    "sns.heatmap(correlation, vmin=0, vmax=.85, cmap='RdYlGn_r')"
   ]
  },
  {
   "cell_type": "code",
   "execution_count": 81,
   "metadata": {},
   "outputs": [
    {
     "data": {
      "text/plain": [
       "<AxesSubplot:xlabel='Date'>"
      ]
     },
     "execution_count": 81,
     "metadata": {},
     "output_type": "execute_result"
    },
    {
     "data": {
      "image/png": "[encoded data removed]",
      "text/plain": [
       "<Figure size 1440x720 with 1 Axes>"
      ]
     },
     "metadata": {
      "needs_background": "light"
     },
     "output_type": "display_data"
    }
   ],
   "source": [
    "# Calculate covariance of a BTC\n",
    "covariance = p_returns[\"BTC\"].rolling(window=60).cov(p_returns[\"sp_500\"])\n",
    "\n",
    "# Calculate variance of S&P 500\n",
    "variance = p_returns[\"sp_500\"].rolling(window=60).var()\n",
    "# Computing beta\n",
    "BTC_beta = covariance/variance\n",
    "# Plot beta trend\n",
    "BTC_beta.plot(figsize=(20, 10))"
   ]
  },
  {
   "cell_type": "markdown",
   "metadata": {},
   "source": [
    "## Sharpe Ratios\n"
   ]
  },
  {
   "cell_type": "code",
   "execution_count": 83,
   "metadata": {},
   "outputs": [
    {
     "data": {
      "text/plain": [
       "<AxesSubplot:title={'center':'Sharpe Ratios'}>"
      ]
     },
     "execution_count": 83,
     "metadata": {},
     "output_type": "execute_result"
    },
    {
     "data": {
      "image/png": "[encoded data removed]",
      "text/plain": [
       "<Figure size 432x288 with 1 Axes>"
      ]
     },
     "metadata": {
      "needs_background": "light"
     },
     "output_type": "display_data"
    }
   ],
   "source": [
    "# Annualized Sharpe Ratios\n",
    "sharpe_ratios = (p_returns.mean() * 252) / (assets_std * np.sqrt(252))\n",
    "\n",
    "# Visualize the sharpe ratios as a bar plot\n",
    "sharpe_ratios.plot(kind=\"bar\", title=\"Sharpe Ratios\")"
   ]
  }
 ],
 "metadata": {
  "kernelspec": {
   "display_name": "Python 3.7.13",
   "language": "python",
   "name": "python3"
  },
  "language_info": {
   "codemirror_mode": {
    "name": "ipython",
    "version": 3
   },
   "file_extension": ".py",
   "mimetype": "text/x-python",
   "name": "python",
   "nbconvert_exporter": "python",
   "pygments_lexer": "ipython3",
   "version": "3.7.13"
  },
  "vscode": {
   "interpreter": {
    "hash": "6da2841371bf59b32999a785e64b06216d7cfd42a773cb5b902ec8175807909c"
   }
  }
 },
 "nbformat": 4,
 "nbformat_minor": 4
}
