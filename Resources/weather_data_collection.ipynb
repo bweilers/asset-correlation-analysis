{
 "cells": [
  {
   "cell_type": "code",
   "execution_count": 1,
   "metadata": {},
   "outputs": [],
   "source": [
    "# Initial imports\n",
    "import pandas as pd\n",
    "import numpy as np\n",
    "import datetime as dt\n",
    "# import seaborn as sns\n",
    "# from pathlib import Path\n",
    "import pandas_datareader as web\n",
    "import requests\n",
    "from dotenv import load_dotenv\n",
    "import os\n",
    "import pprint"
   ]
  },
  {
   "cell_type": "code",
   "execution_count": 15,
   "metadata": {},
   "outputs": [],
   "source": [
    "# Load .env enviroment variables\n",
    "load_dotenv()\n",
    "\n",
    "# Initialize the weather_bit api key\n",
    "weather_bit_api_key = os.getenv(\"WEATHER_BIT_API_V\")"
   ]
  },
  {
   "cell_type": "code",
   "execution_count": 4,
   "metadata": {},
   "outputs": [],
   "source": [
    "import logging\n",
    "\n",
    "# These two lines enable debugging at httplib level (requests->urllib3->http.client)\n",
    "# You will see the REQUEST, including HEADERS and DATA, and RESPONSE with HEADERS but without DATA.\n",
    "# The only thing missing will be the response.body which is not logged.\n",
    "try:\n",
    "    import http.client as http_client\n",
    "except ImportError:\n",
    "    # Python 2\n",
    "    import httplib as http_client\n",
    "http_client.HTTPConnection.debuglevel = 1\n",
    "\n",
    "# You must initialize logging, otherwise you'll not see debug output.\n",
    "logging.basicConfig()\n",
    "logging.getLogger().setLevel(logging.DEBUG)\n",
    "requests_log = logging.getLogger(\"requests.packages.urllib3\")\n",
    "requests_log.setLevel(logging.DEBUG)\n",
    "requests_log.propagate = True"
   ]
  },
  {
   "cell_type": "code",
   "execution_count": 5,
   "metadata": {},
   "outputs": [
    {
     "name": "stderr",
     "output_type": "stream",
     "text": [
      "DEBUG:urllib3.connectionpool:Starting new HTTPS connection (1): api.weatherbit.io:443\n"
     ]
    },
    {
     "name": "stdout",
     "output_type": "stream",
     "text": [
      "send: b'GET /v2.0/history/daily?lat=40.706877&lon=-74.012349&country=US&start_date=2020-10-31&end_date=2021-10-31&key=6778bbf320fc442098997212668b03d2 HTTP/1.1\\r\\nHost: api.weatherbit.io\\r\\nUser-Agent: python-requests/2.28.1\\r\\nAccept-Encoding: gzip, deflate, br\\r\\nAccept: */*\\r\\nConnection: keep-alive\\r\\n\\r\\n'\n"
     ]
    },
    {
     "name": "stderr",
     "output_type": "stream",
     "text": [
      "DEBUG:urllib3.connectionpool:https://api.weatherbit.io:443 \"GET /v2.0/history/daily?lat=40.706877&lon=-74.012349&country=US&start_date=2020-10-31&end_date=2021-10-31&key=6778bbf320fc442098997212668b03d2 HTTP/1.1\" 200 None\n"
     ]
    },
    {
     "name": "stdout",
     "output_type": "stream",
     "text": [
      "reply: 'HTTP/1.1 200 OK\\r\\n'\n",
      "header: server: openresty/1.19.3.1\n",
      "header: date: Mon, 14 Nov 2022 19:59:29 GMT\n",
      "header: content-type: application/json; charset=utf-8\n",
      "header: transfer-encoding: chunked\n",
      "header: keep-alive: timeout=5\n",
      "header: x-ratelimit-limit: 1500\n",
      "header: x-ratelimit-remaining: 1135\n",
      "header: x-ratelimit-reset: 1668455982\n",
      "header: x-proxy-cache: MISS\n",
      "header: access-control-allow-origin: *\n",
      "header: access-control-allow-methods: GET, OPTIONS, POST\n",
      "header: access-control-allow-headers: DNT,X-CustomHeader,Keep-Alive,User-Agent,X-Requested-With,If-Modified-Since,Cache-Control,Content-Type,Content-Range,Range\n",
      "header: access-control-expose-headers: DNT,X-CustomHeader,Keep-Alive,User-Agent,X-Requested-With,If-Modified-Since,Cache-Control,Content-Type,Content-Range,Range\n",
      "header: x-proxy-cache: MISS\n",
      "header: content-encoding: gzip\n",
      "<Response [200]>\n"
     ]
    }
   ],
   "source": [
    "# Weather Data\n",
    "\n",
    "LAT_NYC = 40.706877\n",
    "LON_NYC = -74.012349\n",
    "\n",
    "weather_bit_url = \"https://api.weatherbit.io/v2.0/history/daily\"\n",
    "\n",
    "parameters_2021 = {\n",
    "    \"lat\": LAT_NYC,\n",
    "    \"lon\": LON_NYC,\n",
    "    \"country\": \"US\",\n",
    "    \"start_date\": \"2020-10-31\",\n",
    "    \"end_date\": \"2021-10-31\",\n",
    "    \"key\": weather_bit_api_key,\n",
    "}\n",
    "\n",
    "#weather_data_2021\n",
    "weather_data = requests.get(weather_bit_url, params=parameters_2021)\n",
    "\n",
    "print(weather_data)\n",
    "\n"
   ]
  },
  {
   "cell_type": "code",
   "execution_count": 6,
   "metadata": {},
   "outputs": [
    {
     "name": "stderr",
     "output_type": "stream",
     "text": [
      "DEBUG:urllib3.connectionpool:Starting new HTTPS connection (1): api.weatherbit.io:443\n"
     ]
    },
    {
     "name": "stdout",
     "output_type": "stream",
     "text": [
      "send: b'GET /v2.0/history/daily?lat=40.706877&lon=-74.012349&country=US&start_date=2021-10-31&end_date=2022-10-31&key=6778bbf320fc442098997212668b03d2 HTTP/1.1\\r\\nHost: api.weatherbit.io\\r\\nUser-Agent: python-requests/2.28.1\\r\\nAccept-Encoding: gzip, deflate, br\\r\\nAccept: */*\\r\\nConnection: keep-alive\\r\\n\\r\\n'\n"
     ]
    },
    {
     "name": "stderr",
     "output_type": "stream",
     "text": [
      "DEBUG:urllib3.connectionpool:https://api.weatherbit.io:443 \"GET /v2.0/history/daily?lat=40.706877&lon=-74.012349&country=US&start_date=2021-10-31&end_date=2022-10-31&key=6778bbf320fc442098997212668b03d2 HTTP/1.1\" 200 None\n"
     ]
    },
    {
     "name": "stdout",
     "output_type": "stream",
     "text": [
      "reply: 'HTTP/1.1 200 OK\\r\\n'\n",
      "header: server: openresty/1.19.3.1\n",
      "header: date: Mon, 14 Nov 2022 19:59:32 GMT\n",
      "header: content-type: application/json; charset=utf-8\n",
      "header: transfer-encoding: chunked\n",
      "header: keep-alive: timeout=5\n",
      "header: x-ratelimit-limit: 1500\n",
      "header: x-ratelimit-remaining: 770\n",
      "header: x-ratelimit-reset: 1668470399\n",
      "header: x-proxy-cache: MISS\n",
      "header: access-control-allow-origin: *\n",
      "header: access-control-allow-methods: GET, OPTIONS, POST\n",
      "header: access-control-allow-headers: DNT,X-CustomHeader,Keep-Alive,User-Agent,X-Requested-With,If-Modified-Since,Cache-Control,Content-Type,Content-Range,Range\n",
      "header: access-control-expose-headers: DNT,X-CustomHeader,Keep-Alive,User-Agent,X-Requested-With,If-Modified-Since,Cache-Control,Content-Type,Content-Range,Range\n",
      "header: x-proxy-cache: MISS\n",
      "header: content-encoding: gzip\n"
     ]
    }
   ],
   "source": [
    "#2022\n",
    "\n",
    "parameters_2022 = {\n",
    "    \"lat\": LAT_NYC,\n",
    "    \"lon\": LON_NYC,\n",
    "    \"country\": \"US\",\n",
    "    \"start_date\": \"2021-10-31\",\n",
    "    \"end_date\": \"2022-10-31\",\n",
    "    \"key\": weather_bit_api_key,\n",
    "}\n",
    "\n",
    "#weather_data_2021\n",
    "weather_data_2022 = requests.get(weather_bit_url, params=parameters_2022)"
   ]
  },
  {
   "cell_type": "code",
   "execution_count": 7,
   "metadata": {},
   "outputs": [
    {
     "name": "stderr",
     "output_type": "stream",
     "text": [
      "DEBUG:urllib3.connectionpool:Starting new HTTPS connection (1): api.weatherbit.io:443\n"
     ]
    },
    {
     "name": "stdout",
     "output_type": "stream",
     "text": [
      "send: b'GET /v2.0/history/daily?lat=40.706877&lon=-74.012349&country=US&start_date=2019-10-31&end_date=2020-10-31&key=6778bbf320fc442098997212668b03d2 HTTP/1.1\\r\\nHost: api.weatherbit.io\\r\\nUser-Agent: python-requests/2.28.1\\r\\nAccept-Encoding: gzip, deflate, br\\r\\nAccept: */*\\r\\nConnection: keep-alive\\r\\n\\r\\n'\n"
     ]
    },
    {
     "name": "stderr",
     "output_type": "stream",
     "text": [
      "DEBUG:urllib3.connectionpool:https://api.weatherbit.io:443 \"GET /v2.0/history/daily?lat=40.706877&lon=-74.012349&country=US&start_date=2019-10-31&end_date=2020-10-31&key=6778bbf320fc442098997212668b03d2 HTTP/1.1\" 200 None\n"
     ]
    },
    {
     "name": "stdout",
     "output_type": "stream",
     "text": [
      "reply: 'HTTP/1.1 200 OK\\r\\n'\n",
      "header: server: openresty/1.19.3.1\n",
      "header: date: Mon, 14 Nov 2022 19:59:35 GMT\n",
      "header: content-type: application/json; charset=utf-8\n",
      "header: transfer-encoding: chunked\n",
      "header: keep-alive: timeout=5\n",
      "header: x-ratelimit-limit: 1500\n",
      "header: x-ratelimit-remaining: 404\n",
      "header: x-ratelimit-reset: 1668470399\n",
      "header: x-proxy-cache: MISS\n",
      "header: access-control-allow-origin: *\n",
      "header: access-control-allow-methods: GET, OPTIONS, POST\n",
      "header: access-control-allow-headers: DNT,X-CustomHeader,Keep-Alive,User-Agent,X-Requested-With,If-Modified-Since,Cache-Control,Content-Type,Content-Range,Range\n",
      "header: access-control-expose-headers: DNT,X-CustomHeader,Keep-Alive,User-Agent,X-Requested-With,If-Modified-Since,Cache-Control,Content-Type,Content-Range,Range\n",
      "header: x-proxy-cache: MISS\n",
      "header: content-encoding: gzip\n"
     ]
    }
   ],
   "source": [
    "# 2020\n",
    "\n",
    "parameters_2020 = {\n",
    "    \"lat\": LAT_NYC,\n",
    "    \"lon\": LON_NYC,\n",
    "    \"country\": \"US\",\n",
    "    \"start_date\": \"2019-10-31\",\n",
    "    \"end_date\": \"2020-10-31\",\n",
    "    \"key\": weather_bit_api_key,\n",
    "}\n",
    "\n",
    "#weather_data_2021\n",
    "weather_data_2020 = requests.get(weather_bit_url, params=parameters_2020)"
   ]
  },
  {
   "cell_type": "code",
   "execution_count": 8,
   "metadata": {},
   "outputs": [
    {
     "name": "stderr",
     "output_type": "stream",
     "text": [
      "DEBUG:urllib3.connectionpool:Starting new HTTPS connection (1): api.weatherbit.io:443\n"
     ]
    },
    {
     "name": "stdout",
     "output_type": "stream",
     "text": [
      "send: b'GET /v2.0/history/daily?lat=40.706877&lon=-74.012349&country=US&start_date=2018-10-31&end_date=2019-10-31&key=6778bbf320fc442098997212668b03d2 HTTP/1.1\\r\\nHost: api.weatherbit.io\\r\\nUser-Agent: python-requests/2.28.1\\r\\nAccept-Encoding: gzip, deflate, br\\r\\nAccept: */*\\r\\nConnection: keep-alive\\r\\n\\r\\n'\n"
     ]
    },
    {
     "name": "stderr",
     "output_type": "stream",
     "text": [
      "DEBUG:urllib3.connectionpool:https://api.weatherbit.io:443 \"GET /v2.0/history/daily?lat=40.706877&lon=-74.012349&country=US&start_date=2018-10-31&end_date=2019-10-31&key=6778bbf320fc442098997212668b03d2 HTTP/1.1\" 200 None\n"
     ]
    },
    {
     "name": "stdout",
     "output_type": "stream",
     "text": [
      "reply: 'HTTP/1.1 200 OK\\r\\n'\n",
      "header: server: openresty/1.19.3.1\n",
      "header: date: Mon, 14 Nov 2022 19:59:37 GMT\n",
      "header: content-type: application/json; charset=utf-8\n",
      "header: transfer-encoding: chunked\n",
      "header: keep-alive: timeout=5\n",
      "header: x-ratelimit-limit: 1500\n",
      "header: x-ratelimit-remaining: 39\n",
      "header: x-ratelimit-reset: 1668470399\n",
      "header: x-proxy-cache: MISS\n",
      "header: access-control-allow-origin: *\n",
      "header: access-control-allow-methods: GET, OPTIONS, POST\n",
      "header: access-control-allow-headers: DNT,X-CustomHeader,Keep-Alive,User-Agent,X-Requested-With,If-Modified-Since,Cache-Control,Content-Type,Content-Range,Range\n",
      "header: access-control-expose-headers: DNT,X-CustomHeader,Keep-Alive,User-Agent,X-Requested-With,If-Modified-Since,Cache-Control,Content-Type,Content-Range,Range\n",
      "header: x-proxy-cache: MISS\n",
      "header: content-encoding: gzip\n"
     ]
    }
   ],
   "source": [
    "# 2019\n",
    "\n",
    "parameters_2019 = {\n",
    "    \"lat\": LAT_NYC,\n",
    "    \"lon\": LON_NYC,\n",
    "    \"country\": \"US\",\n",
    "    \"start_date\": \"2018-10-31\",\n",
    "    \"end_date\": \"2019-10-31\",\n",
    "    \"key\": weather_bit_api_key,\n",
    "}\n",
    "\n",
    "#weather_data_2021\n",
    "weather_data_2019 = requests.get(weather_bit_url, params=parameters_2019)"
   ]
  },
  {
   "cell_type": "code",
   "execution_count": 17,
   "metadata": {},
   "outputs": [
    {
     "name": "stderr",
     "output_type": "stream",
     "text": [
      "DEBUG:urllib3.connectionpool:Starting new HTTPS connection (1): api.weatherbit.io:443\n",
      "DEBUG:urllib3.connectionpool:https://api.weatherbit.io:443 \"GET /v2.0/history/daily?lat=40.706877&lon=-74.012349&country=US&start_date=2017-10-31&end_date=2018-10-31&key=6c241879df67478a9c801fb6b36afd27 HTTP/1.1\" 403 None\n"
     ]
    },
    {
     "name": "stdout",
     "output_type": "stream",
     "text": [
      "send: b'GET /v2.0/history/daily?lat=40.706877&lon=-74.012349&country=US&start_date=2017-10-31&end_date=2018-10-31&key=6c241879df67478a9c801fb6b36afd27 HTTP/1.1\\r\\nHost: api.weatherbit.io\\r\\nUser-Agent: python-requests/2.28.1\\r\\nAccept-Encoding: gzip, deflate, br\\r\\nAccept: */*\\r\\nConnection: keep-alive\\r\\n\\r\\n'\n",
      "reply: 'HTTP/1.1 403 Forbidden\\r\\n'\n",
      "header: server: openresty/1.19.3.1\n",
      "header: date: Mon, 14 Nov 2022 20:13:49 GMT\n",
      "header: content-type: application/json; charset=utf-8\n",
      "header: transfer-encoding: chunked\n",
      "header: keep-alive: timeout=5\n",
      "header: access-control-allow-origin: *\n",
      "header: access-control-allow-methods: GET, OPTIONS, POST\n",
      "header: access-control-allow-headers: DNT,X-CustomHeader,Keep-Alive,User-Agent,X-Requested-With,If-Modified-Since,Cache-Control,Content-Type,Content-Range,Range\n",
      "header: access-control-expose-headers: DNT,X-CustomHeader,Keep-Alive,User-Agent,X-Requested-With,If-Modified-Since,Cache-Control,Content-Type,Content-Range,Range\n",
      "header: content-encoding: gzip\n"
     ]
    }
   ],
   "source": [
    "# 2018\n",
    "\n",
    "parameters_2018 = {\n",
    "    \"lat\": LAT_NYC,\n",
    "    \"lon\": LON_NYC,\n",
    "    \"country\": \"US\",\n",
    "    \"start_date\": \"2017-10-31\",\n",
    "    \"end_date\": \"2018-10-31\",\n",
    "    \"key\": weather_bit_api_key,\n",
    "}\n",
    "\n",
    "#weather_data_2021\n",
    "weather_data_2018 = requests.get(weather_bit_url, params=parameters_2018)"
   ]
  },
  {
   "cell_type": "markdown",
   "metadata": {},
   "source": []
  },
  {
   "cell_type": "code",
   "execution_count": 10,
   "metadata": {},
   "outputs": [],
   "source": [
    "# weather_data.json()"
   ]
  },
  {
   "cell_type": "code",
   "execution_count": 11,
   "metadata": {},
   "outputs": [],
   "source": [
    "weather_json_2021 = weather_data.json()"
   ]
  },
  {
   "cell_type": "code",
   "execution_count": 12,
   "metadata": {},
   "outputs": [
    {
     "name": "stdout",
     "output_type": "stream",
     "text": [
      "{'clouds': 23, 'datetime': '2020-10-31', 'dewpt': 0, 'dhi': 33.3, 'dni': 280.8, 'ghi': 148.4, 'max_dhi': 101.8, 'max_dni': 829.9, 'max_ghi': 567.6, 'max_temp': 8.6, 'max_temp_ts': 1604196000, 'max_uv': 3.5, 'max_wind_dir': 209, 'max_wind_spd': 3.6, 'max_wind_spd_ts': 1604196000, 'min_temp': 1.7, 'min_temp_ts': 1604134800, 'precip': 0, 'precip_gpm': 0, 'pres': 1031.5, 'revision_status': 'final', 'rh': 71.7, 'slp': 1031.5, 'snow': 0, 'snow_depth': None, 'solar_rad': 146.6, 't_dhi': 798.7, 't_dni': 6740.2, 't_ghi': 3562.5, 't_solar_rad': 3519.2, 'temp': 4.9, 'ts': 1604116800, 'wind_dir': 209, 'wind_gust_spd': 3.9, 'wind_spd': 2.3}\n"
     ]
    },
    {
     "data": {
      "text/plain": [
       "'2020-10-31'"
      ]
     },
     "execution_count": 12,
     "metadata": {},
     "output_type": "execute_result"
    }
   ],
   "source": [
    "print(weather_json_2021['data'][0])\n",
    "\n",
    "date = weather_json_2021['data'][0]['datetime']\n",
    "high_temp = weather_json_2021['data'][0]['max_temp']\n",
    "low_temp = weather_json_2021['data'][0]['min_temp']\n",
    "date"
   ]
  },
  {
   "cell_type": "code",
   "execution_count": 13,
   "metadata": {},
   "outputs": [
    {
     "name": "stdout",
     "output_type": "stream",
     "text": [
      "            High_Temp  Low_Temp\n",
      "Date                           \n",
      "2020-10-31        8.6       1.7\n",
      "2020-11-01       12.8       7.4\n",
      "2020-11-02        7.8       4.6\n",
      "2020-11-03       11.8       5.3\n",
      "2020-11-04       17.6       6.3\n",
      "...               ...       ...\n",
      "2021-10-26       19.2      14.0\n",
      "2021-10-27       16.1      13.0\n",
      "2021-10-28       14.5      10.5\n",
      "2021-10-29       14.0       9.8\n",
      "2021-10-30       18.0      12.3\n",
      "\n",
      "[365 rows x 2 columns]\n"
     ]
    }
   ],
   "source": [
    "weather_df_2021 = pd.DataFrame(columns=['Date', 'High_Temp', 'Low_Temp'])\n",
    "# print(day)\n",
    "# print(high_temp)\n",
    "# print(low_temp)\n",
    "# weather_df.loc[len(weather_df2)] = [day,high_temp,low_temp]\n",
    "\n",
    "\n",
    "for day in range(365):\n",
    "\n",
    "    # Sets the data from the json\n",
    "    date = weather_json_2021['data'][day]['datetime']\n",
    "    high_temp = weather_json_2021['data'][day]['max_temp']\n",
    "    low_temp = weather_json_2021['data'][day]['min_temp']\n",
    "\n",
    "    # Adds the data to the last index\n",
    "    weather_df_2021.loc[len(weather_df_2021)] = [date,high_temp,low_temp]\n",
    "\n",
    "# Set date to index\n",
    "weather_df_2021.set_index('Date', inplace=True)\n",
    "\n",
    "print(weather_df_2021)"
   ]
  },
  {
   "cell_type": "code",
   "execution_count": 18,
   "metadata": {},
   "outputs": [],
   "source": [
    "weather_json_2022 = weather_data_2022.json()\n",
    "weather_json_2020 = weather_data_2020.json()\n",
    "weather_json_2019 = weather_data_2019.json()\n",
    "# weather_json_2018 = weather_data_2018.json()"
   ]
  },
  {
   "cell_type": "code",
   "execution_count": 19,
   "metadata": {},
   "outputs": [
    {
     "name": "stdout",
     "output_type": "stream",
     "text": [
      "            High_Temp  Low_Temp\n",
      "Date                           \n",
      "2021-10-31       17.9      13.3\n",
      "2021-11-01       15.1      12.0\n",
      "2021-11-02       12.0       8.0\n",
      "2021-11-03       11.5       6.3\n",
      "2021-11-04       10.3       5.5\n",
      "...               ...       ...\n",
      "2022-10-26       21.9      16.9\n",
      "2022-10-27       19.2      13.1\n",
      "2022-10-28       14.5       8.6\n",
      "2022-10-29       16.7       8.4\n",
      "2022-10-30       16.2       7.9\n",
      "\n",
      "[365 rows x 2 columns]\n"
     ]
    }
   ],
   "source": [
    "weather_df_2022 = pd.DataFrame(columns=['Date', 'High_Temp', 'Low_Temp'])\n",
    "# print(day)\n",
    "# print(high_temp)\n",
    "# print(low_temp)\n",
    "# weather_df.loc[len(weather_df2)] = [day,high_temp,low_temp]\n",
    "\n",
    "\n",
    "for day in range(365):\n",
    "\n",
    "    # Sets the data from the json\n",
    "    date = weather_json_2022['data'][day]['datetime']\n",
    "    high_temp = weather_json_2022['data'][day]['max_temp']\n",
    "    low_temp = weather_json_2022['data'][day]['min_temp']\n",
    "\n",
    "    # Adds the data to the last index\n",
    "    weather_df_2022.loc[len(weather_df_2022)] = [date,high_temp,low_temp]\n",
    "\n",
    "weather_df_2022.set_index('Date', inplace=True)\n",
    "\n",
    "print(weather_df_2022)"
   ]
  },
  {
   "cell_type": "code",
   "execution_count": null,
   "metadata": {},
   "outputs": [],
   "source": [
    "# weather_json_2022"
   ]
  },
  {
   "cell_type": "code",
   "execution_count": 20,
   "metadata": {},
   "outputs": [
    {
     "name": "stdout",
     "output_type": "stream",
     "text": [
      "            High_Temp  Low_Temp\n",
      "Date                           \n",
      "2019-10-31       21.3      16.3\n",
      "2019-11-01       20.8       7.9\n",
      "2019-11-02       11.2       5.9\n",
      "2019-11-03       11.6       6.3\n",
      "2019-11-04       13.0       6.7\n",
      "...               ...       ...\n",
      "2020-10-25       11.2       8.0\n",
      "2020-10-26       15.1      10.7\n",
      "2020-10-27       15.2      12.0\n",
      "2020-10-28       14.3      11.5\n",
      "2020-10-29       13.7       8.8\n",
      "\n",
      "[365 rows x 2 columns]\n"
     ]
    }
   ],
   "source": [
    "weather_df_2020 = pd.DataFrame(columns=['Date', 'High_Temp', 'Low_Temp'])\n",
    "# print(day)\n",
    "# print(high_temp)\n",
    "# print(low_temp)\n",
    "# weather_df.loc[len(weather_df2)] = [day,high_temp,low_temp]\n",
    "\n",
    "\n",
    "for day in range(365):\n",
    "\n",
    "    # Sets the data from the json\n",
    "    date = weather_json_2020['data'][day]['datetime']\n",
    "    high_temp = weather_json_2020['data'][day]['max_temp']\n",
    "    low_temp = weather_json_2020['data'][day]['min_temp']\n",
    "\n",
    "    # Adds the data to the last index\n",
    "    weather_df_2020.loc[len(weather_df_2020)] = [date,high_temp,low_temp]\n",
    "\n",
    "weather_df_2020.set_index('Date', inplace=True)\n",
    "\n",
    "print(weather_df_2020)"
   ]
  },
  {
   "cell_type": "code",
   "execution_count": 21,
   "metadata": {},
   "outputs": [
    {
     "name": "stdout",
     "output_type": "stream",
     "text": [
      "            High_Temp  Low_Temp\n",
      "Date                           \n",
      "2018-10-31       17.5       7.3\n",
      "2018-11-01       19.9      13.3\n",
      "2018-11-02       20.4      17.6\n",
      "2018-11-03       18.9      10.6\n",
      "2018-11-04       13.5       7.6\n",
      "...               ...       ...\n",
      "2019-10-26       16.4      12.8\n",
      "2019-10-27       19.1      14.0\n",
      "2019-10-28       16.6      14.2\n",
      "2019-10-29       15.3      12.4\n",
      "2019-10-30       17.6      15.1\n",
      "\n",
      "[365 rows x 2 columns]\n"
     ]
    }
   ],
   "source": [
    "weather_df_2019 = pd.DataFrame(columns=['Date', 'High_Temp', 'Low_Temp'])\n",
    "# print(day)\n",
    "# print(high_temp)\n",
    "# print(low_temp)\n",
    "# weather_df.loc[len(weather_df2)] = [day,high_temp,low_temp]\n",
    "\n",
    "\n",
    "for day in range(365):\n",
    "\n",
    "    # Sets the data from the json\n",
    "    date = weather_json_2019['data'][day]['datetime']\n",
    "    high_temp = weather_json_2019['data'][day]['max_temp']\n",
    "    low_temp = weather_json_2019['data'][day]['min_temp']\n",
    "\n",
    "    # Adds the data to the last index\n",
    "    weather_df_2019.loc[len(weather_df_2019)] = [date,high_temp,low_temp]\n",
    "\n",
    "weather_df_2019.set_index('Date', inplace=True)\n",
    "\n",
    "\n",
    "print(weather_df_2019)"
   ]
  },
  {
   "cell_type": "code",
   "execution_count": null,
   "metadata": {},
   "outputs": [
    {
     "ename": "KeyError",
     "evalue": "'data'",
     "output_type": "error",
     "traceback": [
      "\u001b[1;31m---------------------------------------------------------------------------\u001b[0m",
      "\u001b[1;31mKeyError\u001b[0m                                  Traceback (most recent call last)",
      "\u001b[1;32m~\\AppData\\Local\\Temp\\ipykernel_6000\\1984820239.py\u001b[0m in \u001b[0;36m<module>\u001b[1;34m\u001b[0m\n\u001b[0;32m      9\u001b[0m \u001b[1;33m\u001b[0m\u001b[0m\n\u001b[0;32m     10\u001b[0m     \u001b[1;31m# Sets the data from the json\u001b[0m\u001b[1;33m\u001b[0m\u001b[1;33m\u001b[0m\u001b[1;33m\u001b[0m\u001b[0m\n\u001b[1;32m---> 11\u001b[1;33m     \u001b[0mdate\u001b[0m \u001b[1;33m=\u001b[0m \u001b[0mweather_json_2018\u001b[0m\u001b[1;33m[\u001b[0m\u001b[1;34m'data'\u001b[0m\u001b[1;33m]\u001b[0m\u001b[1;33m[\u001b[0m\u001b[0mday\u001b[0m\u001b[1;33m]\u001b[0m\u001b[1;33m[\u001b[0m\u001b[1;34m'datetime'\u001b[0m\u001b[1;33m]\u001b[0m\u001b[1;33m\u001b[0m\u001b[1;33m\u001b[0m\u001b[0m\n\u001b[0m\u001b[0;32m     12\u001b[0m     \u001b[0mhigh_temp\u001b[0m \u001b[1;33m=\u001b[0m \u001b[0mweather_json_2018\u001b[0m\u001b[1;33m[\u001b[0m\u001b[1;34m'data'\u001b[0m\u001b[1;33m]\u001b[0m\u001b[1;33m[\u001b[0m\u001b[0mday\u001b[0m\u001b[1;33m]\u001b[0m\u001b[1;33m[\u001b[0m\u001b[1;34m'max_temp'\u001b[0m\u001b[1;33m]\u001b[0m\u001b[1;33m\u001b[0m\u001b[1;33m\u001b[0m\u001b[0m\n\u001b[0;32m     13\u001b[0m     \u001b[0mlow_temp\u001b[0m \u001b[1;33m=\u001b[0m \u001b[0mweather_json_2018\u001b[0m\u001b[1;33m[\u001b[0m\u001b[1;34m'data'\u001b[0m\u001b[1;33m]\u001b[0m\u001b[1;33m[\u001b[0m\u001b[0mday\u001b[0m\u001b[1;33m]\u001b[0m\u001b[1;33m[\u001b[0m\u001b[1;34m'min_temp'\u001b[0m\u001b[1;33m]\u001b[0m\u001b[1;33m\u001b[0m\u001b[1;33m\u001b[0m\u001b[0m\n",
      "\u001b[1;31mKeyError\u001b[0m: 'data'"
     ]
    }
   ],
   "source": [
    "weather_df_2018 = pd.DataFrame(columns=['Date', 'High_Temp', 'Low_Temp'])\n",
    "# print(day)\n",
    "# print(high_temp)\n",
    "# print(low_temp)\n",
    "# weather_df.loc[len(weather_df2)] = [day,high_temp,low_temp]\n",
    "\n",
    "\n",
    "for day in range(365):\n",
    "\n",
    "    # Sets the data from the json\n",
    "    date = weather_json_2018['data'][day]['datetime']\n",
    "    high_temp = weather_json_2018['data'][day]['max_temp']\n",
    "    low_temp = weather_json_2018['data'][day]['min_temp']\n",
    "\n",
    "    # Adds the data to the last index\n",
    "    weather_df_2018.loc[len(weather_df_2018)] = [date,high_temp,low_temp]\n",
    "\n",
    "print(weather_df_2018)"
   ]
  },
  {
   "cell_type": "code",
   "execution_count": null,
   "metadata": {},
   "outputs": [
    {
     "data": {
      "text/plain": [
       "{'status_code': 429, 'status_message': 'Your request count (1826) is over the allowed limit of 1500 per day - Upgrade your key, or retry after 1286.9333333333 minutes'}"
      ]
     },
     "execution_count": 86,
     "metadata": {},
     "output_type": "execute_result"
    }
   ],
   "source": [
    "weather_json_2018"
   ]
  },
  {
   "cell_type": "code",
   "execution_count": 22,
   "metadata": {},
   "outputs": [
    {
     "data": {
      "text/html": [
       "<div>\n",
       "<style scoped>\n",
       "    .dataframe tbody tr th:only-of-type {\n",
       "        vertical-align: middle;\n",
       "    }\n",
       "\n",
       "    .dataframe tbody tr th {\n",
       "        vertical-align: top;\n",
       "    }\n",
       "\n",
       "    .dataframe thead th {\n",
       "        text-align: right;\n",
       "    }\n",
       "</style>\n",
       "<table border=\"1\" class=\"dataframe\">\n",
       "  <thead>\n",
       "    <tr style=\"text-align: right;\">\n",
       "      <th></th>\n",
       "      <th>High_Temp</th>\n",
       "      <th>Low_Temp</th>\n",
       "    </tr>\n",
       "    <tr>\n",
       "      <th>Date</th>\n",
       "      <th></th>\n",
       "      <th></th>\n",
       "    </tr>\n",
       "  </thead>\n",
       "  <tbody>\n",
       "    <tr>\n",
       "      <th>2018-10-31</th>\n",
       "      <td>17.5</td>\n",
       "      <td>7.3</td>\n",
       "    </tr>\n",
       "    <tr>\n",
       "      <th>2018-11-01</th>\n",
       "      <td>19.9</td>\n",
       "      <td>13.3</td>\n",
       "    </tr>\n",
       "    <tr>\n",
       "      <th>2018-11-02</th>\n",
       "      <td>20.4</td>\n",
       "      <td>17.6</td>\n",
       "    </tr>\n",
       "    <tr>\n",
       "      <th>2018-11-03</th>\n",
       "      <td>18.9</td>\n",
       "      <td>10.6</td>\n",
       "    </tr>\n",
       "    <tr>\n",
       "      <th>2018-11-04</th>\n",
       "      <td>13.5</td>\n",
       "      <td>7.6</td>\n",
       "    </tr>\n",
       "    <tr>\n",
       "      <th>...</th>\n",
       "      <td>...</td>\n",
       "      <td>...</td>\n",
       "    </tr>\n",
       "    <tr>\n",
       "      <th>2022-10-26</th>\n",
       "      <td>21.9</td>\n",
       "      <td>16.9</td>\n",
       "    </tr>\n",
       "    <tr>\n",
       "      <th>2022-10-27</th>\n",
       "      <td>19.2</td>\n",
       "      <td>13.1</td>\n",
       "    </tr>\n",
       "    <tr>\n",
       "      <th>2022-10-28</th>\n",
       "      <td>14.5</td>\n",
       "      <td>8.6</td>\n",
       "    </tr>\n",
       "    <tr>\n",
       "      <th>2022-10-29</th>\n",
       "      <td>16.7</td>\n",
       "      <td>8.4</td>\n",
       "    </tr>\n",
       "    <tr>\n",
       "      <th>2022-10-30</th>\n",
       "      <td>16.2</td>\n",
       "      <td>7.9</td>\n",
       "    </tr>\n",
       "  </tbody>\n",
       "</table>\n",
       "<p>1460 rows × 2 columns</p>\n",
       "</div>"
      ],
      "text/plain": [
       "            High_Temp  Low_Temp\n",
       "Date                           \n",
       "2018-10-31       17.5       7.3\n",
       "2018-11-01       19.9      13.3\n",
       "2018-11-02       20.4      17.6\n",
       "2018-11-03       18.9      10.6\n",
       "2018-11-04       13.5       7.6\n",
       "...               ...       ...\n",
       "2022-10-26       21.9      16.9\n",
       "2022-10-27       19.2      13.1\n",
       "2022-10-28       14.5       8.6\n",
       "2022-10-29       16.7       8.4\n",
       "2022-10-30       16.2       7.9\n",
       "\n",
       "[1460 rows x 2 columns]"
      ]
     },
     "metadata": {},
     "output_type": "display_data"
    }
   ],
   "source": [
    "all_weather_df = pd.concat([weather_df_2019, weather_df_2020, weather_df_2021, weather_df_2022], axis=0)\n",
    "\n",
    "display(all_weather_df)"
   ]
  },
  {
   "cell_type": "code",
   "execution_count": 24,
   "metadata": {},
   "outputs": [],
   "source": [
    "all_weather_df.to_csv(\"weather_data_4years.csv\")"
   ]
  },
  {
   "cell_type": "code",
   "execution_count": null,
   "metadata": {},
   "outputs": [],
   "source": []
  }
 ],
 "metadata": {
  "kernelspec": {
   "display_name": "Python 3.7.13 ('dev2')",
   "language": "python",
   "name": "python3"
  },
  "language_info": {
   "codemirror_mode": {
    "name": "ipython",
    "version": 3
   },
   "file_extension": ".py",
   "mimetype": "text/x-python",
   "name": "python",
   "nbconvert_exporter": "python",
   "pygments_lexer": "ipython3",
   "version": "3.7.13"
  },
  "orig_nbformat": 4,
  "vscode": {
   "interpreter": {
    "hash": "9f86eaf97d5adb0f9d8b12aa02b47d3ba426422a6929e8778e44aa4f7b06c679"
   }
  }
 },
 "nbformat": 4,
 "nbformat_minor": 2
}
